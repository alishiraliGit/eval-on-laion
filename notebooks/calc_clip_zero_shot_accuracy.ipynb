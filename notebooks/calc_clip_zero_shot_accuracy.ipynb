{
 "cells": [
  {
   "cell_type": "code",
   "execution_count": 1,
   "id": "f5f5c830",
   "metadata": {},
   "outputs": [],
   "source": [
    "import os\n",
    "\n",
    "os.chdir('..')"
   ]
  },
  {
   "cell_type": "code",
   "execution_count": 2,
   "id": "4386bdb6",
   "metadata": {},
   "outputs": [
    {
     "name": "stderr",
     "output_type": "stream",
     "text": [
      "[nltk_data] Downloading package wordnet to /Users/alishri/nltk_data...\n",
      "[nltk_data]   Package wordnet is already up-to-date!\n"
     ]
    }
   ],
   "source": [
    "import pickle\n",
    "import numpy as np\n",
    "import pandas as pd\n",
    "from matplotlib import pyplot as plt\n",
    "from tqdm import tqdm\n",
    "from scipy.stats import ttest_ind\n",
    "\n",
    "import configs\n",
    "from utils.ilsvrc_utils import load_lemmas_and_wnids\n",
    "from core.queries import QueryType"
   ]
  },
  {
   "cell_type": "markdown",
   "id": "e06cd7b3",
   "metadata": {},
   "source": [
    "# Settings"
   ]
  },
  {
   "cell_type": "code",
   "execution_count": 3,
   "id": "c55e7c72",
   "metadata": {},
   "outputs": [],
   "source": [
    "synsets_path = os.path.join('ilsvrc2012', 'ILSVRC2012_synsets.txt')\n",
    "\n",
    "ival_all_path = os.path.join('ilsvrc2012', 'ILSVRC2012_val_with_sims_to_all_queries.parquet')\n",
    "ival_imagename2wnid_path = os.path.join('ilsvrc2012', 'processed', 'labels', 'imagename2wnid.pkl')\n",
    "\n",
    "sm_all_path = os.path.join('laion400m', 'subset_sm_filt_part-00000-to-part00031-5b54c5d5-bbcf-484d-a2ce-0d6f73df1a36-c000.snappy.with_sims_to_all_queries.parquet')\n",
    "sm_wnid2laionindices_path = os.path.join('laion400m', 'processed', 'ilsvrc_labels', 'wnid2laionindices(substring_matched).pkl')\n"
   ]
  },
  {
   "cell_type": "markdown",
   "id": "26c25c27",
   "metadata": {},
   "source": [
    "# Load"
   ]
  },
  {
   "cell_type": "code",
   "execution_count": 4,
   "id": "e801eec4",
   "metadata": {},
   "outputs": [],
   "source": [
    "id_lemmas_df = load_lemmas_and_wnids(synsets_path)\n",
    "all_wnids = id_lemmas_df[configs.ILSVRCConfigs.WNID_COL].tolist()"
   ]
  },
  {
   "cell_type": "code",
   "execution_count": 5,
   "id": "11431d20",
   "metadata": {},
   "outputs": [],
   "source": [
    "query_type = QueryType.NAME_DEF\n",
    "image_to_query_sim_cols = [f'image_to_{query_type}_{wnid}_similarity' for wnid in all_wnids]"
   ]
  },
  {
   "cell_type": "markdown",
   "id": "b3a63b32",
   "metadata": {},
   "source": [
    "## ILSVRC val."
   ]
  },
  {
   "cell_type": "code",
   "execution_count": 6,
   "id": "80039adf",
   "metadata": {},
   "outputs": [
    {
     "data": {
      "text/html": [
       "<div>\n",
       "<style scoped>\n",
       "    .dataframe tbody tr th:only-of-type {\n",
       "        vertical-align: middle;\n",
       "    }\n",
       "\n",
       "    .dataframe tbody tr th {\n",
       "        vertical-align: top;\n",
       "    }\n",
       "\n",
       "    .dataframe thead th {\n",
       "        text-align: right;\n",
       "    }\n",
       "</style>\n",
       "<table border=\"1\" class=\"dataframe\">\n",
       "  <thead>\n",
       "    <tr style=\"text-align: right;\">\n",
       "      <th></th>\n",
       "      <th>image_to_name_def_wnid_similarity</th>\n",
       "      <th>name_def_wnid</th>\n",
       "      <th>image_to_name_def_n02119789_similarity</th>\n",
       "      <th>image_to_name_def_n02100735_similarity</th>\n",
       "      <th>image_to_name_def_n02096294_similarity</th>\n",
       "      <th>image_to_name_def_n02066245_similarity</th>\n",
       "      <th>image_to_name_def_n02509815_similarity</th>\n",
       "      <th>image_to_name_def_n02124075_similarity</th>\n",
       "      <th>image_to_name_def_n02417914_similarity</th>\n",
       "      <th>image_to_name_def_n02123394_similarity</th>\n",
       "      <th>...</th>\n",
       "      <th>image_to_name_def_n02091032_similarity</th>\n",
       "      <th>image_to_name_def_n02102318_similarity</th>\n",
       "      <th>image_to_name_def_n02102480_similarity</th>\n",
       "      <th>image_to_name_def_n02113023_similarity</th>\n",
       "      <th>image_to_name_def_n02086646_similarity</th>\n",
       "      <th>image_to_name_def_n02091244_similarity</th>\n",
       "      <th>image_to_name_def_n02089973_similarity</th>\n",
       "      <th>image_to_name_def_n02105251_similarity</th>\n",
       "      <th>image_to_name_def_n02093754_similarity</th>\n",
       "      <th>image_to_name_def_n02112837_similarity</th>\n",
       "    </tr>\n",
       "  </thead>\n",
       "  <tbody>\n",
       "    <tr>\n",
       "      <th>ILSVRC2012_val_00049998.JPEG</th>\n",
       "      <td>0.305767</td>\n",
       "      <td>border collie which is developed in the area b...</td>\n",
       "      <td>0.138302</td>\n",
       "      <td>0.246813</td>\n",
       "      <td>0.247308</td>\n",
       "      <td>0.134085</td>\n",
       "      <td>0.200509</td>\n",
       "      <td>0.168506</td>\n",
       "      <td>0.147550</td>\n",
       "      <td>0.179165</td>\n",
       "      <td>...</td>\n",
       "      <td>0.215594</td>\n",
       "      <td>0.282757</td>\n",
       "      <td>0.258892</td>\n",
       "      <td>0.240892</td>\n",
       "      <td>0.257333</td>\n",
       "      <td>0.179725</td>\n",
       "      <td>0.206783</td>\n",
       "      <td>0.218545</td>\n",
       "      <td>0.229970</td>\n",
       "      <td>0.238090</td>\n",
       "    </tr>\n",
       "    <tr>\n",
       "      <th>ILSVRC2012_val_00049999.JPEG</th>\n",
       "      <td>0.251934</td>\n",
       "      <td>groom which is a man participant in his own ma...</td>\n",
       "      <td>0.118232</td>\n",
       "      <td>0.132067</td>\n",
       "      <td>0.152642</td>\n",
       "      <td>0.155238</td>\n",
       "      <td>0.137646</td>\n",
       "      <td>0.136158</td>\n",
       "      <td>0.125604</td>\n",
       "      <td>0.127281</td>\n",
       "      <td>...</td>\n",
       "      <td>0.119343</td>\n",
       "      <td>0.146666</td>\n",
       "      <td>0.135072</td>\n",
       "      <td>0.176463</td>\n",
       "      <td>0.144976</td>\n",
       "      <td>0.097629</td>\n",
       "      <td>0.088823</td>\n",
       "      <td>0.096429</td>\n",
       "      <td>0.126895</td>\n",
       "      <td>0.137543</td>\n",
       "    </tr>\n",
       "    <tr>\n",
       "      <th>ILSVRC2012_val_00050000.JPEG</th>\n",
       "      <td>0.303315</td>\n",
       "      <td>llama which is wild or domesticated South Amer...</td>\n",
       "      <td>0.159888</td>\n",
       "      <td>0.202337</td>\n",
       "      <td>0.180610</td>\n",
       "      <td>0.136022</td>\n",
       "      <td>0.183448</td>\n",
       "      <td>0.188246</td>\n",
       "      <td>0.207823</td>\n",
       "      <td>0.171643</td>\n",
       "      <td>...</td>\n",
       "      <td>0.186493</td>\n",
       "      <td>0.166586</td>\n",
       "      <td>0.146073</td>\n",
       "      <td>0.208571</td>\n",
       "      <td>0.134718</td>\n",
       "      <td>0.162419</td>\n",
       "      <td>0.163280</td>\n",
       "      <td>0.137265</td>\n",
       "      <td>0.166315</td>\n",
       "      <td>0.195556</td>\n",
       "    </tr>\n",
       "  </tbody>\n",
       "</table>\n",
       "<p>3 rows × 1001 columns</p>\n",
       "</div>"
      ],
      "text/plain": [
       "                              image_to_name_def_wnid_similarity  \\\n",
       "ILSVRC2012_val_00049998.JPEG                           0.305767   \n",
       "ILSVRC2012_val_00049999.JPEG                           0.251934   \n",
       "ILSVRC2012_val_00050000.JPEG                           0.303315   \n",
       "\n",
       "                                                                  name_def_wnid  \\\n",
       "ILSVRC2012_val_00049998.JPEG  border collie which is developed in the area b...   \n",
       "ILSVRC2012_val_00049999.JPEG  groom which is a man participant in his own ma...   \n",
       "ILSVRC2012_val_00050000.JPEG  llama which is wild or domesticated South Amer...   \n",
       "\n",
       "                              image_to_name_def_n02119789_similarity  \\\n",
       "ILSVRC2012_val_00049998.JPEG                                0.138302   \n",
       "ILSVRC2012_val_00049999.JPEG                                0.118232   \n",
       "ILSVRC2012_val_00050000.JPEG                                0.159888   \n",
       "\n",
       "                              image_to_name_def_n02100735_similarity  \\\n",
       "ILSVRC2012_val_00049998.JPEG                                0.246813   \n",
       "ILSVRC2012_val_00049999.JPEG                                0.132067   \n",
       "ILSVRC2012_val_00050000.JPEG                                0.202337   \n",
       "\n",
       "                              image_to_name_def_n02096294_similarity  \\\n",
       "ILSVRC2012_val_00049998.JPEG                                0.247308   \n",
       "ILSVRC2012_val_00049999.JPEG                                0.152642   \n",
       "ILSVRC2012_val_00050000.JPEG                                0.180610   \n",
       "\n",
       "                              image_to_name_def_n02066245_similarity  \\\n",
       "ILSVRC2012_val_00049998.JPEG                                0.134085   \n",
       "ILSVRC2012_val_00049999.JPEG                                0.155238   \n",
       "ILSVRC2012_val_00050000.JPEG                                0.136022   \n",
       "\n",
       "                              image_to_name_def_n02509815_similarity  \\\n",
       "ILSVRC2012_val_00049998.JPEG                                0.200509   \n",
       "ILSVRC2012_val_00049999.JPEG                                0.137646   \n",
       "ILSVRC2012_val_00050000.JPEG                                0.183448   \n",
       "\n",
       "                              image_to_name_def_n02124075_similarity  \\\n",
       "ILSVRC2012_val_00049998.JPEG                                0.168506   \n",
       "ILSVRC2012_val_00049999.JPEG                                0.136158   \n",
       "ILSVRC2012_val_00050000.JPEG                                0.188246   \n",
       "\n",
       "                              image_to_name_def_n02417914_similarity  \\\n",
       "ILSVRC2012_val_00049998.JPEG                                0.147550   \n",
       "ILSVRC2012_val_00049999.JPEG                                0.125604   \n",
       "ILSVRC2012_val_00050000.JPEG                                0.207823   \n",
       "\n",
       "                              image_to_name_def_n02123394_similarity  ...  \\\n",
       "ILSVRC2012_val_00049998.JPEG                                0.179165  ...   \n",
       "ILSVRC2012_val_00049999.JPEG                                0.127281  ...   \n",
       "ILSVRC2012_val_00050000.JPEG                                0.171643  ...   \n",
       "\n",
       "                              image_to_name_def_n02091032_similarity  \\\n",
       "ILSVRC2012_val_00049998.JPEG                                0.215594   \n",
       "ILSVRC2012_val_00049999.JPEG                                0.119343   \n",
       "ILSVRC2012_val_00050000.JPEG                                0.186493   \n",
       "\n",
       "                              image_to_name_def_n02102318_similarity  \\\n",
       "ILSVRC2012_val_00049998.JPEG                                0.282757   \n",
       "ILSVRC2012_val_00049999.JPEG                                0.146666   \n",
       "ILSVRC2012_val_00050000.JPEG                                0.166586   \n",
       "\n",
       "                              image_to_name_def_n02102480_similarity  \\\n",
       "ILSVRC2012_val_00049998.JPEG                                0.258892   \n",
       "ILSVRC2012_val_00049999.JPEG                                0.135072   \n",
       "ILSVRC2012_val_00050000.JPEG                                0.146073   \n",
       "\n",
       "                              image_to_name_def_n02113023_similarity  \\\n",
       "ILSVRC2012_val_00049998.JPEG                                0.240892   \n",
       "ILSVRC2012_val_00049999.JPEG                                0.176463   \n",
       "ILSVRC2012_val_00050000.JPEG                                0.208571   \n",
       "\n",
       "                              image_to_name_def_n02086646_similarity  \\\n",
       "ILSVRC2012_val_00049998.JPEG                                0.257333   \n",
       "ILSVRC2012_val_00049999.JPEG                                0.144976   \n",
       "ILSVRC2012_val_00050000.JPEG                                0.134718   \n",
       "\n",
       "                              image_to_name_def_n02091244_similarity  \\\n",
       "ILSVRC2012_val_00049998.JPEG                                0.179725   \n",
       "ILSVRC2012_val_00049999.JPEG                                0.097629   \n",
       "ILSVRC2012_val_00050000.JPEG                                0.162419   \n",
       "\n",
       "                              image_to_name_def_n02089973_similarity  \\\n",
       "ILSVRC2012_val_00049998.JPEG                                0.206783   \n",
       "ILSVRC2012_val_00049999.JPEG                                0.088823   \n",
       "ILSVRC2012_val_00050000.JPEG                                0.163280   \n",
       "\n",
       "                              image_to_name_def_n02105251_similarity  \\\n",
       "ILSVRC2012_val_00049998.JPEG                                0.218545   \n",
       "ILSVRC2012_val_00049999.JPEG                                0.096429   \n",
       "ILSVRC2012_val_00050000.JPEG                                0.137265   \n",
       "\n",
       "                              image_to_name_def_n02093754_similarity  \\\n",
       "ILSVRC2012_val_00049998.JPEG                                0.229970   \n",
       "ILSVRC2012_val_00049999.JPEG                                0.126895   \n",
       "ILSVRC2012_val_00050000.JPEG                                0.166315   \n",
       "\n",
       "                              image_to_name_def_n02112837_similarity  \n",
       "ILSVRC2012_val_00049998.JPEG                                0.238090  \n",
       "ILSVRC2012_val_00049999.JPEG                                0.137543  \n",
       "ILSVRC2012_val_00050000.JPEG                                0.195556  \n",
       "\n",
       "[3 rows x 1001 columns]"
      ]
     },
     "execution_count": 6,
     "metadata": {},
     "output_type": "execute_result"
    }
   ],
   "source": [
    "ival_df = pd.read_parquet(ival_all_path)\n",
    "\n",
    "ival_df.tail(3)"
   ]
  },
  {
   "cell_type": "code",
   "execution_count": 7,
   "id": "9b0fe865",
   "metadata": {},
   "outputs": [],
   "source": [
    "with open(ival_imagename2wnid_path, 'rb') as f:\n",
    "    ival_imagename2wnid = pickle.load(f)"
   ]
  },
  {
   "cell_type": "markdown",
   "id": "450e2c93",
   "metadata": {},
   "source": [
    "## Substring matched"
   ]
  },
  {
   "cell_type": "code",
   "execution_count": 8,
   "id": "72243ea2",
   "metadata": {},
   "outputs": [
    {
     "data": {
      "text/html": [
       "<div>\n",
       "<style scoped>\n",
       "    .dataframe tbody tr th:only-of-type {\n",
       "        vertical-align: middle;\n",
       "    }\n",
       "\n",
       "    .dataframe tbody tr th {\n",
       "        vertical-align: top;\n",
       "    }\n",
       "\n",
       "    .dataframe thead th {\n",
       "        text-align: right;\n",
       "    }\n",
       "</style>\n",
       "<table border=\"1\" class=\"dataframe\">\n",
       "  <thead>\n",
       "    <tr style=\"text-align: right;\">\n",
       "      <th></th>\n",
       "      <th>SAMPLE_ID</th>\n",
       "      <th>URL</th>\n",
       "      <th>TEXT</th>\n",
       "      <th>HEIGHT</th>\n",
       "      <th>WIDTH</th>\n",
       "      <th>LICENSE</th>\n",
       "      <th>NSFW</th>\n",
       "      <th>similarity</th>\n",
       "      <th>a_photo_of_name_def_wnid</th>\n",
       "      <th>text_to_a_photo_of_name_def_wnid_similarity</th>\n",
       "      <th>...</th>\n",
       "      <th>image_to_name_def_n02091032_similarity</th>\n",
       "      <th>image_to_name_def_n02102318_similarity</th>\n",
       "      <th>image_to_name_def_n02102480_similarity</th>\n",
       "      <th>image_to_name_def_n02113023_similarity</th>\n",
       "      <th>image_to_name_def_n02086646_similarity</th>\n",
       "      <th>image_to_name_def_n02091244_similarity</th>\n",
       "      <th>image_to_name_def_n02089973_similarity</th>\n",
       "      <th>image_to_name_def_n02105251_similarity</th>\n",
       "      <th>image_to_name_def_n02093754_similarity</th>\n",
       "      <th>image_to_name_def_n02112837_similarity</th>\n",
       "    </tr>\n",
       "  </thead>\n",
       "  <tbody>\n",
       "    <tr>\n",
       "      <th>1200056513</th>\n",
       "      <td>4.745710e+11</td>\n",
       "      <td>https://t1.ftcdn.net/jpg/00/75/08/12/240_F_750...</td>\n",
       "      <td>Colorful patchwork quilt pattern</td>\n",
       "      <td>373.0</td>\n",
       "      <td>240.0</td>\n",
       "      <td>?</td>\n",
       "      <td>UNLIKELY</td>\n",
       "      <td>0.328658</td>\n",
       "      <td>a photo of quilt which is bedding made of two ...</td>\n",
       "      <td>0.805882</td>\n",
       "      <td>...</td>\n",
       "      <td>0.189664</td>\n",
       "      <td>0.176326</td>\n",
       "      <td>0.154112</td>\n",
       "      <td>0.191197</td>\n",
       "      <td>0.178234</td>\n",
       "      <td>0.183370</td>\n",
       "      <td>0.165788</td>\n",
       "      <td>0.161583</td>\n",
       "      <td>0.172031</td>\n",
       "      <td>0.159105</td>\n",
       "    </tr>\n",
       "    <tr>\n",
       "      <th>1200090089</th>\n",
       "      <td>1.129810e+11</td>\n",
       "      <td>https://farm6.staticflickr.com/5132/5411062185...</td>\n",
       "      <td>basket quilt top</td>\n",
       "      <td>320.0</td>\n",
       "      <td>285.0</td>\n",
       "      <td>?</td>\n",
       "      <td>UNLIKELY</td>\n",
       "      <td>0.310124</td>\n",
       "      <td>a photo of quilt which is bedding made of two ...</td>\n",
       "      <td>0.823052</td>\n",
       "      <td>...</td>\n",
       "      <td>0.178007</td>\n",
       "      <td>0.145943</td>\n",
       "      <td>0.141396</td>\n",
       "      <td>0.165080</td>\n",
       "      <td>0.152947</td>\n",
       "      <td>0.123716</td>\n",
       "      <td>0.178731</td>\n",
       "      <td>0.149959</td>\n",
       "      <td>0.165871</td>\n",
       "      <td>0.157002</td>\n",
       "    </tr>\n",
       "    <tr>\n",
       "      <th>1200091068</th>\n",
       "      <td>4.145784e+12</td>\n",
       "      <td>https://theplaidporticodotcom4.files.wordpress...</td>\n",
       "      <td>QuiltCon charity quilt</td>\n",
       "      <td>584.0</td>\n",
       "      <td>820.0</td>\n",
       "      <td>?</td>\n",
       "      <td>UNLIKELY</td>\n",
       "      <td>0.307640</td>\n",
       "      <td>a photo of quilt which is bedding made of two ...</td>\n",
       "      <td>0.846488</td>\n",
       "      <td>...</td>\n",
       "      <td>NaN</td>\n",
       "      <td>NaN</td>\n",
       "      <td>NaN</td>\n",
       "      <td>NaN</td>\n",
       "      <td>NaN</td>\n",
       "      <td>NaN</td>\n",
       "      <td>NaN</td>\n",
       "      <td>NaN</td>\n",
       "      <td>NaN</td>\n",
       "      <td>NaN</td>\n",
       "    </tr>\n",
       "  </tbody>\n",
       "</table>\n",
       "<p>3 rows × 2014 columns</p>\n",
       "</div>"
      ],
      "text/plain": [
       "               SAMPLE_ID                                                URL  \\\n",
       "1200056513  4.745710e+11  https://t1.ftcdn.net/jpg/00/75/08/12/240_F_750...   \n",
       "1200090089  1.129810e+11  https://farm6.staticflickr.com/5132/5411062185...   \n",
       "1200091068  4.145784e+12  https://theplaidporticodotcom4.files.wordpress...   \n",
       "\n",
       "                                        TEXT  HEIGHT  WIDTH LICENSE      NSFW  \\\n",
       "1200056513  Colorful patchwork quilt pattern   373.0  240.0       ?  UNLIKELY   \n",
       "1200090089                  basket quilt top   320.0  285.0       ?  UNLIKELY   \n",
       "1200091068            QuiltCon charity quilt   584.0  820.0       ?  UNLIKELY   \n",
       "\n",
       "            similarity                           a_photo_of_name_def_wnid  \\\n",
       "1200056513    0.328658  a photo of quilt which is bedding made of two ...   \n",
       "1200090089    0.310124  a photo of quilt which is bedding made of two ...   \n",
       "1200091068    0.307640  a photo of quilt which is bedding made of two ...   \n",
       "\n",
       "            text_to_a_photo_of_name_def_wnid_similarity  ...  \\\n",
       "1200056513                                     0.805882  ...   \n",
       "1200090089                                     0.823052  ...   \n",
       "1200091068                                     0.846488  ...   \n",
       "\n",
       "           image_to_name_def_n02091032_similarity  \\\n",
       "1200056513                               0.189664   \n",
       "1200090089                               0.178007   \n",
       "1200091068                                    NaN   \n",
       "\n",
       "            image_to_name_def_n02102318_similarity  \\\n",
       "1200056513                                0.176326   \n",
       "1200090089                                0.145943   \n",
       "1200091068                                     NaN   \n",
       "\n",
       "           image_to_name_def_n02102480_similarity  \\\n",
       "1200056513                               0.154112   \n",
       "1200090089                               0.141396   \n",
       "1200091068                                    NaN   \n",
       "\n",
       "            image_to_name_def_n02113023_similarity  \\\n",
       "1200056513                                0.191197   \n",
       "1200090089                                0.165080   \n",
       "1200091068                                     NaN   \n",
       "\n",
       "            image_to_name_def_n02086646_similarity  \\\n",
       "1200056513                                0.178234   \n",
       "1200090089                                0.152947   \n",
       "1200091068                                     NaN   \n",
       "\n",
       "            image_to_name_def_n02091244_similarity  \\\n",
       "1200056513                                0.183370   \n",
       "1200090089                                0.123716   \n",
       "1200091068                                     NaN   \n",
       "\n",
       "            image_to_name_def_n02089973_similarity  \\\n",
       "1200056513                                0.165788   \n",
       "1200090089                                0.178731   \n",
       "1200091068                                     NaN   \n",
       "\n",
       "            image_to_name_def_n02105251_similarity  \\\n",
       "1200056513                                0.161583   \n",
       "1200090089                                0.149959   \n",
       "1200091068                                     NaN   \n",
       "\n",
       "            image_to_name_def_n02093754_similarity  \\\n",
       "1200056513                                0.172031   \n",
       "1200090089                                0.165871   \n",
       "1200091068                                     NaN   \n",
       "\n",
       "            image_to_name_def_n02112837_similarity  \n",
       "1200056513                                0.159105  \n",
       "1200090089                                0.157002  \n",
       "1200091068                                     NaN  \n",
       "\n",
       "[3 rows x 2014 columns]"
      ]
     },
     "execution_count": 8,
     "metadata": {},
     "output_type": "execute_result"
    }
   ],
   "source": [
    "sm_df = pd.read_parquet(sm_all_path)\n",
    "\n",
    "sm_df.head(3)"
   ]
  },
  {
   "cell_type": "code",
   "execution_count": 9,
   "id": "1bcdca19",
   "metadata": {},
   "outputs": [],
   "source": [
    "with open(sm_wnid2laionindices_path, 'rb') as f:\n",
    "    sm_wnid2laionindices = pickle.load(f)\n",
    "    \n",
    "# Find the inverse map\n",
    "sm_laionindex2wnid = {}\n",
    "for wnid, laion_indices in sm_wnid2laionindices.items():\n",
    "    for laion_index in laion_indices:\n",
    "        assert laion_index not in sm_laionindex2wnid\n",
    "\n",
    "        sm_laionindex2wnid[laion_index] = wnid"
   ]
  },
  {
   "cell_type": "markdown",
   "id": "0c514bf5",
   "metadata": {},
   "source": [
    "# Calc. ILSVRC val. accuracy"
   ]
  },
  {
   "cell_type": "code",
   "execution_count": 10,
   "id": "eb857a9f",
   "metadata": {},
   "outputs": [
    {
     "name": "stdout",
     "output_type": "stream",
     "text": [
      "(50000, 999)\n"
     ]
    }
   ],
   "source": [
    "ival_image_names = [image_name for image_name in ival_imagename2wnid]\n",
    "\n",
    "ival_sim_mat = np.array(ival_df.loc[ival_image_names, image_to_query_sim_cols].values.tolist())\n",
    "\n",
    "print(ival_sim_mat.shape)"
   ]
  },
  {
   "cell_type": "code",
   "execution_count": 11,
   "id": "46ec6f96",
   "metadata": {},
   "outputs": [
    {
     "name": "stderr",
     "output_type": "stream",
     "text": [
      "100%|██████████████████████████████████████████████████████████████████████████████████████████████| 50000/50000 [00:04<00:00, 11047.76it/s]\n"
     ]
    }
   ],
   "source": [
    "ival_wnid2top1arecorrect = {}\n",
    "ival_wnid2top5arecorrect = {}\n",
    "\n",
    "for i_i, image_name in enumerate(tqdm(ival_image_names)):\n",
    "    wnid = ival_imagename2wnid[image_name]\n",
    "    \n",
    "    if wnid not in ival_wnid2top1arecorrect:\n",
    "        ival_wnid2top1arecorrect[wnid] = []\n",
    "        ival_wnid2top5arecorrect[wnid] = []\n",
    "    \n",
    "    if wnid not in all_wnids:\n",
    "        ival_wnid2top1arecorrect[wnid].append(np.nan)\n",
    "        ival_wnid2top5arecorrect[wnid].append(np.nan)\n",
    "        continue\n",
    "        \n",
    "    true_loc = image_to_query_sim_cols.index(f'image_to_{query_type}_{wnid}_similarity')\n",
    "    \n",
    "    if np.isnan(ival_sim_mat[i_i, true_loc]):\n",
    "        ival_wnid2top1arecorrect[wnid].append(np.nan)\n",
    "        ival_wnid2top5arecorrect[wnid].append(np.nan)\n",
    "        continue\n",
    "    \n",
    "    top_locs = np.argsort(ival_sim_mat[i_i])\n",
    "    \n",
    "    ival_wnid2top1arecorrect[wnid].append(true_loc == top_locs[-1])\n",
    "    ival_wnid2top5arecorrect[wnid].append(true_loc in top_locs[-5:])"
   ]
  },
  {
   "cell_type": "code",
   "execution_count": 12,
   "id": "044895f1",
   "metadata": {},
   "outputs": [
    {
     "name": "stderr",
     "output_type": "stream",
     "text": [
      "/var/folders/0x/586kgp7s0gqbff4fcbg60twm0000gq/T/ipykernel_70496/2055185247.py:1: RuntimeWarning: Mean of empty slice\n",
      "  ival_top1_acc = np.nanmean([np.nanmean(are_correct) for _, are_correct in ival_wnid2top1arecorrect.items()])\n",
      "/var/folders/0x/586kgp7s0gqbff4fcbg60twm0000gq/T/ipykernel_70496/2055185247.py:2: RuntimeWarning: Mean of empty slice\n",
      "  ival_top5_acc = np.nanmean([np.nanmean(are_correct) for _, are_correct in ival_wnid2top5arecorrect.items()])\n"
     ]
    }
   ],
   "source": [
    "ival_top1_acc = np.nanmean([np.nanmean(are_correct) for _, are_correct in ival_wnid2top1arecorrect.items()])\n",
    "ival_top5_acc = np.nanmean([np.nanmean(are_correct) for _, are_correct in ival_wnid2top5arecorrect.items()])"
   ]
  },
  {
   "cell_type": "code",
   "execution_count": 13,
   "id": "da9036dd",
   "metadata": {},
   "outputs": [
    {
     "name": "stdout",
     "output_type": "stream",
     "text": [
      "ival top1 acc: 0.569\n",
      "ival top5 acc: 0.845\n"
     ]
    }
   ],
   "source": [
    "print('ival top1 acc: %.3f' % ival_top1_acc)\n",
    "print('ival top5 acc: %.3f' % ival_top5_acc)"
   ]
  },
  {
   "cell_type": "markdown",
   "id": "155c8882",
   "metadata": {},
   "source": [
    "# Calc. substring matched accuracy"
   ]
  },
  {
   "cell_type": "code",
   "execution_count": 14,
   "id": "cfc784fa",
   "metadata": {},
   "outputs": [
    {
     "name": "stdout",
     "output_type": "stream",
     "text": [
      "(879221, 999)\n"
     ]
    }
   ],
   "source": [
    "sm_laion_indices = [laion_index for laion_index in sm_laionindex2wnid]\n",
    "\n",
    "sm_sim_mat = np.array(sm_df.loc[sm_laion_indices, image_to_query_sim_cols].values.tolist())\n",
    "\n",
    "print(sm_sim_mat.shape)"
   ]
  },
  {
   "cell_type": "code",
   "execution_count": 15,
   "id": "acc1be20",
   "metadata": {},
   "outputs": [
    {
     "name": "stderr",
     "output_type": "stream",
     "text": [
      "100%|████████████████████████████████████████████████████████████████████████████████████████████| 879221/879221 [01:10<00:00, 12463.17it/s]\n"
     ]
    }
   ],
   "source": [
    "sm_wnid2top1arecorrect = {}\n",
    "sm_wnid2top5arecorrect = {}\n",
    "\n",
    "for i_sm, laion_index in enumerate(tqdm(sm_laion_indices)):\n",
    "    wnid = sm_laionindex2wnid[laion_index]\n",
    "    \n",
    "    if wnid not in sm_wnid2top1arecorrect:\n",
    "        sm_wnid2top1arecorrect[wnid] = []\n",
    "        sm_wnid2top5arecorrect[wnid] = []\n",
    "    \n",
    "    if wnid not in all_wnids:\n",
    "        sm_wnid2top1arecorrect[wnid].append(np.nan)\n",
    "        sm_wnid2top5arecorrect[wnid].append(np.nan)\n",
    "        continue\n",
    "        \n",
    "    true_loc = image_to_query_sim_cols.index(f'image_to_{query_type}_{wnid}_similarity')\n",
    "    \n",
    "    if np.isnan(sm_sim_mat[i_sm, true_loc]):\n",
    "        sm_wnid2top1arecorrect[wnid].append(np.nan)\n",
    "        sm_wnid2top5arecorrect[wnid].append(np.nan)\n",
    "        continue\n",
    "    \n",
    "    top_locs = np.argsort(sm_sim_mat[i_sm])\n",
    "    \n",
    "    sm_wnid2top1arecorrect[wnid].append(true_loc == top_locs[-1])\n",
    "    sm_wnid2top5arecorrect[wnid].append(true_loc in top_locs[-5:])"
   ]
  },
  {
   "cell_type": "code",
   "execution_count": 16,
   "id": "3c1c14bb",
   "metadata": {},
   "outputs": [
    {
     "name": "stderr",
     "output_type": "stream",
     "text": [
      "/var/folders/0x/586kgp7s0gqbff4fcbg60twm0000gq/T/ipykernel_70496/3217351014.py:1: RuntimeWarning: Mean of empty slice\n",
      "  sm_top1_acc = np.nanmean([np.nanmean(are_correct) for _, are_correct in sm_wnid2top1arecorrect.items()])\n",
      "/var/folders/0x/586kgp7s0gqbff4fcbg60twm0000gq/T/ipykernel_70496/3217351014.py:2: RuntimeWarning: Mean of empty slice\n",
      "  sm_top5_acc = np.nanmean([np.nanmean(are_correct) for _, are_correct in sm_wnid2top5arecorrect.items()])\n"
     ]
    }
   ],
   "source": [
    "sm_top1_acc = np.nanmean([np.nanmean(are_correct) for _, are_correct in sm_wnid2top1arecorrect.items()])\n",
    "sm_top5_acc = np.nanmean([np.nanmean(are_correct) for _, are_correct in sm_wnid2top5arecorrect.items()])"
   ]
  },
  {
   "cell_type": "code",
   "execution_count": 17,
   "id": "b21dc1b4",
   "metadata": {},
   "outputs": [
    {
     "name": "stdout",
     "output_type": "stream",
     "text": [
      "sm top1 acc: 0.665\n",
      "sm top5 acc: 0.905\n"
     ]
    }
   ],
   "source": [
    "print('sm top1 acc: %.3f' % sm_top1_acc)\n",
    "print('sm top5 acc: %.3f' % sm_top5_acc)"
   ]
  },
  {
   "cell_type": "markdown",
   "id": "1681fd93",
   "metadata": {},
   "source": [
    "# Compare accs per WNID"
   ]
  },
  {
   "cell_type": "code",
   "execution_count": 18,
   "id": "1a402cfd",
   "metadata": {},
   "outputs": [],
   "source": [
    "def mask_nans(arr):\n",
    "    if not isinstance(arr, np.ndarray):\n",
    "        arr = np.array(arr)\n",
    "        \n",
    "    return arr[~np.isnan(arr)]"
   ]
  },
  {
   "cell_type": "code",
   "execution_count": 19,
   "id": "34a74981",
   "metadata": {},
   "outputs": [
    {
     "name": "stderr",
     "output_type": "stream",
     "text": [
      "/var/folders/0x/586kgp7s0gqbff4fcbg60twm0000gq/T/ipykernel_70496/3335786573.py:38: RuntimeWarning: Precision loss occurred in moment calculation due to catastrophic cancellation. This occurs when the data are nearly identical. Results may be unreliable.\n",
      "  pvals5.append(ttest_ind(\n",
      "/var/folders/0x/586kgp7s0gqbff4fcbg60twm0000gq/T/ipykernel_70496/3335786573.py:23: RuntimeWarning: invalid value encountered in scalar divide\n",
      "  sm_top1_err_accs.append(1.95*np.nanstd(sm_wnid2top1arecorrect[wnid])/np.sqrt(n - 1))\n",
      "/Users/alishri/Desktop/Berkeley/research/hardt/projects/why imagenet looks unlike laion/codes/eval-on-laion/laionvenv/lib/python3.8/site-packages/scipy/stats/_stats_py.py:1250: RuntimeWarning: divide by zero encountered in divide\n",
      "  var *= np.divide(n, n-ddof)  # to avoid error on division by zero\n",
      "/Users/alishri/Desktop/Berkeley/research/hardt/projects/why imagenet looks unlike laion/codes/eval-on-laion/laionvenv/lib/python3.8/site-packages/scipy/stats/_stats_py.py:1250: RuntimeWarning: invalid value encountered in scalar multiply\n",
      "  var *= np.divide(n, n-ddof)  # to avoid error on division by zero\n",
      "/var/folders/0x/586kgp7s0gqbff4fcbg60twm0000gq/T/ipykernel_70496/3335786573.py:36: RuntimeWarning: invalid value encountered in scalar divide\n",
      "  sm_top5_err_accs.append(1.95*np.nanstd(sm_wnid2top5arecorrect[wnid])/np.sqrt(n - 1))\n",
      "/var/folders/0x/586kgp7s0gqbff4fcbg60twm0000gq/T/ipykernel_70496/3335786573.py:25: RuntimeWarning: Precision loss occurred in moment calculation due to catastrophic cancellation. This occurs when the data are nearly identical. Results may be unreliable.\n",
      "  pvals1.append(ttest_ind(\n",
      "/var/folders/0x/586kgp7s0gqbff4fcbg60twm0000gq/T/ipykernel_70496/3335786573.py:21: RuntimeWarning: Mean of empty slice\n",
      "  sm_top1_avg_accs.append(np.nanmean(sm_wnid2top1arecorrect[wnid]))\n",
      "/Users/alishri/Desktop/Berkeley/research/hardt/projects/why imagenet looks unlike laion/codes/eval-on-laion/laionvenv/lib/python3.8/site-packages/numpy/lib/nanfunctions.py:1872: RuntimeWarning: Degrees of freedom <= 0 for slice.\n",
      "  var = nanvar(a, axis=axis, dtype=dtype, out=out, ddof=ddof,\n",
      "/var/folders/0x/586kgp7s0gqbff4fcbg60twm0000gq/T/ipykernel_70496/3335786573.py:23: RuntimeWarning: invalid value encountered in sqrt\n",
      "  sm_top1_err_accs.append(1.95*np.nanstd(sm_wnid2top1arecorrect[wnid])/np.sqrt(n - 1))\n",
      "/var/folders/0x/586kgp7s0gqbff4fcbg60twm0000gq/T/ipykernel_70496/3335786573.py:34: RuntimeWarning: Mean of empty slice\n",
      "  sm_top5_avg_accs.append(np.nanmean(sm_wnid2top5arecorrect[wnid]))\n",
      "/var/folders/0x/586kgp7s0gqbff4fcbg60twm0000gq/T/ipykernel_70496/3335786573.py:36: RuntimeWarning: invalid value encountered in sqrt\n",
      "  sm_top5_err_accs.append(1.95*np.nanstd(sm_wnid2top5arecorrect[wnid])/np.sqrt(n - 1))\n"
     ]
    }
   ],
   "source": [
    "ival_top1_avg_accs = []\n",
    "ival_top1_err_accs = []\n",
    "sm_top1_avg_accs = []\n",
    "sm_top1_err_accs = []\n",
    "pvals1 = []\n",
    "\n",
    "ival_top5_avg_accs = []\n",
    "ival_top5_err_accs = []\n",
    "sm_top5_avg_accs = []\n",
    "sm_top5_err_accs = []\n",
    "pvals5 = []\n",
    "\n",
    "for wnid in all_wnids:\n",
    "    if (wnid not in ival_wnid2top1arecorrect) or (wnid not in sm_wnid2top1arecorrect):\n",
    "        continue\n",
    "        \n",
    "    ival_top1_avg_accs.append(np.nanmean(ival_wnid2top1arecorrect[wnid]))\n",
    "    n = np.sum(~np.isnan(ival_wnid2top1arecorrect[wnid]))\n",
    "    ival_top1_err_accs.append(1.95*np.nanstd(ival_wnid2top1arecorrect[wnid])/np.sqrt(n - 1))\n",
    "    \n",
    "    sm_top1_avg_accs.append(np.nanmean(sm_wnid2top1arecorrect[wnid]))\n",
    "    n = np.sum(~np.isnan(sm_wnid2top1arecorrect[wnid]))\n",
    "    sm_top1_err_accs.append(1.95*np.nanstd(sm_wnid2top1arecorrect[wnid])/np.sqrt(n - 1))\n",
    "    \n",
    "    pvals1.append(ttest_ind(\n",
    "        mask_nans(ival_wnid2top1arecorrect[wnid]),\n",
    "        mask_nans(sm_wnid2top1arecorrect[wnid]), \n",
    "        alternative='less').pvalue)\n",
    "    \n",
    "    ival_top5_avg_accs.append(np.nanmean(ival_wnid2top5arecorrect[wnid]))\n",
    "    n = np.sum(~np.isnan(ival_wnid2top5arecorrect[wnid]))\n",
    "    ival_top5_err_accs.append(1.95*np.nanstd(ival_wnid2top5arecorrect[wnid])/np.sqrt(n - 1))\n",
    "    \n",
    "    sm_top5_avg_accs.append(np.nanmean(sm_wnid2top5arecorrect[wnid]))\n",
    "    n = np.sum(~np.isnan(sm_wnid2top5arecorrect[wnid]))\n",
    "    sm_top5_err_accs.append(1.95*np.nanstd(sm_wnid2top5arecorrect[wnid])/np.sqrt(n - 1))\n",
    "    \n",
    "    pvals5.append(ttest_ind(\n",
    "        mask_nans(ival_wnid2top5arecorrect[wnid]),\n",
    "        mask_nans(sm_wnid2top5arecorrect[wnid]), \n",
    "        alternative='less').pvalue)\n",
    "    \n",
    "ival_top1_avg_accs = np.array(ival_top1_avg_accs)\n",
    "ival_top1_err_accs = np.array(ival_top1_err_accs)\n",
    "sm_top1_avg_accs = np.array(sm_top1_avg_accs)\n",
    "sm_top1_err_accs = np.array(sm_top1_err_accs)\n",
    "\n",
    "ival_top5_avg_accs = np.array(ival_top5_avg_accs)\n",
    "ival_top5_err_accs = np.array(ival_top5_err_accs)\n",
    "sm_top5_avg_accs = np.array(sm_top5_avg_accs)\n",
    "sm_top5_err_accs = np.array(sm_top5_err_accs)"
   ]
  },
  {
   "cell_type": "code",
   "execution_count": 20,
   "id": "8049d358",
   "metadata": {},
   "outputs": [],
   "source": [
    "diff_top1_avg_accs = sm_top1_avg_accs - ival_top1_avg_accs\n",
    "diff_top1_err_accs = np.sqrt(ival_top1_err_accs**2 + sm_top1_err_accs**2)\n",
    "ucb1 = diff_top1_avg_accs + diff_top1_err_accs\n",
    "lcb1 = diff_top1_avg_accs - diff_top1_err_accs\n",
    "\n",
    "diff_top5_avg_accs = sm_top5_avg_accs - ival_top5_avg_accs\n",
    "diff_top5_err_accs = np.sqrt(ival_top5_err_accs**2 + sm_top5_err_accs**2)\n",
    "ucb5 = diff_top5_avg_accs + diff_top5_err_accs\n",
    "lcb5 = diff_top5_avg_accs - diff_top5_err_accs"
   ]
  },
  {
   "cell_type": "code",
   "execution_count": 21,
   "id": "9ca7d7c2",
   "metadata": {},
   "outputs": [
    {
     "name": "stdout",
     "output_type": "stream",
     "text": [
      "avg > 0: 0.673202614379085\n",
      "UCB < 0: 94 out of 900 (0.10239651416122005)\n",
      "LCB > 0: 303 out of 900 (0.3300653594771242)\n",
      "6.810591097052555e-53 5.005005005005005e-05\n"
     ]
    },
    {
     "data": {
      "image/png": "[encoded data removed]",
      "text/plain": [
       "<Figure size 320x250 with 1 Axes>"
      ]
     },
     "metadata": {},
     "output_type": "display_data"
    }
   ],
   "source": [
    "plt.figure(figsize=(3.2, 2.5))\n",
    "\n",
    "mask = np.logical_and(np.logical_and(~np.isnan(diff_top1_avg_accs), ~np.isnan(ucb1)), ~np.isnan(lcb1))\n",
    "x = range(np.sum(mask))\n",
    "\n",
    "plt.plot(x, np.sort(diff_top1_avg_accs[mask]), 'k')\n",
    "plt.plot(x, np.sort(ucb1[mask]), 'b')\n",
    "plt.plot(x, np.sort(lcb1[mask]), 'r')\n",
    "\n",
    "plt.plot(x, [0]*len(x), 'k--', alpha=0.5)\n",
    "\n",
    "plt.legend(['LAIONet - ImageNet', 'UCB', 'LCB'])\n",
    "\n",
    "plt.ylabel(r'$\\Delta$ recall@1')\n",
    "\n",
    "plt.tight_layout()\n",
    "\n",
    "plt.savefig(os.path.join('figs', 'clip_zero_shot_recall1.pdf'))\n",
    "\n",
    "print(f'avg > 0: {np.nanmean(diff_top1_avg_accs > 0)}')\n",
    "print(f'UCB < 0: {np.sum(ucb1 < 0)} out of {np.sum(~np.isnan(ucb1))} ({np.nanmean(ucb1 < 0)})')\n",
    "print(f'LCB > 0: {np.sum(lcb1 > 0)} out of {np.sum(~np.isnan(lcb1))} ({np.nanmean(lcb1 > 0)})')\n",
    "print(np.nanmin(pvals1), 0.05/len(all_wnids))"
   ]
  },
  {
   "cell_type": "code",
   "execution_count": 22,
   "id": "82109182",
   "metadata": {},
   "outputs": [
    {
     "name": "stdout",
     "output_type": "stream",
     "text": [
      "avg > 0: 0.6394335511982571\n",
      "UCB < 0: 122 out of 900 (0.1328976034858388)\n",
      "LCB > 0: 227 out of 900 (0.24727668845315903)\n",
      "4.7705466689864293e-113 5.005005005005005e-05\n"
     ]
    },
    {
     "data": {
      "image/png": "[encoded data removed]",
      "text/plain": [
       "<Figure size 320x250 with 1 Axes>"
      ]
     },
     "metadata": {},
     "output_type": "display_data"
    }
   ],
   "source": [
    "plt.figure(figsize=(3.2, 2.5))\n",
    "\n",
    "mask = np.logical_and(np.logical_and(~np.isnan(diff_top5_avg_accs), ~np.isnan(ucb5)), ~np.isnan(lcb5))\n",
    "x = range(np.sum(mask))\n",
    "\n",
    "plt.plot(x, np.sort(diff_top5_avg_accs[mask]), 'k')\n",
    "plt.plot(x, np.sort(ucb5[mask]), 'b')\n",
    "plt.plot(x, np.sort(lcb5[mask]), 'r')\n",
    "\n",
    "plt.plot(x, [0]*len(x), 'k--', alpha=0.5)\n",
    "\n",
    "plt.legend(['LAIONet - ImageNet', 'UCB', 'LCB'])\n",
    "\n",
    "plt.ylabel(r'$\\Delta$ recall@5')\n",
    "\n",
    "plt.tight_layout()\n",
    "\n",
    "plt.savefig(os.path.join('figs', 'clip_zero_shot_recall5.pdf'))\n",
    "\n",
    "print(f'avg > 0: {np.nanmean(diff_top5_avg_accs > 0)}')\n",
    "print(f'UCB < 0: {np.sum(ucb5 < 0)} out of {np.sum(~np.isnan(ucb5))} ({np.nanmean(ucb5 < 0)})')\n",
    "print(f'LCB > 0: {np.sum(lcb5 > 0)} out of {np.sum(~np.isnan(lcb5))} ({np.nanmean(lcb5 > 0)})')\n",
    "print(np.nanmin(pvals5), 0.05/len(all_wnids))"
   ]
  },
  {
   "cell_type": "code",
   "execution_count": null,
   "id": "a6d8e23d",
   "metadata": {},
   "outputs": [],
   "source": []
  }
 ],
 "metadata": {
  "kernelspec": {
   "display_name": "laionvenv",
   "language": "python",
   "name": "laionvenv"
  },
  "language_info": {
   "codemirror_mode": {
    "name": "ipython",
    "version": 3
   },
   "file_extension": ".py",
   "mimetype": "text/x-python",
   "name": "python",
   "nbconvert_exporter": "python",
   "pygments_lexer": "ipython3",
   "version": "3.8.2"
  }
 },
 "nbformat": 4,
 "nbformat_minor": 5
}

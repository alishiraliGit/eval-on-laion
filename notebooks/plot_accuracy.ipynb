{
 "cells": [
  {
   "cell_type": "code",
   "execution_count": 1,
   "metadata": {},
   "outputs": [],
   "source": [
    "%load_ext autoreload\n",
    "%autoreload 2"
   ]
  },
  {
   "cell_type": "code",
   "execution_count": 2,
   "metadata": {},
   "outputs": [],
   "source": [
    "import os\n",
    "\n",
    "os.chdir('..')"
   ]
  },
  {
   "cell_type": "code",
   "execution_count": 3,
   "metadata": {},
   "outputs": [
    {
     "name": "stderr",
     "output_type": "stream",
     "text": [
      "[nltk_data] Downloading package wordnet to /Users/alishri/nltk_data...\n",
      "[nltk_data]   Package wordnet is already up-to-date!\n",
      "/Users/alishri/Desktop/Berkeley/research/hardt/projects/why imagenet looks unlike laion/codes/eval-on-laion/laionvenv/lib/python3.8/site-packages/tqdm/auto.py:21: TqdmWarning: IProgress not found. Please update jupyter and ipywidgets. See https://ipywidgets.readthedocs.io/en/stable/user_install.html\n",
      "  from .autonotebook import tqdm as notebook_tqdm\n"
     ]
    }
   ],
   "source": [
    "import pickle\n",
    "import itertools\n",
    "import glob\n",
    "\n",
    "import pandas as pd\n",
    "import numpy as np\n",
    "from tqdm import tqdm\n",
    "from matplotlib import pyplot as plt\n",
    "\n",
    "import configs\n",
    "from utils import utils\n",
    "from utils import laion_utils as laionu\n",
    "from utils import wordnet_utils as wnu\n",
    "from utils.calc_utils import calc_recall_per_y, calc_equi_acc, combine_recalls, z\n",
    "from core.ilsvrc_predictors import all_model_names_1k, all_model_names_pt21k_ft1k, all_model_names_21k\n",
    "from core.queries import QueryType"
   ]
  },
  {
   "cell_type": "markdown",
   "metadata": {},
   "source": [
    "# Settings"
   ]
  },
  {
   "cell_type": "markdown",
   "metadata": {},
   "source": [
    "## Filtering"
   ]
  },
  {
   "cell_type": "code",
   "execution_count": 90,
   "metadata": {},
   "outputs": [
    {
     "name": "stdout",
     "output_type": "stream",
     "text": [
      "text_to_name_def_wnid_similarity_clip-vit-base-patch32\n"
     ]
    }
   ],
   "source": [
    "q_type = QueryType.NAME_DEF\n",
    "q_key = 'wnid'\n",
    "text_encoder_ver = configs.CLIPConfig.DEFAULT_VERSION\n",
    "# text_encoder_ver = 'all-mpnet-base-v2'\n",
    "\n",
    "query_col = q_type + '_' + q_key\n",
    "text_query_sim_col = f'text_to_{query_col}_similarity_{text_encoder_ver}'\n",
    "\n",
    "print(text_query_sim_col)"
   ]
  },
  {
   "cell_type": "markdown",
   "metadata": {},
   "source": [
    "## Path"
   ]
  },
  {
   "cell_type": "markdown",
   "metadata": {},
   "source": [
    "### LAIONet"
   ]
  },
  {
   "cell_type": "code",
   "execution_count": 91,
   "metadata": {},
   "outputs": [
    {
     "name": "stdout",
     "output_type": "stream",
     "text": [
      "subset_sm_filt(text_to_name_def_wnid_similarity_clip-vit-base-patch32)_part-00000-to-part00031-5b54c5d5-bbcf-484d-a2ce-0d6f73df1a36-c000.snappy.parquet\n"
     ]
    }
   ],
   "source": [
    "laion_path = 'laion400m'\n",
    "laion_until_part = 31\n",
    "\n",
    "laionet_prefix = configs.NamingConfig.append_filtered(configs.NamingConfig.SUBSET_SM_PREFIX, text_query_sim_col)\n",
    "\n",
    "do_skim = False\n",
    "if do_skim:\n",
    "    laionet_prefix = configs.NamingConfig.append_skimmed(laionet_prefix)\n",
    "\n",
    "laionet_file_name = laionet_prefix + '_' + laionu.get_laion_subset_file_name(0, laion_until_part)\n",
    "\n",
    "print(laionet_file_name)\n",
    "\n",
    "# Labels\n",
    "laionet_labels_path = os.path.join(laion_path, 'processed', 'ilsvrc_labels')\n",
    "laionet_labels_file_name = f'wnid2laionindices({laionet_prefix}).pkl'"
   ]
  },
  {
   "cell_type": "markdown",
   "metadata": {},
   "source": [
    "### ILSVRC val"
   ]
  },
  {
   "cell_type": "code",
   "execution_count": 92,
   "metadata": {},
   "outputs": [],
   "source": [
    "ilsvrc_path = 'ilsvrc2012'\n",
    "\n",
    "ilsvrc_val_prefix = 'ILSVRC2012_val'\n",
    "\n",
    "ilsvrc_val_file_name = ilsvrc_val_prefix + '.parquet'\n",
    "\n",
    "# Labels\n",
    "ilsvrc_val_labels_file_path = os.path.join(ilsvrc_path, 'processed', 'labels', 'imagename2wnid.pkl')"
   ]
  },
  {
   "cell_type": "markdown",
   "metadata": {},
   "source": [
    "## Other"
   ]
  },
  {
   "cell_type": "code",
   "execution_count": 93,
   "metadata": {},
   "outputs": [],
   "source": [
    "top_k_col = lambda k, mdl: f'top_{k}_is_correct_{mdl}'\n",
    "rec_text_is_in_col = f'wnid_is_in_recognized_text'"
   ]
  },
  {
   "cell_type": "markdown",
   "metadata": {},
   "source": [
    "## Models"
   ]
  },
  {
   "cell_type": "code",
   "execution_count": 94,
   "metadata": {
    "scrolled": true
   },
   "outputs": [
    {
     "name": "stdout",
     "output_type": "stream",
     "text": [
      "resnet-18\n",
      "resnet-34\n",
      "resnet-50\n",
      "resnet-101\n",
      "resnet-152\n",
      "convnext-tiny-224\n",
      "convnext-small-224\n",
      "convnext-base-224\n",
      "convnext-large-224\n",
      "convnext-base-384\n",
      "convnext-large-384\n",
      "vit-base-patch16-224\n",
      "vit-base-patch16-384\n",
      "vit-base-patch32-384\n",
      "vit-large-patch16-224\n",
      "vit-large-patch16-384\n",
      "vit-large-patch32-384\n",
      "convnext-base-224-22k-1k\n",
      "convnext-large-224-22k-1k\n",
      "convnext-base-384-22k-1k\n",
      "convnext-large-384-22k-1k\n",
      "beit-base-patch16-224\n",
      "beit-base-patch16-384\n",
      "beit-large-patch16-224\n",
      "beit-large-patch16-384\n",
      "convnext-base-224-22k\n",
      "convnext-large-224-22k\n",
      "beit-base-patch16-224-pt22k-ft22k\n",
      "beit-large-patch16-224-pt22k-ft22k\n",
      "clip-vit-base-patch32\n"
     ]
    }
   ],
   "source": [
    "model_names = all_model_names_1k + all_model_names_pt21k_ft1k + all_model_names_21k\n",
    "\n",
    "model_names.append(configs.CLIPConfig.DEFAULT_VERSION)\n",
    "\n",
    "print('\\n'.join(model_names))"
   ]
  },
  {
   "cell_type": "code",
   "execution_count": 95,
   "metadata": {},
   "outputs": [],
   "source": [
    "modelname2color = {}\n",
    "\n",
    "for model_name in all_model_names_1k:\n",
    "    modelname2color[model_name] = 'r'\n",
    "\n",
    "for model_name in all_model_names_pt21k_ft1k:\n",
    "    modelname2color[model_name] = 'y'\n",
    "    \n",
    "for model_name in all_model_names_21k:\n",
    "    modelname2color[model_name] = 'g'\n",
    "    \n",
    "modelname2color[configs.CLIPConfig.DEFAULT_VERSION] = 'k'"
   ]
  },
  {
   "cell_type": "markdown",
   "metadata": {},
   "source": [
    "# Load"
   ]
  },
  {
   "cell_type": "markdown",
   "metadata": {},
   "source": [
    "## LAIONet"
   ]
  },
  {
   "cell_type": "code",
   "execution_count": 96,
   "metadata": {},
   "outputs": [
    {
     "data": {
      "text/html": [
       "<div>\n",
       "<style scoped>\n",
       "    .dataframe tbody tr th:only-of-type {\n",
       "        vertical-align: middle;\n",
       "    }\n",
       "\n",
       "    .dataframe tbody tr th {\n",
       "        vertical-align: top;\n",
       "    }\n",
       "\n",
       "    .dataframe thead th {\n",
       "        text-align: right;\n",
       "    }\n",
       "</style>\n",
       "<table border=\"1\" class=\"dataframe\">\n",
       "  <thead>\n",
       "    <tr style=\"text-align: right;\">\n",
       "      <th></th>\n",
       "      <th>SAMPLE_ID</th>\n",
       "      <th>URL</th>\n",
       "      <th>TEXT</th>\n",
       "      <th>HEIGHT</th>\n",
       "      <th>WIDTH</th>\n",
       "      <th>LICENSE</th>\n",
       "      <th>NSFW</th>\n",
       "      <th>similarity</th>\n",
       "      <th>name_def_wnid</th>\n",
       "      <th>text_to_name_def_wnid_similarity_clip-vit-base-patch32</th>\n",
       "      <th>...</th>\n",
       "      <th>top_5_is_correct_convnext-large-384</th>\n",
       "      <th>top_1_is_correct_convnext-base-224-22k-1k</th>\n",
       "      <th>top_5_is_correct_convnext-base-224-22k-1k</th>\n",
       "      <th>top_1_is_correct_convnext-large-224-22k-1k</th>\n",
       "      <th>top_5_is_correct_convnext-large-224-22k-1k</th>\n",
       "      <th>top_1_is_correct_convnext-base-384-22k-1k</th>\n",
       "      <th>top_5_is_correct_convnext-base-384-22k-1k</th>\n",
       "      <th>top_1_is_correct_convnext-large-384-22k-1k</th>\n",
       "      <th>top_5_is_correct_convnext-large-384-22k-1k</th>\n",
       "      <th>wnid_is_in_recognized_text</th>\n",
       "    </tr>\n",
       "  </thead>\n",
       "  <tbody>\n",
       "    <tr>\n",
       "      <th>69</th>\n",
       "      <td>1.127880e+12</td>\n",
       "      <td>http://images4-b.ravelrycache.com/uploads/Wool...</td>\n",
       "      <td>Oval_drum_small2</td>\n",
       "      <td>320.0</td>\n",
       "      <td>320.0</td>\n",
       "      <td>?</td>\n",
       "      <td>UNLIKELY</td>\n",
       "      <td>0.306868</td>\n",
       "      <td>drum which is a musical percussion instrument;...</td>\n",
       "      <td>0.853099</td>\n",
       "      <td>...</td>\n",
       "      <td>True</td>\n",
       "      <td>True</td>\n",
       "      <td>True</td>\n",
       "      <td>True</td>\n",
       "      <td>True</td>\n",
       "      <td>True</td>\n",
       "      <td>True</td>\n",
       "      <td>True</td>\n",
       "      <td>True</td>\n",
       "      <td>False</td>\n",
       "    </tr>\n",
       "    <tr>\n",
       "      <th>2176</th>\n",
       "      <td>3.572065e+12</td>\n",
       "      <td>https://i0.wp.com/www.paginascanarias.com/wp-c...</td>\n",
       "      <td>barbershop triana</td>\n",
       "      <td>200.0</td>\n",
       "      <td>200.0</td>\n",
       "      <td>?</td>\n",
       "      <td>UNLIKELY</td>\n",
       "      <td>0.318373</td>\n",
       "      <td>barbershop which is a shop where men can get t...</td>\n",
       "      <td>0.827356</td>\n",
       "      <td>...</td>\n",
       "      <td>True</td>\n",
       "      <td>False</td>\n",
       "      <td>True</td>\n",
       "      <td>False</td>\n",
       "      <td>True</td>\n",
       "      <td>False</td>\n",
       "      <td>True</td>\n",
       "      <td>False</td>\n",
       "      <td>True</td>\n",
       "      <td>False</td>\n",
       "    </tr>\n",
       "    <tr>\n",
       "      <th>3188</th>\n",
       "      <td>2.178581e+12</td>\n",
       "      <td>http://static11.zobazo.com/USA/2018//2694/4320...</td>\n",
       "      <td>Four marmoset monkey available for sale (male ...</td>\n",
       "      <td>160.0</td>\n",
       "      <td>135.0</td>\n",
       "      <td>?</td>\n",
       "      <td>UNLIKELY</td>\n",
       "      <td>0.358621</td>\n",
       "      <td>marmoset which is small soft-furred South Amer...</td>\n",
       "      <td>0.824072</td>\n",
       "      <td>...</td>\n",
       "      <td>None</td>\n",
       "      <td>None</td>\n",
       "      <td>None</td>\n",
       "      <td>None</td>\n",
       "      <td>None</td>\n",
       "      <td>None</td>\n",
       "      <td>None</td>\n",
       "      <td>None</td>\n",
       "      <td>None</td>\n",
       "      <td>False</td>\n",
       "    </tr>\n",
       "  </tbody>\n",
       "</table>\n",
       "<p>3 rows × 73 columns</p>\n",
       "</div>"
      ],
      "text/plain": [
       "         SAMPLE_ID                                                URL  \\\n",
       "69    1.127880e+12  http://images4-b.ravelrycache.com/uploads/Wool...   \n",
       "2176  3.572065e+12  https://i0.wp.com/www.paginascanarias.com/wp-c...   \n",
       "3188  2.178581e+12  http://static11.zobazo.com/USA/2018//2694/4320...   \n",
       "\n",
       "                                                   TEXT  HEIGHT  WIDTH  \\\n",
       "69                                     Oval_drum_small2   320.0  320.0   \n",
       "2176                                  barbershop triana   200.0  200.0   \n",
       "3188  Four marmoset monkey available for sale (male ...   160.0  135.0   \n",
       "\n",
       "     LICENSE      NSFW  similarity  \\\n",
       "69         ?  UNLIKELY    0.306868   \n",
       "2176       ?  UNLIKELY    0.318373   \n",
       "3188       ?  UNLIKELY    0.358621   \n",
       "\n",
       "                                          name_def_wnid  \\\n",
       "69    drum which is a musical percussion instrument;...   \n",
       "2176  barbershop which is a shop where men can get t...   \n",
       "3188  marmoset which is small soft-furred South Amer...   \n",
       "\n",
       "      text_to_name_def_wnid_similarity_clip-vit-base-patch32  ...  \\\n",
       "69                                             0.853099       ...   \n",
       "2176                                           0.827356       ...   \n",
       "3188                                           0.824072       ...   \n",
       "\n",
       "      top_5_is_correct_convnext-large-384  \\\n",
       "69                                   True   \n",
       "2176                                 True   \n",
       "3188                                 None   \n",
       "\n",
       "     top_1_is_correct_convnext-base-224-22k-1k  \\\n",
       "69                                        True   \n",
       "2176                                     False   \n",
       "3188                                      None   \n",
       "\n",
       "     top_5_is_correct_convnext-base-224-22k-1k  \\\n",
       "69                                        True   \n",
       "2176                                      True   \n",
       "3188                                      None   \n",
       "\n",
       "     top_1_is_correct_convnext-large-224-22k-1k  \\\n",
       "69                                         True   \n",
       "2176                                      False   \n",
       "3188                                       None   \n",
       "\n",
       "     top_5_is_correct_convnext-large-224-22k-1k  \\\n",
       "69                                         True   \n",
       "2176                                       True   \n",
       "3188                                       None   \n",
       "\n",
       "     top_1_is_correct_convnext-base-384-22k-1k  \\\n",
       "69                                        True   \n",
       "2176                                     False   \n",
       "3188                                      None   \n",
       "\n",
       "     top_5_is_correct_convnext-base-384-22k-1k  \\\n",
       "69                                        True   \n",
       "2176                                      True   \n",
       "3188                                      None   \n",
       "\n",
       "     top_1_is_correct_convnext-large-384-22k-1k  \\\n",
       "69                                         True   \n",
       "2176                                      False   \n",
       "3188                                       None   \n",
       "\n",
       "     top_5_is_correct_convnext-large-384-22k-1k wnid_is_in_recognized_text  \n",
       "69                                         True                      False  \n",
       "2176                                       True                      False  \n",
       "3188                                       None                      False  \n",
       "\n",
       "[3 rows x 73 columns]"
      ]
     },
     "execution_count": 96,
     "metadata": {},
     "output_type": "execute_result"
    }
   ],
   "source": [
    "df = pd.read_parquet(\n",
    "    os.path.join(laion_path, laionet_file_name)\n",
    ")\n",
    "\n",
    "df.head(3)"
   ]
  },
  {
   "cell_type": "markdown",
   "metadata": {},
   "source": [
    "## ILSVRC val"
   ]
  },
  {
   "cell_type": "code",
   "execution_count": 97,
   "metadata": {},
   "outputs": [
    {
     "name": "stdout",
     "output_type": "stream",
     "text": [
      "(50000, 61)\n"
     ]
    },
    {
     "data": {
      "text/html": [
       "<div>\n",
       "<style scoped>\n",
       "    .dataframe tbody tr th:only-of-type {\n",
       "        vertical-align: middle;\n",
       "    }\n",
       "\n",
       "    .dataframe tbody tr th {\n",
       "        vertical-align: top;\n",
       "    }\n",
       "\n",
       "    .dataframe thead th {\n",
       "        text-align: right;\n",
       "    }\n",
       "</style>\n",
       "<table border=\"1\" class=\"dataframe\">\n",
       "  <thead>\n",
       "    <tr style=\"text-align: right;\">\n",
       "      <th></th>\n",
       "      <th>name_def_wnid</th>\n",
       "      <th>top_1_is_correct_clip-vit-base-patch32</th>\n",
       "      <th>top_5_is_correct_clip-vit-base-patch32</th>\n",
       "      <th>top_1_is_correct_resnet-18</th>\n",
       "      <th>top_5_is_correct_resnet-18</th>\n",
       "      <th>top_1_is_correct_resnet-34</th>\n",
       "      <th>top_5_is_correct_resnet-34</th>\n",
       "      <th>top_1_is_correct_resnet-50</th>\n",
       "      <th>top_5_is_correct_resnet-50</th>\n",
       "      <th>top_1_is_correct_resnet-101</th>\n",
       "      <th>...</th>\n",
       "      <th>top_1_is_correct_convnext-large-384</th>\n",
       "      <th>top_5_is_correct_convnext-large-384</th>\n",
       "      <th>top_1_is_correct_convnext-base-224-22k-1k</th>\n",
       "      <th>top_5_is_correct_convnext-base-224-22k-1k</th>\n",
       "      <th>top_1_is_correct_convnext-large-224-22k-1k</th>\n",
       "      <th>top_5_is_correct_convnext-large-224-22k-1k</th>\n",
       "      <th>top_1_is_correct_convnext-base-384-22k-1k</th>\n",
       "      <th>top_5_is_correct_convnext-base-384-22k-1k</th>\n",
       "      <th>top_1_is_correct_convnext-large-384-22k-1k</th>\n",
       "      <th>top_5_is_correct_convnext-large-384-22k-1k</th>\n",
       "    </tr>\n",
       "  </thead>\n",
       "  <tbody>\n",
       "    <tr>\n",
       "      <th>ILSVRC2012_val_00049998.JPEG</th>\n",
       "      <td>border collie which is developed in the area b...</td>\n",
       "      <td>True</td>\n",
       "      <td>True</td>\n",
       "      <td>True</td>\n",
       "      <td>True</td>\n",
       "      <td>True</td>\n",
       "      <td>True</td>\n",
       "      <td>False</td>\n",
       "      <td>True</td>\n",
       "      <td>True</td>\n",
       "      <td>...</td>\n",
       "      <td>False</td>\n",
       "      <td>True</td>\n",
       "      <td>True</td>\n",
       "      <td>True</td>\n",
       "      <td>True</td>\n",
       "      <td>True</td>\n",
       "      <td>True</td>\n",
       "      <td>True</td>\n",
       "      <td>True</td>\n",
       "      <td>True</td>\n",
       "    </tr>\n",
       "    <tr>\n",
       "      <th>ILSVRC2012_val_00049999.JPEG</th>\n",
       "      <td>groom which is a man participant in his own ma...</td>\n",
       "      <td>True</td>\n",
       "      <td>True</td>\n",
       "      <td>True</td>\n",
       "      <td>True</td>\n",
       "      <td>True</td>\n",
       "      <td>True</td>\n",
       "      <td>True</td>\n",
       "      <td>True</td>\n",
       "      <td>True</td>\n",
       "      <td>...</td>\n",
       "      <td>True</td>\n",
       "      <td>True</td>\n",
       "      <td>True</td>\n",
       "      <td>True</td>\n",
       "      <td>True</td>\n",
       "      <td>True</td>\n",
       "      <td>True</td>\n",
       "      <td>True</td>\n",
       "      <td>True</td>\n",
       "      <td>True</td>\n",
       "    </tr>\n",
       "    <tr>\n",
       "      <th>ILSVRC2012_val_00050000.JPEG</th>\n",
       "      <td>llama which is wild or domesticated South Amer...</td>\n",
       "      <td>True</td>\n",
       "      <td>True</td>\n",
       "      <td>False</td>\n",
       "      <td>True</td>\n",
       "      <td>True</td>\n",
       "      <td>True</td>\n",
       "      <td>True</td>\n",
       "      <td>True</td>\n",
       "      <td>True</td>\n",
       "      <td>...</td>\n",
       "      <td>True</td>\n",
       "      <td>True</td>\n",
       "      <td>True</td>\n",
       "      <td>True</td>\n",
       "      <td>True</td>\n",
       "      <td>True</td>\n",
       "      <td>True</td>\n",
       "      <td>True</td>\n",
       "      <td>True</td>\n",
       "      <td>True</td>\n",
       "    </tr>\n",
       "  </tbody>\n",
       "</table>\n",
       "<p>3 rows × 61 columns</p>\n",
       "</div>"
      ],
      "text/plain": [
       "                                                                  name_def_wnid  \\\n",
       "ILSVRC2012_val_00049998.JPEG  border collie which is developed in the area b...   \n",
       "ILSVRC2012_val_00049999.JPEG  groom which is a man participant in his own ma...   \n",
       "ILSVRC2012_val_00050000.JPEG  llama which is wild or domesticated South Amer...   \n",
       "\n",
       "                             top_1_is_correct_clip-vit-base-patch32  \\\n",
       "ILSVRC2012_val_00049998.JPEG                                   True   \n",
       "ILSVRC2012_val_00049999.JPEG                                   True   \n",
       "ILSVRC2012_val_00050000.JPEG                                   True   \n",
       "\n",
       "                             top_5_is_correct_clip-vit-base-patch32  \\\n",
       "ILSVRC2012_val_00049998.JPEG                                   True   \n",
       "ILSVRC2012_val_00049999.JPEG                                   True   \n",
       "ILSVRC2012_val_00050000.JPEG                                   True   \n",
       "\n",
       "                             top_1_is_correct_resnet-18  \\\n",
       "ILSVRC2012_val_00049998.JPEG                       True   \n",
       "ILSVRC2012_val_00049999.JPEG                       True   \n",
       "ILSVRC2012_val_00050000.JPEG                      False   \n",
       "\n",
       "                             top_5_is_correct_resnet-18  \\\n",
       "ILSVRC2012_val_00049998.JPEG                       True   \n",
       "ILSVRC2012_val_00049999.JPEG                       True   \n",
       "ILSVRC2012_val_00050000.JPEG                       True   \n",
       "\n",
       "                             top_1_is_correct_resnet-34  \\\n",
       "ILSVRC2012_val_00049998.JPEG                       True   \n",
       "ILSVRC2012_val_00049999.JPEG                       True   \n",
       "ILSVRC2012_val_00050000.JPEG                       True   \n",
       "\n",
       "                             top_5_is_correct_resnet-34  \\\n",
       "ILSVRC2012_val_00049998.JPEG                       True   \n",
       "ILSVRC2012_val_00049999.JPEG                       True   \n",
       "ILSVRC2012_val_00050000.JPEG                       True   \n",
       "\n",
       "                             top_1_is_correct_resnet-50  \\\n",
       "ILSVRC2012_val_00049998.JPEG                      False   \n",
       "ILSVRC2012_val_00049999.JPEG                       True   \n",
       "ILSVRC2012_val_00050000.JPEG                       True   \n",
       "\n",
       "                             top_5_is_correct_resnet-50  \\\n",
       "ILSVRC2012_val_00049998.JPEG                       True   \n",
       "ILSVRC2012_val_00049999.JPEG                       True   \n",
       "ILSVRC2012_val_00050000.JPEG                       True   \n",
       "\n",
       "                             top_1_is_correct_resnet-101  ...  \\\n",
       "ILSVRC2012_val_00049998.JPEG                        True  ...   \n",
       "ILSVRC2012_val_00049999.JPEG                        True  ...   \n",
       "ILSVRC2012_val_00050000.JPEG                        True  ...   \n",
       "\n",
       "                             top_1_is_correct_convnext-large-384  \\\n",
       "ILSVRC2012_val_00049998.JPEG                               False   \n",
       "ILSVRC2012_val_00049999.JPEG                                True   \n",
       "ILSVRC2012_val_00050000.JPEG                                True   \n",
       "\n",
       "                             top_5_is_correct_convnext-large-384  \\\n",
       "ILSVRC2012_val_00049998.JPEG                                True   \n",
       "ILSVRC2012_val_00049999.JPEG                                True   \n",
       "ILSVRC2012_val_00050000.JPEG                                True   \n",
       "\n",
       "                             top_1_is_correct_convnext-base-224-22k-1k  \\\n",
       "ILSVRC2012_val_00049998.JPEG                                      True   \n",
       "ILSVRC2012_val_00049999.JPEG                                      True   \n",
       "ILSVRC2012_val_00050000.JPEG                                      True   \n",
       "\n",
       "                             top_5_is_correct_convnext-base-224-22k-1k  \\\n",
       "ILSVRC2012_val_00049998.JPEG                                      True   \n",
       "ILSVRC2012_val_00049999.JPEG                                      True   \n",
       "ILSVRC2012_val_00050000.JPEG                                      True   \n",
       "\n",
       "                             top_1_is_correct_convnext-large-224-22k-1k  \\\n",
       "ILSVRC2012_val_00049998.JPEG                                       True   \n",
       "ILSVRC2012_val_00049999.JPEG                                       True   \n",
       "ILSVRC2012_val_00050000.JPEG                                       True   \n",
       "\n",
       "                             top_5_is_correct_convnext-large-224-22k-1k  \\\n",
       "ILSVRC2012_val_00049998.JPEG                                       True   \n",
       "ILSVRC2012_val_00049999.JPEG                                       True   \n",
       "ILSVRC2012_val_00050000.JPEG                                       True   \n",
       "\n",
       "                             top_1_is_correct_convnext-base-384-22k-1k  \\\n",
       "ILSVRC2012_val_00049998.JPEG                                      True   \n",
       "ILSVRC2012_val_00049999.JPEG                                      True   \n",
       "ILSVRC2012_val_00050000.JPEG                                      True   \n",
       "\n",
       "                             top_5_is_correct_convnext-base-384-22k-1k  \\\n",
       "ILSVRC2012_val_00049998.JPEG                                      True   \n",
       "ILSVRC2012_val_00049999.JPEG                                      True   \n",
       "ILSVRC2012_val_00050000.JPEG                                      True   \n",
       "\n",
       "                             top_1_is_correct_convnext-large-384-22k-1k  \\\n",
       "ILSVRC2012_val_00049998.JPEG                                       True   \n",
       "ILSVRC2012_val_00049999.JPEG                                       True   \n",
       "ILSVRC2012_val_00050000.JPEG                                       True   \n",
       "\n",
       "                             top_5_is_correct_convnext-large-384-22k-1k  \n",
       "ILSVRC2012_val_00049998.JPEG                                       True  \n",
       "ILSVRC2012_val_00049999.JPEG                                       True  \n",
       "ILSVRC2012_val_00050000.JPEG                                       True  \n",
       "\n",
       "[3 rows x 61 columns]"
      ]
     },
     "execution_count": 97,
     "metadata": {},
     "output_type": "execute_result"
    }
   ],
   "source": [
    "ilsvrc_val_df = pd.read_parquet(os.path.join(ilsvrc_path, ilsvrc_val_file_name))\n",
    "\n",
    "print(ilsvrc_val_df.shape)\n",
    "\n",
    "ilsvrc_val_df.tail(3)"
   ]
  },
  {
   "cell_type": "markdown",
   "metadata": {},
   "source": [
    "## Labels"
   ]
  },
  {
   "cell_type": "code",
   "execution_count": 98,
   "metadata": {},
   "outputs": [],
   "source": [
    "with open(os.path.join(laionet_labels_path, laionet_labels_file_name), 'rb') as f:\n",
    "    wnid2laionindices = pickle.load(f)"
   ]
  },
  {
   "cell_type": "code",
   "execution_count": 99,
   "metadata": {},
   "outputs": [],
   "source": [
    "with open(ilsvrc_val_labels_file_path, 'rb') as f:\n",
    "    imagename2wnid = pickle.load(f)\n",
    "    \n",
    "# Find the inverse map\n",
    "wnid2imagenames = utils.find_inverse_map(imagename2wnid)"
   ]
  },
  {
   "cell_type": "markdown",
   "metadata": {},
   "source": [
    "# Calc. recall and accuracy"
   ]
  },
  {
   "cell_type": "code",
   "execution_count": 100,
   "metadata": {},
   "outputs": [],
   "source": [
    "tq_sim_th = 0.82  # 0.58"
   ]
  },
  {
   "cell_type": "markdown",
   "metadata": {},
   "source": [
    "## LAIONet"
   ]
  },
  {
   "cell_type": "code",
   "execution_count": 66,
   "metadata": {},
   "outputs": [
    {
     "name": "stderr",
     "output_type": "stream",
     "text": [
      "100%|█████████████████████████████████████████████████████████████████████████████████████████████████████████████████████████████████████████████████████████████████████████| 978/978 [00:15<00:00, 61.60it/s]\n",
      "100%|█████████████████████████████████████████████████████████████████████████████████████████████████████████████████████████████████████████████████████████████████████████| 978/978 [00:15<00:00, 61.21it/s]\n"
     ]
    }
   ],
   "source": [
    "df_filt = df[df[text_query_sim_col] > tq_sim_th]\n",
    "\n",
    "topk2model2wnid2recall = {1: {}, 5: {}}\n",
    "topk2model2wnid2recallse = {1: {}, 5: {}}\n",
    "topk2model2acc = {1: {}, 5: {}}\n",
    "topk2model2nwnid = {1: {}, 5: {}}\n",
    "\n",
    "\n",
    "for k in [1, 5]:\n",
    "    topk2model2wnid2recall[k], topk2model2wnid2recallse[k], _ = \\\n",
    "        calc_recall_per_y(df_filt, wnid2laionindices, model_names, k, drop_if_true_cols=[rec_text_is_in_col])\n",
    "    \n",
    "    topk2model2acc[k], topk2model2nwnid[k] = \\\n",
    "        calc_equi_acc(model_names, topk2model2wnid2recall[k], topk2model2wnid2recallse[k])"
   ]
  },
  {
   "cell_type": "markdown",
   "metadata": {},
   "source": [
    "## ILSVRC val"
   ]
  },
  {
   "cell_type": "code",
   "execution_count": 67,
   "metadata": {},
   "outputs": [],
   "source": [
    "projected_wnid2imagenames = {wnid: image_names for wnid, image_names in wnid2imagenames.items()\n",
    "                           if wnid in wnid2laionindices}"
   ]
  },
  {
   "cell_type": "code",
   "execution_count": 68,
   "metadata": {},
   "outputs": [
    {
     "name": "stderr",
     "output_type": "stream",
     "text": [
      "100%|█████████████████████████████████████████████████████████████████████████████████████████████████████████████████████████████████████████████████████████████████████████| 977/977 [00:20<00:00, 48.55it/s]\n",
      "100%|█████████████████████████████████████████████████████████████████████████████████████████████████████████████████████████████████████████████████████████████████████████| 977/977 [00:22<00:00, 43.57it/s]\n"
     ]
    }
   ],
   "source": [
    "topk2model2wnid2ilsvrcrecall = {1: {}, 5: {}}\n",
    "topk2model2wnid2ilsvrcrecallse = {1: {}, 5: {}}\n",
    "topk2model2ilsvrcacc = {1: {}, 5: {}}\n",
    "\n",
    "for k in [1, 5]:\n",
    "    topk2model2wnid2ilsvrcrecall[k], topk2model2wnid2ilsvrcrecallse[k], _ = \\\n",
    "        calc_recall_per_y(ilsvrc_val_df, projected_wnid2imagenames, model_names, k)\n",
    "    \n",
    "    topk2model2ilsvrcacc[k], _ = \\\n",
    "        calc_equi_acc(model_names, topk2model2wnid2ilsvrcrecall[k], topk2model2wnid2ilsvrcrecallse[k])"
   ]
  },
  {
   "cell_type": "markdown",
   "metadata": {},
   "source": [
    "# Plot accuracy"
   ]
  },
  {
   "cell_type": "code",
   "execution_count": 69,
   "metadata": {},
   "outputs": [],
   "source": [
    "model_names.remove(configs.CLIPConfig.DEFAULT_VERSION)"
   ]
  },
  {
   "cell_type": "code",
   "execution_count": 76,
   "metadata": {},
   "outputs": [],
   "source": [
    "top_k = 5"
   ]
  },
  {
   "cell_type": "code",
   "execution_count": 77,
   "metadata": {
    "scrolled": false
   },
   "outputs": [
    {
     "data": {
      "image/png": "[encoded data removed]",
      "text/plain": [
       "<Figure size 320x320 with 1 Axes>"
      ]
     },
     "metadata": {},
     "output_type": "display_data"
    }
   ],
   "source": [
    "plt.figure(figsize=(3.2, 3.2))\n",
    "\n",
    "min_acc, max_acc = np.inf, -np.inf\n",
    "modelname2handle = {}\n",
    "for model_name in model_names:\n",
    "    cl = modelname2color[model_name]\n",
    "\n",
    "    acc = topk2model2acc[top_k][model_name]['acc']\n",
    "    acc_se = topk2model2acc[top_k][model_name]['acc_se']\n",
    "\n",
    "    h = plt.plot(acc, topk2model2ilsvrcacc[top_k][model_name]['acc'], 'o', color=cl)\n",
    "    plt.errorbar(\n",
    "        acc, \n",
    "        topk2model2ilsvrcacc[top_k][model_name]['acc'],\n",
    "        xerr=acc_se*z, \n",
    "        yerr=topk2model2ilsvrcacc[top_k][model_name]['acc_se'],\n",
    "        capsize=6,\n",
    "        color=cl\n",
    "    )\n",
    "\n",
    "    min_acc = np.minimum(min_acc, acc)\n",
    "    max_acc = np.maximum(max_acc, acc)\n",
    "\n",
    "    modelname2handle[model_name] = h[0]\n",
    "\n",
    "\n",
    "h = plt.plot([min_acc, max_acc], [min_acc, max_acc], 'k--')\n",
    "\n",
    "plt.legend(\n",
    "    handles=[\n",
    "        modelname2handle[all_model_names_1k[0]],\n",
    "        modelname2handle[all_model_names_pt21k_ft1k[0]],\n",
    "        modelname2handle[all_model_names_21k[0]],\n",
    "        h[0]\n",
    "    ],\n",
    "    labels=['1k models', 'pt22k-ft1k models', 'pt22k models', 'y=x'],\n",
    "    loc='lower right',\n",
    "    fontsize=8\n",
    ")\n",
    "\n",
    "plt.title(f'Top {top_k} accuracy')\n",
    "plt.xlabel('LAIONet \\n (equi-weighted classes)')\n",
    "plt.ylabel('ImageNet \\n (validation set)')\n",
    "\n",
    "plt.axis('equal')\n",
    "\n",
    "plt.tight_layout()\n",
    "\n",
    "plt.savefig(os.path.join('figs', 'top%d_equi-acc_vs_ilsvrc-val-acc_%s(tqsim%.2f).pdf' % (top_k, laionet_prefix, tq_sim_th)), bbox_inches='tight')\n",
    "    "
   ]
  },
  {
   "cell_type": "markdown",
   "metadata": {},
   "source": [
    "# Relative frequency of the classes"
   ]
  },
  {
   "cell_type": "markdown",
   "metadata": {},
   "source": [
    "## Load all labels (not skimmed)"
   ]
  },
  {
   "cell_type": "code",
   "execution_count": 101,
   "metadata": {},
   "outputs": [],
   "source": [
    "all_laionet_prefix = configs.NamingConfig.append_filtered(configs.NamingConfig.SUBSET_SM_PREFIX, text_query_sim_col)\n",
    "all_laionet_labels_file_name = f'wnid2laionindices({all_laionet_prefix}).pkl'\n",
    "\n",
    "with open(os.path.join(laionet_labels_path, all_laionet_labels_file_name), 'rb') as f:\n",
    "    all_wnid2laionindices = pickle.load(f)"
   ]
  },
  {
   "cell_type": "markdown",
   "metadata": {},
   "source": [
    "## Calc. stat."
   ]
  },
  {
   "cell_type": "code",
   "execution_count": 102,
   "metadata": {},
   "outputs": [],
   "source": [
    "n = np.sum([len(laion_indices) for _, laion_indices in all_wnid2laionindices.items()])\n",
    "\n",
    "wnid2freq = {wnid: len(laion_indices) for wnid, laion_indices in all_wnid2laionindices.items() if len(laion_indices) > 0}\n",
    "\n",
    "# Sort it by freq\n",
    "wnid2freq = dict(sorted(wnid2freq.items(), key=lambda item: -item[1]))\n",
    "\n",
    "# Find prob.\n",
    "wnid2prob = {wnid: freq/n for wnid, freq in wnid2freq.items()}"
   ]
  },
  {
   "cell_type": "code",
   "execution_count": 103,
   "metadata": {},
   "outputs": [],
   "source": [
    "wnids = list(wnid2freq.keys())\n",
    "\n",
    "synsets = []\n",
    "freqs = []\n",
    "for wnid in wnids:\n",
    "    synsets.append(wnu.get_synset(wnid).name().split('.n')[0])\n",
    "    freqs.append(wnid2freq[wnid])\n",
    "\n",
    "imagenet_tot = np.sum(freqs)"
   ]
  },
  {
   "cell_type": "code",
   "execution_count": 104,
   "metadata": {},
   "outputs": [
    {
     "name": "stdout",
     "output_type": "stream",
     "text": [
      "Out of roughly 400M LAION samples, 822149 (0.21%) of them have at least one ImageNet class.\n"
     ]
    }
   ],
   "source": [
    "print('Out of roughly 400M LAION samples, %d (%.2f%%) of them have at least one ImageNet class.'\n",
    "      % (imagenet_tot, imagenet_tot/4e8*100))"
   ]
  },
  {
   "cell_type": "markdown",
   "metadata": {},
   "source": [
    "## Plot freq."
   ]
  },
  {
   "cell_type": "code",
   "execution_count": 120,
   "metadata": {},
   "outputs": [
    {
     "data": {
      "image/png": "[encoded data removed]",
      "text/plain": [
       "<Figure size 800x260 with 1 Axes>"
      ]
     },
     "metadata": {},
     "output_type": "display_data"
    }
   ],
   "source": [
    "plt.figure(figsize=(8, 2.6))\n",
    "\n",
    "freqs = freqs[:500]\n",
    "synsets = synsets[:500]\n",
    "\n",
    "n = len(freqs)\n",
    "\n",
    "plt.bar(synsets, freqs/imagenet_tot, color='b', alpha=0.5)\n",
    "plt.plot([0, n - 1], [1/n]*2, 'r--', alpha=0.5)\n",
    "\n",
    "plt.ylabel('relative\\nfrequency', fontsize=12)\n",
    "# plt.xlabel('synsets (sampled)', fontsize=18)\n",
    "\n",
    "plt.xticks(rotation=-50, ha='left', rotation_mode='anchor', fontsize=9)\n",
    "\n",
    "ax = plt.gca()\n",
    "xticks = ax.xaxis.get_major_ticks()\n",
    "for i_x, xtick in enumerate(xticks):\n",
    "    if i_x % 25 != 0:\n",
    "        xtick.set_visible(False)\n",
    "        \n",
    "plt.yscale('log')\n",
    "\n",
    "plt.tight_layout()\n",
    "\n",
    "plt.savefig(os.path.join('figs', f'relative_freq_{all_laionet_prefix}(all).pdf'), bbox_inches='tight')"
   ]
  },
  {
   "cell_type": "markdown",
   "metadata": {},
   "source": [
    "# Calc. LAION-weighted accuracy"
   ]
  },
  {
   "cell_type": "code",
   "execution_count": 82,
   "metadata": {},
   "outputs": [
    {
     "name": "stdout",
     "output_type": "stream",
     "text": [
      "1.0\n"
     ]
    }
   ],
   "source": [
    "# Sanity check\n",
    "print(np.sum([prob for _, prob in wnid2prob.items()]))"
   ]
  },
  {
   "cell_type": "markdown",
   "metadata": {},
   "source": [
    "## Helper functions"
   ]
  },
  {
   "cell_type": "code",
   "execution_count": 83,
   "metadata": {},
   "outputs": [],
   "source": [
    "def calc_laion_acc(mdl2wnid2recall, mdl2wnid2recallse, wnid2p):\n",
    "    mdl2acc = {}\n",
    "    mdl2nwnid = {}\n",
    "    for model_name in model_names:\n",
    "        recalls = []\n",
    "        recallses = []\n",
    "        weights = []\n",
    "        for wnid, recall in mdl2wnid2recall[model_name].items():\n",
    "            recalls.append(recall)\n",
    "            recallses.append(mdl2wnid2recallse[model_name][wnid])\n",
    "            weights.append(wnid2p.get(wnid, 0))\n",
    "\n",
    "        recalls = np.array(recalls)\n",
    "        recallses = np.array(recallses)\n",
    "        weights = np.array(weights)\n",
    "\n",
    "        acc, acc_se = combine_recalls(recalls, recallses, weights)\n",
    "\n",
    "        mdl2acc[model_name] = {\n",
    "            'acc': acc, \n",
    "            'acc_se': acc_se,\n",
    "        }\n",
    "        \n",
    "        mdl2nwnid[model_name] = np.sum(~np.isnan(recalls))\n",
    "            \n",
    "    return mdl2acc, mdl2nwnid"
   ]
  },
  {
   "cell_type": "markdown",
   "metadata": {},
   "source": [
    "## Calc. acc"
   ]
  },
  {
   "cell_type": "code",
   "execution_count": 87,
   "metadata": {},
   "outputs": [],
   "source": [
    "top_k = 5"
   ]
  },
  {
   "cell_type": "code",
   "execution_count": 88,
   "metadata": {},
   "outputs": [],
   "source": [
    "model2laionacc, _ = calc_laion_acc(topk2model2wnid2recall[top_k], topk2model2wnid2recallse[top_k], wnid2prob)"
   ]
  },
  {
   "cell_type": "markdown",
   "metadata": {},
   "source": [
    "## Plot LAION-weighted accuracy vs. equi-weighted accuracy"
   ]
  },
  {
   "cell_type": "code",
   "execution_count": 89,
   "metadata": {},
   "outputs": [
    {
     "data": {
      "image/png": "[encoded data removed]",
      "text/plain": [
       "<Figure size 320x320 with 1 Axes>"
      ]
     },
     "metadata": {},
     "output_type": "display_data"
    }
   ],
   "source": [
    "plt.figure(figsize=(3.2, 3.2))\n",
    "\n",
    "min_acc, max_acc = np.inf, -np.inf\n",
    "modelname2handle = {}\n",
    "for model_name in model_names:\n",
    "    cl = modelname2color[model_name]\n",
    "\n",
    "    acc = topk2model2acc[top_k][model_name]['acc']\n",
    "    acc_se = topk2model2acc[top_k][model_name]['acc_se']\n",
    "    \n",
    "    acc_laion = model2laionacc[model_name]['acc']\n",
    "    acc_laion_se = model2laionacc[model_name]['acc_se']\n",
    "\n",
    "    h = plt.plot(acc, acc_laion, 'o', color=cl)\n",
    "    plt.errorbar(\n",
    "        acc, \n",
    "        acc_laion,\n",
    "        xerr=acc_se*z, \n",
    "        yerr=acc_laion_se*z,\n",
    "        capsize=6,\n",
    "        color=cl\n",
    "    )\n",
    "\n",
    "    min_acc = np.minimum(min_acc, acc)\n",
    "    max_acc = np.maximum(max_acc, acc)\n",
    "\n",
    "    modelname2handle[model_name] = h[0]\n",
    "\n",
    "\n",
    "h = plt.plot([min_acc, max_acc], [min_acc, max_acc], 'k--')\n",
    "\n",
    "plt.legend(\n",
    "    handles=[\n",
    "        modelname2handle[all_model_names_1k[0]],\n",
    "        modelname2handle[all_model_names_pt21k_ft1k[0]],\n",
    "        modelname2handle[all_model_names_21k[0]],\n",
    "        h[0]\n",
    "    ],\n",
    "    labels=['1k models', 'pt22k-ft1k models', 'pt22k models', 'y=x'],\n",
    "    loc='upper left',\n",
    "    fontsize=8\n",
    ")\n",
    "\n",
    "plt.title(f'Top {top_k} accuracy')\n",
    "plt.xlabel('LAIONet \\n (equi-weighted classes)')\n",
    "plt.ylabel('LAIONet \\n (LAION-weighted classes)')\n",
    "\n",
    "plt.axis('equal')\n",
    "\n",
    "plt.tight_layout()\n",
    "\n",
    "plt.savefig(os.path.join('figs', 'top%d_natural-acc_vs_equi-acc_%s(tqsim%.2f).pdf' % (top_k, laionet_prefix, tq_sim_th)), bbox_inches='tight')\n",
    "    "
   ]
  },
  {
   "cell_type": "code",
   "execution_count": null,
   "metadata": {},
   "outputs": [],
   "source": []
  }
 ],
 "metadata": {
  "kernelspec": {
   "display_name": "laionvenv",
   "language": "python",
   "name": "laionvenv"
  },
  "language_info": {
   "codemirror_mode": {
    "name": "ipython",
    "version": 3
   },
   "file_extension": ".py",
   "mimetype": "text/x-python",
   "name": "python",
   "nbconvert_exporter": "python",
   "pygments_lexer": "ipython3",
   "version": "3.8.2"
  }
 },
 "nbformat": 4,
 "nbformat_minor": 4
}

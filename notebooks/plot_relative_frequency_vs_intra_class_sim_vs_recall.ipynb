{
 "cells": [
  {
   "cell_type": "code",
   "execution_count": 1,
   "metadata": {},
   "outputs": [],
   "source": [
    "%load_ext autoreload\n",
    "%autoreload 2"
   ]
  },
  {
   "cell_type": "code",
   "execution_count": 2,
   "metadata": {},
   "outputs": [],
   "source": [
    "import os\n",
    "\n",
    "os.chdir('..')"
   ]
  },
  {
   "cell_type": "code",
   "execution_count": 4,
   "metadata": {},
   "outputs": [],
   "source": [
    "import pickle\n",
    "import itertools\n",
    "import glob\n",
    "\n",
    "import pandas as pd\n",
    "import numpy as np\n",
    "from tqdm import tqdm\n",
    "from matplotlib import pyplot as plt\n",
    "\n",
    "import configs\n",
    "from utils import utils\n",
    "from utils import laion_utils as laionu\n",
    "from utils import wordnet_utils as wnu\n",
    "from utils.calc_utils import calc_recall_per_y\n",
    "from core.ilsvrc_predictors import all_model_names_1k, all_model_names_pt21k_ft1k, all_model_names_21k\n",
    "from core.queries import QueryType"
   ]
  },
  {
   "cell_type": "markdown",
   "metadata": {},
   "source": [
    "# Settings"
   ]
  },
  {
   "cell_type": "markdown",
   "metadata": {},
   "source": [
    "## Filtering"
   ]
  },
  {
   "cell_type": "code",
   "execution_count": 79,
   "metadata": {},
   "outputs": [
    {
     "name": "stdout",
     "output_type": "stream",
     "text": [
      "text_to_name_def_wnid_similarity_all-mpnet-base-v2\n"
     ]
    }
   ],
   "source": [
    "q_type = QueryType.NAME_DEF\n",
    "q_key = 'wnid'\n",
    "# text_encoder_ver = configs.CLIPConfig.DEFAULT_VERSION\n",
    "text_encoder_ver = 'all-mpnet-base-v2'\n",
    "\n",
    "query_col = q_type + '_' + q_key\n",
    "text_query_sim_col = f'text_to_{query_col}_similarity_{text_encoder_ver}'\n",
    "\n",
    "print(text_query_sim_col)"
   ]
  },
  {
   "cell_type": "markdown",
   "metadata": {},
   "source": [
    "## Path"
   ]
  },
  {
   "cell_type": "markdown",
   "metadata": {},
   "source": [
    "### LAIONet"
   ]
  },
  {
   "cell_type": "code",
   "execution_count": 164,
   "metadata": {},
   "outputs": [
    {
     "name": "stdout",
     "output_type": "stream",
     "text": [
      "subset_sm_filt(text_to_name_def_wnid_similarity_all-mpnet-base-v2)_skimmed_part-00000-to-part00031-5b54c5d5-bbcf-484d-a2ce-0d6f73df1a36-c000.snappy.parquet\n"
     ]
    }
   ],
   "source": [
    "laion_path = 'laion400m'\n",
    "laion_until_part = 31\n",
    "\n",
    "laionet_prefix = configs.NamingConfig.append_filtered(configs.NamingConfig.SUBSET_SM_PREFIX, text_query_sim_col)\n",
    "\n",
    "do_skim = True\n",
    "if do_skim:\n",
    "    laionet_prefix = configs.NamingConfig.append_skimmed(laionet_prefix)\n",
    "\n",
    "laionet_file_name = laionet_prefix + '_' + laionu.get_laion_subset_file_name(0, laion_until_part)\n",
    "\n",
    "print(laionet_file_name)\n",
    "\n",
    "# Labels\n",
    "laionet_labels_path = os.path.join(laion_path, 'processed', 'ilsvrc_labels')\n",
    "laionet_labels_file_name = f'wnid2laionindices({laionet_prefix}).pkl'"
   ]
  },
  {
   "cell_type": "markdown",
   "metadata": {},
   "source": [
    "### ILSVRC val"
   ]
  },
  {
   "cell_type": "code",
   "execution_count": 165,
   "metadata": {},
   "outputs": [],
   "source": [
    "ilsvrc_path = 'ilsvrc2012'\n",
    "\n",
    "ilsvrc_val_prefix = 'ILSVRC2012_val'\n",
    "\n",
    "ilsvrc_val_file_name = ilsvrc_val_prefix + '.parquet'\n",
    "\n",
    "# Labels\n",
    "ilsvrc_val_labels_file_path = os.path.join(ilsvrc_path, 'processed', 'labels', 'imagename2wnid.pkl')"
   ]
  },
  {
   "cell_type": "markdown",
   "metadata": {},
   "source": [
    "## Other"
   ]
  },
  {
   "cell_type": "code",
   "execution_count": 166,
   "metadata": {},
   "outputs": [],
   "source": [
    "top_k_col = lambda k, mdl: f'top_{k}_is_correct_{mdl}'\n",
    "rec_text_is_in_col = f'wnid_is_in_recognized_text'"
   ]
  },
  {
   "cell_type": "markdown",
   "metadata": {},
   "source": [
    "## Models"
   ]
  },
  {
   "cell_type": "code",
   "execution_count": 167,
   "metadata": {
    "scrolled": true
   },
   "outputs": [
    {
     "name": "stdout",
     "output_type": "stream",
     "text": [
      "resnet-18\n",
      "resnet-34\n",
      "resnet-50\n",
      "resnet-101\n",
      "resnet-152\n",
      "convnext-tiny-224\n",
      "convnext-small-224\n",
      "convnext-base-224\n",
      "convnext-large-224\n",
      "convnext-base-384\n",
      "convnext-large-384\n",
      "vit-base-patch16-224\n",
      "vit-base-patch16-384\n",
      "vit-base-patch32-384\n",
      "vit-large-patch16-224\n",
      "vit-large-patch16-384\n",
      "vit-large-patch32-384\n",
      "convnext-base-224-22k-1k\n",
      "convnext-large-224-22k-1k\n",
      "convnext-base-384-22k-1k\n",
      "convnext-large-384-22k-1k\n",
      "beit-base-patch16-224\n",
      "beit-base-patch16-384\n",
      "beit-large-patch16-224\n",
      "beit-large-patch16-384\n",
      "convnext-base-224-22k\n",
      "convnext-large-224-22k\n",
      "beit-base-patch16-224-pt22k-ft22k\n",
      "beit-large-patch16-224-pt22k-ft22k\n"
     ]
    }
   ],
   "source": [
    "model_names = all_model_names_1k + all_model_names_pt21k_ft1k + all_model_names_21k\n",
    "\n",
    "# model_names.append(configs.CLIPConfig.DEFAULT_VERSION)\n",
    "\n",
    "print('\\n'.join(model_names))"
   ]
  },
  {
   "cell_type": "code",
   "execution_count": 168,
   "metadata": {},
   "outputs": [],
   "source": [
    "modelname2color = {}\n",
    "\n",
    "for model_name in all_model_names_1k:\n",
    "    modelname2color[model_name] = 'r'\n",
    "\n",
    "for model_name in all_model_names_pt21k_ft1k:\n",
    "    modelname2color[model_name] = 'y'\n",
    "    \n",
    "for model_name in all_model_names_21k:\n",
    "    modelname2color[model_name] = 'g'\n",
    "    \n",
    "modelname2color[configs.CLIPConfig.DEFAULT_VERSION] = 'k'"
   ]
  },
  {
   "cell_type": "markdown",
   "metadata": {},
   "source": [
    "# Load"
   ]
  },
  {
   "cell_type": "markdown",
   "metadata": {},
   "source": [
    "## LAIONet"
   ]
  },
  {
   "cell_type": "code",
   "execution_count": 169,
   "metadata": {},
   "outputs": [
    {
     "data": {
      "text/html": [
       "<div>\n",
       "<style scoped>\n",
       "    .dataframe tbody tr th:only-of-type {\n",
       "        vertical-align: middle;\n",
       "    }\n",
       "\n",
       "    .dataframe tbody tr th {\n",
       "        vertical-align: top;\n",
       "    }\n",
       "\n",
       "    .dataframe thead th {\n",
       "        text-align: right;\n",
       "    }\n",
       "</style>\n",
       "<table border=\"1\" class=\"dataframe\">\n",
       "  <thead>\n",
       "    <tr style=\"text-align: right;\">\n",
       "      <th></th>\n",
       "      <th>SAMPLE_ID</th>\n",
       "      <th>URL</th>\n",
       "      <th>TEXT</th>\n",
       "      <th>HEIGHT</th>\n",
       "      <th>WIDTH</th>\n",
       "      <th>LICENSE</th>\n",
       "      <th>NSFW</th>\n",
       "      <th>similarity</th>\n",
       "      <th>name_def_wnid</th>\n",
       "      <th>text_to_name_def_wnid_similarity_clip-vit-base-patch32</th>\n",
       "      <th>...</th>\n",
       "      <th>top_5_is_correct_convnext-large-384</th>\n",
       "      <th>top_1_is_correct_convnext-base-224-22k-1k</th>\n",
       "      <th>top_5_is_correct_convnext-base-224-22k-1k</th>\n",
       "      <th>top_1_is_correct_convnext-large-224-22k-1k</th>\n",
       "      <th>top_5_is_correct_convnext-large-224-22k-1k</th>\n",
       "      <th>top_1_is_correct_convnext-base-384-22k-1k</th>\n",
       "      <th>top_5_is_correct_convnext-base-384-22k-1k</th>\n",
       "      <th>top_1_is_correct_convnext-large-384-22k-1k</th>\n",
       "      <th>top_5_is_correct_convnext-large-384-22k-1k</th>\n",
       "      <th>wnid_is_in_recognized_text</th>\n",
       "    </tr>\n",
       "  </thead>\n",
       "  <tbody>\n",
       "    <tr>\n",
       "      <th>2908497206</th>\n",
       "      <td>3.067475e+12</td>\n",
       "      <td>https://c8.alamy.com/comp/GCAKFC/dyrholaey-pro...</td>\n",
       "      <td>Dyrholaey promontory, formerly an island of vo...</td>\n",
       "      <td>1300.0</td>\n",
       "      <td>957.0</td>\n",
       "      <td>?</td>\n",
       "      <td>UNLIKELY</td>\n",
       "      <td>0.324312</td>\n",
       "      <td>promontory which is a natural elevation (espec...</td>\n",
       "      <td>0.779675</td>\n",
       "      <td>...</td>\n",
       "      <td>True</td>\n",
       "      <td>False</td>\n",
       "      <td>True</td>\n",
       "      <td>False</td>\n",
       "      <td>True</td>\n",
       "      <td>False</td>\n",
       "      <td>True</td>\n",
       "      <td>False</td>\n",
       "      <td>True</td>\n",
       "      <td>False</td>\n",
       "    </tr>\n",
       "    <tr>\n",
       "      <th>1505348731</th>\n",
       "      <td>3.067475e+12</td>\n",
       "      <td>https://c8.alamy.com/comp/GCAMKD/dyrholaey-pro...</td>\n",
       "      <td>Dyrholaey promontory, formerly an island of vo...</td>\n",
       "      <td>1300.0</td>\n",
       "      <td>957.0</td>\n",
       "      <td>?</td>\n",
       "      <td>UNLIKELY</td>\n",
       "      <td>0.326598</td>\n",
       "      <td>promontory which is a natural elevation (espec...</td>\n",
       "      <td>0.779675</td>\n",
       "      <td>...</td>\n",
       "      <td>True</td>\n",
       "      <td>False</td>\n",
       "      <td>True</td>\n",
       "      <td>False</td>\n",
       "      <td>True</td>\n",
       "      <td>False</td>\n",
       "      <td>True</td>\n",
       "      <td>False</td>\n",
       "      <td>True</td>\n",
       "      <td>False</td>\n",
       "    </tr>\n",
       "    <tr>\n",
       "      <th>2312836334</th>\n",
       "      <td>2.009960e+11</td>\n",
       "      <td>https://static2.bigstockphoto.com/thumbs/9/2/5...</td>\n",
       "      <td>stock photo of promontory  - A view along a ro...</td>\n",
       "      <td>170.0</td>\n",
       "      <td>112.0</td>\n",
       "      <td>?</td>\n",
       "      <td>UNLIKELY</td>\n",
       "      <td>0.345728</td>\n",
       "      <td>promontory which is a natural elevation (espec...</td>\n",
       "      <td>0.505195</td>\n",
       "      <td>...</td>\n",
       "      <td>True</td>\n",
       "      <td>True</td>\n",
       "      <td>True</td>\n",
       "      <td>True</td>\n",
       "      <td>True</td>\n",
       "      <td>True</td>\n",
       "      <td>True</td>\n",
       "      <td>True</td>\n",
       "      <td>True</td>\n",
       "      <td>False</td>\n",
       "    </tr>\n",
       "  </tbody>\n",
       "</table>\n",
       "<p>3 rows × 74 columns</p>\n",
       "</div>"
      ],
      "text/plain": [
       "               SAMPLE_ID                                                URL  \\\n",
       "2908497206  3.067475e+12  https://c8.alamy.com/comp/GCAKFC/dyrholaey-pro...   \n",
       "1505348731  3.067475e+12  https://c8.alamy.com/comp/GCAMKD/dyrholaey-pro...   \n",
       "2312836334  2.009960e+11  https://static2.bigstockphoto.com/thumbs/9/2/5...   \n",
       "\n",
       "                                                         TEXT  HEIGHT  WIDTH  \\\n",
       "2908497206  Dyrholaey promontory, formerly an island of vo...  1300.0  957.0   \n",
       "1505348731  Dyrholaey promontory, formerly an island of vo...  1300.0  957.0   \n",
       "2312836334  stock photo of promontory  - A view along a ro...   170.0  112.0   \n",
       "\n",
       "           LICENSE      NSFW  similarity  \\\n",
       "2908497206       ?  UNLIKELY    0.324312   \n",
       "1505348731       ?  UNLIKELY    0.326598   \n",
       "2312836334       ?  UNLIKELY    0.345728   \n",
       "\n",
       "                                                name_def_wnid  \\\n",
       "2908497206  promontory which is a natural elevation (espec...   \n",
       "1505348731  promontory which is a natural elevation (espec...   \n",
       "2312836334  promontory which is a natural elevation (espec...   \n",
       "\n",
       "            text_to_name_def_wnid_similarity_clip-vit-base-patch32  ...  \\\n",
       "2908497206                                           0.779675       ...   \n",
       "1505348731                                           0.779675       ...   \n",
       "2312836334                                           0.505195       ...   \n",
       "\n",
       "            top_5_is_correct_convnext-large-384  \\\n",
       "2908497206                                 True   \n",
       "1505348731                                 True   \n",
       "2312836334                                 True   \n",
       "\n",
       "            top_1_is_correct_convnext-base-224-22k-1k  \\\n",
       "2908497206                                      False   \n",
       "1505348731                                      False   \n",
       "2312836334                                       True   \n",
       "\n",
       "           top_5_is_correct_convnext-base-224-22k-1k  \\\n",
       "2908497206                                      True   \n",
       "1505348731                                      True   \n",
       "2312836334                                      True   \n",
       "\n",
       "            top_1_is_correct_convnext-large-224-22k-1k  \\\n",
       "2908497206                                       False   \n",
       "1505348731                                       False   \n",
       "2312836334                                        True   \n",
       "\n",
       "            top_5_is_correct_convnext-large-224-22k-1k  \\\n",
       "2908497206                                        True   \n",
       "1505348731                                        True   \n",
       "2312836334                                        True   \n",
       "\n",
       "           top_1_is_correct_convnext-base-384-22k-1k  \\\n",
       "2908497206                                     False   \n",
       "1505348731                                     False   \n",
       "2312836334                                      True   \n",
       "\n",
       "           top_5_is_correct_convnext-base-384-22k-1k  \\\n",
       "2908497206                                      True   \n",
       "1505348731                                      True   \n",
       "2312836334                                      True   \n",
       "\n",
       "           top_1_is_correct_convnext-large-384-22k-1k  \\\n",
       "2908497206                                      False   \n",
       "1505348731                                      False   \n",
       "2312836334                                       True   \n",
       "\n",
       "           top_5_is_correct_convnext-large-384-22k-1k  \\\n",
       "2908497206                                       True   \n",
       "1505348731                                       True   \n",
       "2312836334                                       True   \n",
       "\n",
       "           wnid_is_in_recognized_text  \n",
       "2908497206                      False  \n",
       "1505348731                      False  \n",
       "2312836334                      False  \n",
       "\n",
       "[3 rows x 74 columns]"
      ]
     },
     "execution_count": 169,
     "metadata": {},
     "output_type": "execute_result"
    }
   ],
   "source": [
    "df = pd.read_parquet(\n",
    "    os.path.join(laion_path, laionet_file_name)\n",
    ")\n",
    "\n",
    "df.head(3)"
   ]
  },
  {
   "cell_type": "markdown",
   "metadata": {},
   "source": [
    "## ILSVRC val"
   ]
  },
  {
   "cell_type": "code",
   "execution_count": 170,
   "metadata": {},
   "outputs": [
    {
     "name": "stdout",
     "output_type": "stream",
     "text": [
      "(50000, 61)\n"
     ]
    },
    {
     "data": {
      "text/html": [
       "<div>\n",
       "<style scoped>\n",
       "    .dataframe tbody tr th:only-of-type {\n",
       "        vertical-align: middle;\n",
       "    }\n",
       "\n",
       "    .dataframe tbody tr th {\n",
       "        vertical-align: top;\n",
       "    }\n",
       "\n",
       "    .dataframe thead th {\n",
       "        text-align: right;\n",
       "    }\n",
       "</style>\n",
       "<table border=\"1\" class=\"dataframe\">\n",
       "  <thead>\n",
       "    <tr style=\"text-align: right;\">\n",
       "      <th></th>\n",
       "      <th>name_def_wnid</th>\n",
       "      <th>top_1_is_correct_clip-vit-base-patch32</th>\n",
       "      <th>top_5_is_correct_clip-vit-base-patch32</th>\n",
       "      <th>top_1_is_correct_resnet-18</th>\n",
       "      <th>top_5_is_correct_resnet-18</th>\n",
       "      <th>top_1_is_correct_resnet-34</th>\n",
       "      <th>top_5_is_correct_resnet-34</th>\n",
       "      <th>top_1_is_correct_resnet-50</th>\n",
       "      <th>top_5_is_correct_resnet-50</th>\n",
       "      <th>top_1_is_correct_resnet-101</th>\n",
       "      <th>...</th>\n",
       "      <th>top_1_is_correct_convnext-large-384</th>\n",
       "      <th>top_5_is_correct_convnext-large-384</th>\n",
       "      <th>top_1_is_correct_convnext-base-224-22k-1k</th>\n",
       "      <th>top_5_is_correct_convnext-base-224-22k-1k</th>\n",
       "      <th>top_1_is_correct_convnext-large-224-22k-1k</th>\n",
       "      <th>top_5_is_correct_convnext-large-224-22k-1k</th>\n",
       "      <th>top_1_is_correct_convnext-base-384-22k-1k</th>\n",
       "      <th>top_5_is_correct_convnext-base-384-22k-1k</th>\n",
       "      <th>top_1_is_correct_convnext-large-384-22k-1k</th>\n",
       "      <th>top_5_is_correct_convnext-large-384-22k-1k</th>\n",
       "    </tr>\n",
       "  </thead>\n",
       "  <tbody>\n",
       "    <tr>\n",
       "      <th>ILSVRC2012_val_00049998.JPEG</th>\n",
       "      <td>border collie which is developed in the area b...</td>\n",
       "      <td>True</td>\n",
       "      <td>True</td>\n",
       "      <td>True</td>\n",
       "      <td>True</td>\n",
       "      <td>True</td>\n",
       "      <td>True</td>\n",
       "      <td>False</td>\n",
       "      <td>True</td>\n",
       "      <td>True</td>\n",
       "      <td>...</td>\n",
       "      <td>False</td>\n",
       "      <td>True</td>\n",
       "      <td>True</td>\n",
       "      <td>True</td>\n",
       "      <td>True</td>\n",
       "      <td>True</td>\n",
       "      <td>True</td>\n",
       "      <td>True</td>\n",
       "      <td>True</td>\n",
       "      <td>True</td>\n",
       "    </tr>\n",
       "    <tr>\n",
       "      <th>ILSVRC2012_val_00049999.JPEG</th>\n",
       "      <td>groom which is a man participant in his own ma...</td>\n",
       "      <td>True</td>\n",
       "      <td>True</td>\n",
       "      <td>True</td>\n",
       "      <td>True</td>\n",
       "      <td>True</td>\n",
       "      <td>True</td>\n",
       "      <td>True</td>\n",
       "      <td>True</td>\n",
       "      <td>True</td>\n",
       "      <td>...</td>\n",
       "      <td>True</td>\n",
       "      <td>True</td>\n",
       "      <td>True</td>\n",
       "      <td>True</td>\n",
       "      <td>True</td>\n",
       "      <td>True</td>\n",
       "      <td>True</td>\n",
       "      <td>True</td>\n",
       "      <td>True</td>\n",
       "      <td>True</td>\n",
       "    </tr>\n",
       "    <tr>\n",
       "      <th>ILSVRC2012_val_00050000.JPEG</th>\n",
       "      <td>llama which is wild or domesticated South Amer...</td>\n",
       "      <td>True</td>\n",
       "      <td>True</td>\n",
       "      <td>False</td>\n",
       "      <td>True</td>\n",
       "      <td>True</td>\n",
       "      <td>True</td>\n",
       "      <td>True</td>\n",
       "      <td>True</td>\n",
       "      <td>True</td>\n",
       "      <td>...</td>\n",
       "      <td>True</td>\n",
       "      <td>True</td>\n",
       "      <td>True</td>\n",
       "      <td>True</td>\n",
       "      <td>True</td>\n",
       "      <td>True</td>\n",
       "      <td>True</td>\n",
       "      <td>True</td>\n",
       "      <td>True</td>\n",
       "      <td>True</td>\n",
       "    </tr>\n",
       "  </tbody>\n",
       "</table>\n",
       "<p>3 rows × 61 columns</p>\n",
       "</div>"
      ],
      "text/plain": [
       "                                                                  name_def_wnid  \\\n",
       "ILSVRC2012_val_00049998.JPEG  border collie which is developed in the area b...   \n",
       "ILSVRC2012_val_00049999.JPEG  groom which is a man participant in his own ma...   \n",
       "ILSVRC2012_val_00050000.JPEG  llama which is wild or domesticated South Amer...   \n",
       "\n",
       "                             top_1_is_correct_clip-vit-base-patch32  \\\n",
       "ILSVRC2012_val_00049998.JPEG                                   True   \n",
       "ILSVRC2012_val_00049999.JPEG                                   True   \n",
       "ILSVRC2012_val_00050000.JPEG                                   True   \n",
       "\n",
       "                             top_5_is_correct_clip-vit-base-patch32  \\\n",
       "ILSVRC2012_val_00049998.JPEG                                   True   \n",
       "ILSVRC2012_val_00049999.JPEG                                   True   \n",
       "ILSVRC2012_val_00050000.JPEG                                   True   \n",
       "\n",
       "                             top_1_is_correct_resnet-18  \\\n",
       "ILSVRC2012_val_00049998.JPEG                       True   \n",
       "ILSVRC2012_val_00049999.JPEG                       True   \n",
       "ILSVRC2012_val_00050000.JPEG                      False   \n",
       "\n",
       "                             top_5_is_correct_resnet-18  \\\n",
       "ILSVRC2012_val_00049998.JPEG                       True   \n",
       "ILSVRC2012_val_00049999.JPEG                       True   \n",
       "ILSVRC2012_val_00050000.JPEG                       True   \n",
       "\n",
       "                             top_1_is_correct_resnet-34  \\\n",
       "ILSVRC2012_val_00049998.JPEG                       True   \n",
       "ILSVRC2012_val_00049999.JPEG                       True   \n",
       "ILSVRC2012_val_00050000.JPEG                       True   \n",
       "\n",
       "                             top_5_is_correct_resnet-34  \\\n",
       "ILSVRC2012_val_00049998.JPEG                       True   \n",
       "ILSVRC2012_val_00049999.JPEG                       True   \n",
       "ILSVRC2012_val_00050000.JPEG                       True   \n",
       "\n",
       "                             top_1_is_correct_resnet-50  \\\n",
       "ILSVRC2012_val_00049998.JPEG                      False   \n",
       "ILSVRC2012_val_00049999.JPEG                       True   \n",
       "ILSVRC2012_val_00050000.JPEG                       True   \n",
       "\n",
       "                             top_5_is_correct_resnet-50  \\\n",
       "ILSVRC2012_val_00049998.JPEG                       True   \n",
       "ILSVRC2012_val_00049999.JPEG                       True   \n",
       "ILSVRC2012_val_00050000.JPEG                       True   \n",
       "\n",
       "                             top_1_is_correct_resnet-101  ...  \\\n",
       "ILSVRC2012_val_00049998.JPEG                        True  ...   \n",
       "ILSVRC2012_val_00049999.JPEG                        True  ...   \n",
       "ILSVRC2012_val_00050000.JPEG                        True  ...   \n",
       "\n",
       "                             top_1_is_correct_convnext-large-384  \\\n",
       "ILSVRC2012_val_00049998.JPEG                               False   \n",
       "ILSVRC2012_val_00049999.JPEG                                True   \n",
       "ILSVRC2012_val_00050000.JPEG                                True   \n",
       "\n",
       "                             top_5_is_correct_convnext-large-384  \\\n",
       "ILSVRC2012_val_00049998.JPEG                                True   \n",
       "ILSVRC2012_val_00049999.JPEG                                True   \n",
       "ILSVRC2012_val_00050000.JPEG                                True   \n",
       "\n",
       "                             top_1_is_correct_convnext-base-224-22k-1k  \\\n",
       "ILSVRC2012_val_00049998.JPEG                                      True   \n",
       "ILSVRC2012_val_00049999.JPEG                                      True   \n",
       "ILSVRC2012_val_00050000.JPEG                                      True   \n",
       "\n",
       "                             top_5_is_correct_convnext-base-224-22k-1k  \\\n",
       "ILSVRC2012_val_00049998.JPEG                                      True   \n",
       "ILSVRC2012_val_00049999.JPEG                                      True   \n",
       "ILSVRC2012_val_00050000.JPEG                                      True   \n",
       "\n",
       "                             top_1_is_correct_convnext-large-224-22k-1k  \\\n",
       "ILSVRC2012_val_00049998.JPEG                                       True   \n",
       "ILSVRC2012_val_00049999.JPEG                                       True   \n",
       "ILSVRC2012_val_00050000.JPEG                                       True   \n",
       "\n",
       "                             top_5_is_correct_convnext-large-224-22k-1k  \\\n",
       "ILSVRC2012_val_00049998.JPEG                                       True   \n",
       "ILSVRC2012_val_00049999.JPEG                                       True   \n",
       "ILSVRC2012_val_00050000.JPEG                                       True   \n",
       "\n",
       "                             top_1_is_correct_convnext-base-384-22k-1k  \\\n",
       "ILSVRC2012_val_00049998.JPEG                                      True   \n",
       "ILSVRC2012_val_00049999.JPEG                                      True   \n",
       "ILSVRC2012_val_00050000.JPEG                                      True   \n",
       "\n",
       "                             top_5_is_correct_convnext-base-384-22k-1k  \\\n",
       "ILSVRC2012_val_00049998.JPEG                                      True   \n",
       "ILSVRC2012_val_00049999.JPEG                                      True   \n",
       "ILSVRC2012_val_00050000.JPEG                                      True   \n",
       "\n",
       "                             top_1_is_correct_convnext-large-384-22k-1k  \\\n",
       "ILSVRC2012_val_00049998.JPEG                                       True   \n",
       "ILSVRC2012_val_00049999.JPEG                                       True   \n",
       "ILSVRC2012_val_00050000.JPEG                                       True   \n",
       "\n",
       "                             top_5_is_correct_convnext-large-384-22k-1k  \n",
       "ILSVRC2012_val_00049998.JPEG                                       True  \n",
       "ILSVRC2012_val_00049999.JPEG                                       True  \n",
       "ILSVRC2012_val_00050000.JPEG                                       True  \n",
       "\n",
       "[3 rows x 61 columns]"
      ]
     },
     "execution_count": 170,
     "metadata": {},
     "output_type": "execute_result"
    }
   ],
   "source": [
    "ilsvrc_val_df = pd.read_parquet(os.path.join(ilsvrc_path, ilsvrc_val_file_name))\n",
    "\n",
    "print(ilsvrc_val_df.shape)\n",
    "\n",
    "ilsvrc_val_df.tail(3)"
   ]
  },
  {
   "cell_type": "markdown",
   "metadata": {},
   "source": [
    "## Labels"
   ]
  },
  {
   "cell_type": "code",
   "execution_count": 171,
   "metadata": {},
   "outputs": [],
   "source": [
    "with open(os.path.join(laionet_labels_path, laionet_labels_file_name), 'rb') as f:\n",
    "    wnid2laionindices = pickle.load(f)"
   ]
  },
  {
   "cell_type": "code",
   "execution_count": 172,
   "metadata": {},
   "outputs": [],
   "source": [
    "with open(ilsvrc_val_labels_file_path, 'rb') as f:\n",
    "    imagename2wnid = pickle.load(f)\n",
    "    \n",
    "# Find the inverse map\n",
    "wnid2imagenames = utils.find_inverse_map(imagename2wnid)"
   ]
  },
  {
   "cell_type": "markdown",
   "metadata": {},
   "source": [
    "# Calc. recall"
   ]
  },
  {
   "cell_type": "code",
   "execution_count": 173,
   "metadata": {},
   "outputs": [],
   "source": [
    "tq_sim_th = 0.58  # 0.82"
   ]
  },
  {
   "cell_type": "markdown",
   "metadata": {},
   "source": [
    "## LAIONet"
   ]
  },
  {
   "cell_type": "code",
   "execution_count": 174,
   "metadata": {},
   "outputs": [
    {
     "name": "stderr",
     "output_type": "stream",
     "text": [
      "100%|█████████████████████████████████████████████████████████████████████████████████████████████████████████████████████████████████████████████████████████████████████████| 978/978 [00:15<00:00, 62.11it/s]\n",
      "100%|█████████████████████████████████████████████████████████████████████████████████████████████████████████████████████████████████████████████████████████████████████████| 978/978 [00:16<00:00, 59.32it/s]\n"
     ]
    }
   ],
   "source": [
    "df_filt = df[df[text_query_sim_col] > tq_sim_th]\n",
    "\n",
    "topk2model2wnid2recall = {1: {}, 5: {}}\n",
    "topk2model2wnid2recallse = {1: {}, 5: {}}\n",
    "\n",
    "for k in [1, 5]:\n",
    "    topk2model2wnid2recall[k], topk2model2wnid2recallse[k], _ = \\\n",
    "        calc_recall_per_y(df_filt, wnid2laionindices, model_names, k, drop_if_true_cols=[rec_text_is_in_col])"
   ]
  },
  {
   "cell_type": "markdown",
   "metadata": {},
   "source": [
    "## ILSVRC val"
   ]
  },
  {
   "cell_type": "code",
   "execution_count": 175,
   "metadata": {},
   "outputs": [],
   "source": [
    "projected_wnid2imagenames = {wnid: image_names for wnid, image_names in wnid2imagenames.items()\n",
    "                           if wnid in wnid2laionindices}"
   ]
  },
  {
   "cell_type": "code",
   "execution_count": 176,
   "metadata": {},
   "outputs": [
    {
     "name": "stderr",
     "output_type": "stream",
     "text": [
      "100%|█████████████████████████████████████████████████████████████████████████████████████████████████████████████████████████████████████████████████████████████████████████| 977/977 [00:18<00:00, 53.16it/s]\n",
      "100%|█████████████████████████████████████████████████████████████████████████████████████████████████████████████████████████████████████████████████████████████████████████| 977/977 [00:20<00:00, 47.40it/s]\n"
     ]
    }
   ],
   "source": [
    "topk2model2wnid2ilsvrcrecall = {1: {}, 5: {}}\n",
    "topk2model2wnid2ilsvrcrecallse = {1: {}, 5: {}}\n",
    "\n",
    "for k in [1, 5]:\n",
    "    topk2model2wnid2ilsvrcrecall[k], topk2model2wnid2ilsvrcrecallse[k], _ = \\\n",
    "        calc_recall_per_y(ilsvrc_val_df, projected_wnid2imagenames, model_names, k)"
   ]
  },
  {
   "cell_type": "markdown",
   "metadata": {},
   "source": [
    "# Relative frequency of the classes"
   ]
  },
  {
   "cell_type": "markdown",
   "metadata": {},
   "source": [
    "## Load all labels (not skimmed)"
   ]
  },
  {
   "cell_type": "code",
   "execution_count": 177,
   "metadata": {},
   "outputs": [],
   "source": [
    "all_laionet_prefix = configs.NamingConfig.append_filtered(configs.NamingConfig.SUBSET_SM_PREFIX, text_query_sim_col)\n",
    "all_laionet_labels_file_name = f'wnid2laionindices({all_laionet_prefix}).pkl'\n",
    "\n",
    "with open(os.path.join(laionet_labels_path, all_laionet_labels_file_name), 'rb') as f:\n",
    "    all_wnid2laionindices = pickle.load(f)"
   ]
  },
  {
   "cell_type": "markdown",
   "metadata": {},
   "source": [
    "## Calc. stat."
   ]
  },
  {
   "cell_type": "code",
   "execution_count": 178,
   "metadata": {},
   "outputs": [],
   "source": [
    "n = np.sum([len(laion_indices) for _, laion_indices in all_wnid2laionindices.items()])\n",
    "\n",
    "wnid2freq = {wnid: len(laion_indices) for wnid, laion_indices in all_wnid2laionindices.items() if len(laion_indices) > 0}\n",
    "\n",
    "# Sort it by freq\n",
    "wnid2freq = dict(sorted(wnid2freq.items(), key=lambda item: -item[1]))\n",
    "\n",
    "# Find prob.\n",
    "wnid2prob = {wnid: freq/n for wnid, freq in wnid2freq.items()}"
   ]
  },
  {
   "cell_type": "code",
   "execution_count": 179,
   "metadata": {},
   "outputs": [],
   "source": [
    "wnids = list(wnid2freq.keys())\n",
    "\n",
    "synsets = []\n",
    "freqs = []\n",
    "for wnid in wnids:\n",
    "    synsets.append(wnu.get_synset(wnid).name().split('.n')[0])\n",
    "    freqs.append(wnid2freq[wnid])\n",
    "\n",
    "imagenet_tot = np.sum(freqs)"
   ]
  },
  {
   "cell_type": "code",
   "execution_count": 180,
   "metadata": {},
   "outputs": [
    {
     "name": "stdout",
     "output_type": "stream",
     "text": [
      "Out of roughly 400M LAION samples, 1297309 (0.32%) of them have at least one ImageNet class.\n"
     ]
    }
   ],
   "source": [
    "print('Out of roughly 400M LAION samples, %d (%.2f%%) of them have at least one ImageNet class.'\n",
    "      % (imagenet_tot, imagenet_tot/4e8*100))"
   ]
  },
  {
   "cell_type": "markdown",
   "metadata": {},
   "source": [
    "# Accuracy vs. frequency"
   ]
  },
  {
   "cell_type": "code",
   "execution_count": 154,
   "metadata": {},
   "outputs": [],
   "source": [
    "top_k = 5"
   ]
  },
  {
   "cell_type": "code",
   "execution_count": 155,
   "metadata": {},
   "outputs": [],
   "source": [
    "chosen_model_names = [\n",
    "    'resnet-50',\n",
    "    'convnext-base-224',\n",
    "    'convnext-base-224-22k-1k',\n",
    "    'vit-base-patch16-224', \n",
    "]"
   ]
  },
  {
   "cell_type": "code",
   "execution_count": 156,
   "metadata": {},
   "outputs": [
    {
     "data": {
      "image/png": "[encoded data removed]",
      "text/plain": [
       "<Figure size 880x200 with 4 Axes>"
      ]
     },
     "metadata": {},
     "output_type": "display_data"
    }
   ],
   "source": [
    "n_m = len(chosen_model_names)\n",
    "\n",
    "plt.figure(figsize=(n_m*2.2, 2))\n",
    "\n",
    "for i_m, model_name in enumerate(chosen_model_names):\n",
    "    recalls = []\n",
    "    probs = []\n",
    "    for wnid, prob in wnid2prob.items():\n",
    "        if wnid2freq[wnid] < 10:\n",
    "            continue\n",
    "        if wnid not in topk2model2wnid2recall[top_k][model_name]:\n",
    "            continue\n",
    "        recalls.append(topk2model2wnid2recall[top_k][model_name][wnid])\n",
    "        probs.append(prob)\n",
    "        \n",
    "    plt.subplot(1, n_m, i_m + 1)\n",
    "    cl = modelname2color[model_name]\n",
    "    \n",
    "    plt.plot(probs, recalls, 'o', alpha=0.05, color=cl)\n",
    "    \n",
    "    plt.legend([model_name], fontsize=7)\n",
    "    plt.xlabel('relative frequency')\n",
    "    plt.ylabel('recall@%d' % top_k)\n",
    "\n",
    "    plt.xscale('log')\n",
    "    \n",
    "plt.tight_layout()\n",
    "\n",
    "plt.savefig(os.path.join('figs', f'top%d_acc_vs_rel_freq_{all_laionet_prefix}.pdf' % top_k))"
   ]
  },
  {
   "cell_type": "markdown",
   "metadata": {},
   "source": [
    "# Accuracy vs. intra-class similarity"
   ]
  },
  {
   "cell_type": "code",
   "execution_count": 157,
   "metadata": {},
   "outputs": [],
   "source": [
    "cross_image_sim_path = os.path.join(laion_path, 'processed', 'clip_image_similarities')\n",
    "\n",
    "cross_image_sim_prefix = '_img_img_sims'\n",
    "\n",
    "sim_key = 'similarities'\n",
    "\n",
    "def vec(x):\n",
    "    msk = np.tril(np.eye(len(x)) < 0.5)\n",
    "    return x[msk]"
   ]
  },
  {
   "cell_type": "markdown",
   "metadata": {},
   "source": [
    "## Load sims and find the average intra-class sim."
   ]
  },
  {
   "cell_type": "code",
   "execution_count": 158,
   "metadata": {},
   "outputs": [
    {
     "name": "stderr",
     "output_type": "stream",
     "text": [
      "100%|████████████████████████████████████████████████████████████████████████████████████████████████████████████████████████████████████████████████████████████████████████| 978/978 [00:01<00:00, 559.05it/s]\n"
     ]
    }
   ],
   "source": [
    "wnid2avglsim = {}\n",
    "wnid2avgisim = {}\n",
    "for wnid in tqdm(wnid2laionindices):\n",
    "    l_sim_path = os.path.join(cross_image_sim_path, laionet_prefix + cross_image_sim_prefix + f'({wnid}).pkl')\n",
    "    i_sim_path = os.path.join(cross_image_sim_path, 'imagenet_captions' + cross_image_sim_prefix + f'({wnid}).pkl')\n",
    "    \n",
    "    if (not os.path.exists(l_sim_path)) or (not os.path.exists(i_sim_path)):\n",
    "        continue\n",
    "\n",
    "    with open(l_sim_path, 'rb') as f:\n",
    "        l_sim_dict = pickle.load(f)\n",
    "    with open(i_sim_path, 'rb') as f:\n",
    "        i_sim_dict = pickle.load(f)\n",
    "        \n",
    "    if (not isinstance(l_sim_dict, dict)):\n",
    "        continue\n",
    "        \n",
    "    wnid2avglsim[wnid] = np.mean(vec(l_sim_dict[sim_key]))\n",
    "    wnid2avgisim[wnid] = np.mean(vec(i_sim_dict[sim_key]))"
   ]
  },
  {
   "cell_type": "markdown",
   "metadata": {},
   "source": [
    "## Plot"
   ]
  },
  {
   "cell_type": "code",
   "execution_count": 161,
   "metadata": {},
   "outputs": [],
   "source": [
    "top_k = 5"
   ]
  },
  {
   "cell_type": "code",
   "execution_count": 162,
   "metadata": {},
   "outputs": [
    {
     "data": {
      "image/png": "[encoded data removed]",
      "text/plain": [
       "<Figure size 880x200 with 4 Axes>"
      ]
     },
     "metadata": {},
     "output_type": "display_data"
    }
   ],
   "source": [
    "n_m = len(chosen_model_names)\n",
    "\n",
    "plt.figure(figsize=(n_m*2.2, 2))\n",
    "\n",
    "for i_m, model_name in enumerate(chosen_model_names):\n",
    "    recalls = []\n",
    "    sims = []\n",
    "    for wnid, sim in wnid2avglsim.items():\n",
    "        if wnid not in topk2model2wnid2recall[top_k][model_name]:\n",
    "            continue\n",
    "            \n",
    "        recalls.append(topk2model2wnid2recall[top_k][model_name][wnid])\n",
    "        sims.append(sim - wnid2avgisim[wnid])\n",
    "        \n",
    "    plt.subplot(1, n_m, i_m + 1)\n",
    "    cl = modelname2color[model_name]\n",
    "    \n",
    "    plt.plot(sims, recalls, 'o', alpha=0.1, color=cl)\n",
    "    \n",
    "    plt.legend([model_name], fontsize=7)\n",
    "    plt.xlabel(r'$\\Delta$ intra-class similarity')\n",
    "    plt.ylabel('recall@%d' % top_k)\n",
    "    \n",
    "plt.tight_layout()\n",
    "\n",
    "plt.savefig(os.path.join('figs', f'top%d_acc_vs_intra-class_sim_{laionet_prefix}.pdf' % top_k))"
   ]
  },
  {
   "cell_type": "markdown",
   "metadata": {},
   "source": [
    "# Intra-class similarity vs. frequency"
   ]
  },
  {
   "cell_type": "code",
   "execution_count": 163,
   "metadata": {},
   "outputs": [
    {
     "data": {
      "image/png": "[encoded data removed]",
      "text/plain": [
       "<Figure size 275x275 with 1 Axes>"
      ]
     },
     "metadata": {},
     "output_type": "display_data"
    }
   ],
   "source": [
    "n_m = len(chosen_model_names)\n",
    "\n",
    "plt.figure(figsize=(2.75, 2.75))\n",
    "\n",
    "probs = []\n",
    "sims = []\n",
    "for wnid, sim in wnid2avglsim.items():\n",
    "    probs.append(wnid2prob[wnid])\n",
    "    sims.append(sim)\n",
    "\n",
    "plt.plot(sims, probs, 'o', alpha=0.1, color='b')\n",
    "\n",
    "plt.xlabel('LAIONet intra-class similarity')\n",
    "plt.ylabel('relative frequency')\n",
    "\n",
    "plt.yscale('log')\n",
    "    \n",
    "plt.tight_layout()\n",
    "\n",
    "plt.savefig(os.path.join('figs', f'intra-class_sim_vs_rel_freq_{laionet_prefix}.pdf'))"
   ]
  },
  {
   "cell_type": "code",
   "execution_count": null,
   "metadata": {},
   "outputs": [],
   "source": []
  }
 ],
 "metadata": {
  "kernelspec": {
   "display_name": "laionvenv",
   "language": "python",
   "name": "laionvenv"
  },
  "language_info": {
   "codemirror_mode": {
    "name": "ipython",
    "version": 3
   },
   "file_extension": ".py",
   "mimetype": "text/x-python",
   "name": "python",
   "nbconvert_exporter": "python",
   "pygments_lexer": "ipython3",
   "version": "3.8.2"
  }
 },
 "nbformat": 4,
 "nbformat_minor": 4
}

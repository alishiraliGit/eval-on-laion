{
 "cells": [
  {
   "cell_type": "code",
   "execution_count": null,
   "metadata": {},
   "outputs": [],
   "source": [
    "import os\n",
    "\n",
    "os.chdir('..')"
   ]
  },
  {
   "cell_type": "code",
   "execution_count": 1,
   "metadata": {},
   "outputs": [
    {
     "name": "stderr",
     "output_type": "stream",
     "text": [
      "[nltk_data] Downloading package wordnet to /Users/alishri/nltk_data...\n",
      "[nltk_data]   Package wordnet is already up-to-date!\n"
     ]
    }
   ],
   "source": [
    "import pickle\n",
    "import itertools\n",
    "import glob\n",
    "import json\n",
    "from PIL import Image\n",
    "\n",
    "import pandas as pd\n",
    "import numpy as np\n",
    "from tqdm import tqdm\n",
    "from matplotlib import pyplot as plt\n",
    "\n",
    "import configs\n",
    "from utils import laion_utils as laionu\n",
    "from utils.ilsvrc_utils import load_lemmas_and_wnids\n",
    "from core.queries import QueryType"
   ]
  },
  {
   "cell_type": "markdown",
   "metadata": {},
   "source": [
    "# Settings"
   ]
  },
  {
   "cell_type": "markdown",
   "metadata": {},
   "source": [
    "## Path"
   ]
  },
  {
   "cell_type": "code",
   "execution_count": 2,
   "metadata": {},
   "outputs": [],
   "source": [
    "# LAION\n",
    "laion_path = 'laion400m'\n",
    "laion_until_part = 31\n",
    "\n",
    "sm_file_name = configs.LAIONConfig.SUBSET_SM_FILTERED_PREFIX \\\n",
    "             + configs.LAIONConfig.PREDICTED_PREFIX \\\n",
    "             + laionu.get_laion_subset_file_name(0, laion_until_part)\n",
    "\n",
    "ic_ms_file_name = configs.LAIONConfig.SUBSET_IC_MOST_SIMILAR_TXT_TXT_PREFIX \\\n",
    "                + laionu.get_laion_subset_file_name(0, laion_until_part)\n",
    "\n",
    "# ILSVRC\n",
    "ilsvrc_path = 'ilsvrc2012'\n",
    "\n",
    "ic_file_name = 'imagenet_captions.parquet'\n",
    "ival_file_name = 'ILSVRC2012_val.parquet'\n",
    "\n",
    "# Labels (maps)\n",
    "laion_labels_path = os.path.join('laion400m', 'processed', 'ilsvrc_labels')\n",
    "\n",
    "sm_wnid2laionindices_file_name = 'wnid2laionindices(substring_matched).pkl'\n",
    "\n",
    "ilsvrc_labels_path = os.path.join('ilsvrc2012', 'processed', 'labels')\n",
    "\n",
    "ic_imagename2wnid_file_name = 'icimagename2wnid.pkl'\n",
    "ival_imagename2wnid_file_name = 'imagename2wnid.pkl'"
   ]
  },
  {
   "cell_type": "markdown",
   "metadata": {},
   "source": [
    "## Column names"
   ]
  },
  {
   "cell_type": "code",
   "execution_count": 3,
   "metadata": {},
   "outputs": [],
   "source": [
    "chosen_q_type = QueryType.NAME_DEF\n",
    "\n",
    "# Image-query similarity\n",
    "image_query_sim_col = f'image_to_{chosen_q_type}_wnid_similarity'\n",
    "\n",
    "# Text-query similarity\n",
    "text_query_sim_col = f'text_to_{chosen_q_type}_wnid_similarity'"
   ]
  },
  {
   "cell_type": "markdown",
   "metadata": {},
   "source": [
    "# Loading"
   ]
  },
  {
   "cell_type": "markdown",
   "metadata": {},
   "source": [
    "## Load SM LAION subset"
   ]
  },
  {
   "cell_type": "code",
   "execution_count": 4,
   "metadata": {},
   "outputs": [
    {
     "name": "stdout",
     "output_type": "stream",
     "text": [
      "(879221, 88)\n"
     ]
    },
    {
     "data": {
      "text/html": [
       "<div>\n",
       "<style scoped>\n",
       "    .dataframe tbody tr th:only-of-type {\n",
       "        vertical-align: middle;\n",
       "    }\n",
       "\n",
       "    .dataframe tbody tr th {\n",
       "        vertical-align: top;\n",
       "    }\n",
       "\n",
       "    .dataframe thead th {\n",
       "        text-align: right;\n",
       "    }\n",
       "</style>\n",
       "<table border=\"1\" class=\"dataframe\">\n",
       "  <thead>\n",
       "    <tr style=\"text-align: right;\">\n",
       "      <th></th>\n",
       "      <th>SAMPLE_ID</th>\n",
       "      <th>URL</th>\n",
       "      <th>TEXT</th>\n",
       "      <th>HEIGHT</th>\n",
       "      <th>WIDTH</th>\n",
       "      <th>LICENSE</th>\n",
       "      <th>NSFW</th>\n",
       "      <th>similarity</th>\n",
       "      <th>a_photo_of_name_def_wnid</th>\n",
       "      <th>text_to_a_photo_of_name_def_wnid_similarity</th>\n",
       "      <th>...</th>\n",
       "      <th>top_5_is_correct_beit-large-patch16-224-pt22k-ft22k</th>\n",
       "      <th>top_1_is_correct_beit-base-patch16-224</th>\n",
       "      <th>top_5_is_correct_beit-base-patch16-224</th>\n",
       "      <th>top_1_is_correct_beit-base-patch16-384</th>\n",
       "      <th>top_5_is_correct_beit-base-patch16-384</th>\n",
       "      <th>top_1_is_correct_beit-large-patch16-224</th>\n",
       "      <th>top_5_is_correct_beit-large-patch16-224</th>\n",
       "      <th>top_1_is_correct_beit-large-patch16-384</th>\n",
       "      <th>top_5_is_correct_beit-large-patch16-384</th>\n",
       "      <th>image_to_text_similarity</th>\n",
       "    </tr>\n",
       "  </thead>\n",
       "  <tbody>\n",
       "    <tr>\n",
       "      <th>1200056513</th>\n",
       "      <td>4.745710e+11</td>\n",
       "      <td>https://t1.ftcdn.net/jpg/00/75/08/12/240_F_750...</td>\n",
       "      <td>Colorful patchwork quilt pattern</td>\n",
       "      <td>373.0</td>\n",
       "      <td>240.0</td>\n",
       "      <td>?</td>\n",
       "      <td>UNLIKELY</td>\n",
       "      <td>0.328658</td>\n",
       "      <td>a photo of quilt which is bedding made of two ...</td>\n",
       "      <td>0.805882</td>\n",
       "      <td>...</td>\n",
       "      <td>True</td>\n",
       "      <td>True</td>\n",
       "      <td>True</td>\n",
       "      <td>True</td>\n",
       "      <td>True</td>\n",
       "      <td>True</td>\n",
       "      <td>True</td>\n",
       "      <td>True</td>\n",
       "      <td>True</td>\n",
       "      <td>0.325056</td>\n",
       "    </tr>\n",
       "    <tr>\n",
       "      <th>1200090089</th>\n",
       "      <td>1.129810e+11</td>\n",
       "      <td>https://farm6.staticflickr.com/5132/5411062185...</td>\n",
       "      <td>basket quilt top</td>\n",
       "      <td>320.0</td>\n",
       "      <td>285.0</td>\n",
       "      <td>?</td>\n",
       "      <td>UNLIKELY</td>\n",
       "      <td>0.310124</td>\n",
       "      <td>a photo of quilt which is bedding made of two ...</td>\n",
       "      <td>0.823052</td>\n",
       "      <td>...</td>\n",
       "      <td>True</td>\n",
       "      <td>True</td>\n",
       "      <td>True</td>\n",
       "      <td>True</td>\n",
       "      <td>True</td>\n",
       "      <td>True</td>\n",
       "      <td>True</td>\n",
       "      <td>True</td>\n",
       "      <td>True</td>\n",
       "      <td>0.314476</td>\n",
       "    </tr>\n",
       "    <tr>\n",
       "      <th>1200091068</th>\n",
       "      <td>4.145784e+12</td>\n",
       "      <td>https://theplaidporticodotcom4.files.wordpress...</td>\n",
       "      <td>QuiltCon charity quilt</td>\n",
       "      <td>584.0</td>\n",
       "      <td>820.0</td>\n",
       "      <td>?</td>\n",
       "      <td>UNLIKELY</td>\n",
       "      <td>0.307640</td>\n",
       "      <td>a photo of quilt which is bedding made of two ...</td>\n",
       "      <td>0.846488</td>\n",
       "      <td>...</td>\n",
       "      <td>None</td>\n",
       "      <td>None</td>\n",
       "      <td>None</td>\n",
       "      <td>None</td>\n",
       "      <td>None</td>\n",
       "      <td>None</td>\n",
       "      <td>None</td>\n",
       "      <td>None</td>\n",
       "      <td>None</td>\n",
       "      <td>NaN</td>\n",
       "    </tr>\n",
       "  </tbody>\n",
       "</table>\n",
       "<p>3 rows × 88 columns</p>\n",
       "</div>"
      ],
      "text/plain": [
       "               SAMPLE_ID                                                URL  \\\n",
       "1200056513  4.745710e+11  https://t1.ftcdn.net/jpg/00/75/08/12/240_F_750...   \n",
       "1200090089  1.129810e+11  https://farm6.staticflickr.com/5132/5411062185...   \n",
       "1200091068  4.145784e+12  https://theplaidporticodotcom4.files.wordpress...   \n",
       "\n",
       "                                        TEXT  HEIGHT  WIDTH LICENSE      NSFW  \\\n",
       "1200056513  Colorful patchwork quilt pattern   373.0  240.0       ?  UNLIKELY   \n",
       "1200090089                  basket quilt top   320.0  285.0       ?  UNLIKELY   \n",
       "1200091068            QuiltCon charity quilt   584.0  820.0       ?  UNLIKELY   \n",
       "\n",
       "            similarity                           a_photo_of_name_def_wnid  \\\n",
       "1200056513    0.328658  a photo of quilt which is bedding made of two ...   \n",
       "1200090089    0.310124  a photo of quilt which is bedding made of two ...   \n",
       "1200091068    0.307640  a photo of quilt which is bedding made of two ...   \n",
       "\n",
       "            text_to_a_photo_of_name_def_wnid_similarity  ...  \\\n",
       "1200056513                                     0.805882  ...   \n",
       "1200090089                                     0.823052  ...   \n",
       "1200091068                                     0.846488  ...   \n",
       "\n",
       "           top_5_is_correct_beit-large-patch16-224-pt22k-ft22k  \\\n",
       "1200056513                                               True    \n",
       "1200090089                                               True    \n",
       "1200091068                                               None    \n",
       "\n",
       "            top_1_is_correct_beit-base-patch16-224  \\\n",
       "1200056513                                    True   \n",
       "1200090089                                    True   \n",
       "1200091068                                    None   \n",
       "\n",
       "           top_5_is_correct_beit-base-patch16-224  \\\n",
       "1200056513                                   True   \n",
       "1200090089                                   True   \n",
       "1200091068                                   None   \n",
       "\n",
       "            top_1_is_correct_beit-base-patch16-384  \\\n",
       "1200056513                                    True   \n",
       "1200090089                                    True   \n",
       "1200091068                                    None   \n",
       "\n",
       "            top_5_is_correct_beit-base-patch16-384  \\\n",
       "1200056513                                    True   \n",
       "1200090089                                    True   \n",
       "1200091068                                    None   \n",
       "\n",
       "           top_1_is_correct_beit-large-patch16-224  \\\n",
       "1200056513                                    True   \n",
       "1200090089                                    True   \n",
       "1200091068                                    None   \n",
       "\n",
       "           top_5_is_correct_beit-large-patch16-224  \\\n",
       "1200056513                                    True   \n",
       "1200090089                                    True   \n",
       "1200091068                                    None   \n",
       "\n",
       "           top_1_is_correct_beit-large-patch16-384  \\\n",
       "1200056513                                    True   \n",
       "1200090089                                    True   \n",
       "1200091068                                    None   \n",
       "\n",
       "           top_5_is_correct_beit-large-patch16-384 image_to_text_similarity  \n",
       "1200056513                                    True                 0.325056  \n",
       "1200090089                                    True                 0.314476  \n",
       "1200091068                                    None                      NaN  \n",
       "\n",
       "[3 rows x 88 columns]"
      ]
     },
     "execution_count": 4,
     "metadata": {},
     "output_type": "execute_result"
    }
   ],
   "source": [
    "sm_df = pd.read_parquet(\n",
    "    os.path.join(laion_path, sm_file_name)\n",
    ")\n",
    "\n",
    "print(sm_df.shape)\n",
    "\n",
    "sm_df.head(3)"
   ]
  },
  {
   "cell_type": "markdown",
   "metadata": {},
   "source": [
    "## Load IC most similar subset"
   ]
  },
  {
   "cell_type": "code",
   "execution_count": 5,
   "metadata": {},
   "outputs": [
    {
     "name": "stdout",
     "output_type": "stream",
     "text": [
      "(161903, 11)\n"
     ]
    },
    {
     "data": {
      "text/html": [
       "<div>\n",
       "<style scoped>\n",
       "    .dataframe tbody tr th:only-of-type {\n",
       "        vertical-align: middle;\n",
       "    }\n",
       "\n",
       "    .dataframe tbody tr th {\n",
       "        vertical-align: top;\n",
       "    }\n",
       "\n",
       "    .dataframe thead th {\n",
       "        text-align: right;\n",
       "    }\n",
       "</style>\n",
       "<table border=\"1\" class=\"dataframe\">\n",
       "  <thead>\n",
       "    <tr style=\"text-align: right;\">\n",
       "      <th></th>\n",
       "      <th>SAMPLE_ID</th>\n",
       "      <th>URL</th>\n",
       "      <th>TEXT</th>\n",
       "      <th>HEIGHT</th>\n",
       "      <th>WIDTH</th>\n",
       "      <th>LICENSE</th>\n",
       "      <th>NSFW</th>\n",
       "      <th>similarity</th>\n",
       "      <th>image_to_text_similarity</th>\n",
       "      <th>name_def_wnid</th>\n",
       "      <th>text_to_name_def_wnid_similarity</th>\n",
       "    </tr>\n",
       "  </thead>\n",
       "  <tbody>\n",
       "    <tr>\n",
       "      <th>1271</th>\n",
       "      <td>1.883650e+11</td>\n",
       "      <td>https://thumbs.dreamstime.com/t/calton-cemeter...</td>\n",
       "      <td>Calton cemetery and obelisk Edinburgh Stock Ph...</td>\n",
       "      <td>241.0</td>\n",
       "      <td>160.0</td>\n",
       "      <td>?</td>\n",
       "      <td>UNLIKELY</td>\n",
       "      <td>0.322448</td>\n",
       "      <td>0.310787</td>\n",
       "      <td>obelisk which is a stone pillar having a recta...</td>\n",
       "      <td>0.665240</td>\n",
       "    </tr>\n",
       "    <tr>\n",
       "      <th>2891</th>\n",
       "      <td>3.478983e+12</td>\n",
       "      <td>https://ssl.c.photoshelter.com/img-get2/I0000P...</td>\n",
       "      <td>LHS basketball Laconia versus Kennett at Lacon...</td>\n",
       "      <td>200.0</td>\n",
       "      <td>135.0</td>\n",
       "      <td>?</td>\n",
       "      <td>UNLIKELY</td>\n",
       "      <td>0.309529</td>\n",
       "      <td>0.318361</td>\n",
       "      <td>basketball which is an inflated ball used in p...</td>\n",
       "      <td>0.379896</td>\n",
       "    </tr>\n",
       "    <tr>\n",
       "      <th>2901</th>\n",
       "      <td>9.773084e+09</td>\n",
       "      <td>http://cache-graphicslib.viator.com/graphicsli...</td>\n",
       "      <td>Photo of Sydney Sydney Harbour Highlights Crui...</td>\n",
       "      <td>260.0</td>\n",
       "      <td>195.0</td>\n",
       "      <td>?</td>\n",
       "      <td>UNLIKELY</td>\n",
       "      <td>0.334991</td>\n",
       "      <td>0.334656</td>\n",
       "      <td>None</td>\n",
       "      <td>NaN</td>\n",
       "    </tr>\n",
       "  </tbody>\n",
       "</table>\n",
       "</div>"
      ],
      "text/plain": [
       "         SAMPLE_ID                                                URL  \\\n",
       "1271  1.883650e+11  https://thumbs.dreamstime.com/t/calton-cemeter...   \n",
       "2891  3.478983e+12  https://ssl.c.photoshelter.com/img-get2/I0000P...   \n",
       "2901  9.773084e+09  http://cache-graphicslib.viator.com/graphicsli...   \n",
       "\n",
       "                                                   TEXT  HEIGHT  WIDTH  \\\n",
       "1271  Calton cemetery and obelisk Edinburgh Stock Ph...   241.0  160.0   \n",
       "2891  LHS basketball Laconia versus Kennett at Lacon...   200.0  135.0   \n",
       "2901  Photo of Sydney Sydney Harbour Highlights Crui...   260.0  195.0   \n",
       "\n",
       "     LICENSE      NSFW  similarity  image_to_text_similarity  \\\n",
       "1271       ?  UNLIKELY    0.322448                  0.310787   \n",
       "2891       ?  UNLIKELY    0.309529                  0.318361   \n",
       "2901       ?  UNLIKELY    0.334991                  0.334656   \n",
       "\n",
       "                                          name_def_wnid  \\\n",
       "1271  obelisk which is a stone pillar having a recta...   \n",
       "2891  basketball which is an inflated ball used in p...   \n",
       "2901                                               None   \n",
       "\n",
       "      text_to_name_def_wnid_similarity  \n",
       "1271                          0.665240  \n",
       "2891                          0.379896  \n",
       "2901                               NaN  "
      ]
     },
     "execution_count": 5,
     "metadata": {},
     "output_type": "execute_result"
    }
   ],
   "source": [
    "ic_ms_df = pd.read_parquet(\n",
    "    os.path.join(laion_path, ic_ms_file_name)\n",
    ")\n",
    "\n",
    "print(ic_ms_df.shape)\n",
    "\n",
    "ic_ms_df.head(3)"
   ]
  },
  {
   "cell_type": "markdown",
   "metadata": {},
   "source": [
    "## Load ILSVRC val set"
   ]
  },
  {
   "cell_type": "code",
   "execution_count": 6,
   "metadata": {},
   "outputs": [
    {
     "name": "stdout",
     "output_type": "stream",
     "text": [
      "(50000, 2)\n"
     ]
    },
    {
     "data": {
      "text/html": [
       "<div>\n",
       "<style scoped>\n",
       "    .dataframe tbody tr th:only-of-type {\n",
       "        vertical-align: middle;\n",
       "    }\n",
       "\n",
       "    .dataframe tbody tr th {\n",
       "        vertical-align: top;\n",
       "    }\n",
       "\n",
       "    .dataframe thead th {\n",
       "        text-align: right;\n",
       "    }\n",
       "</style>\n",
       "<table border=\"1\" class=\"dataframe\">\n",
       "  <thead>\n",
       "    <tr style=\"text-align: right;\">\n",
       "      <th></th>\n",
       "      <th>image_to_name_def_wnid_similarity</th>\n",
       "      <th>name_def_wnid</th>\n",
       "    </tr>\n",
       "  </thead>\n",
       "  <tbody>\n",
       "    <tr>\n",
       "      <th>ILSVRC2012_val_00049998.JPEG</th>\n",
       "      <td>0.305767</td>\n",
       "      <td>border collie which is developed in the area b...</td>\n",
       "    </tr>\n",
       "    <tr>\n",
       "      <th>ILSVRC2012_val_00049999.JPEG</th>\n",
       "      <td>0.251934</td>\n",
       "      <td>groom which is a man participant in his own ma...</td>\n",
       "    </tr>\n",
       "    <tr>\n",
       "      <th>ILSVRC2012_val_00050000.JPEG</th>\n",
       "      <td>0.303315</td>\n",
       "      <td>llama which is wild or domesticated South Amer...</td>\n",
       "    </tr>\n",
       "  </tbody>\n",
       "</table>\n",
       "</div>"
      ],
      "text/plain": [
       "                              image_to_name_def_wnid_similarity  \\\n",
       "ILSVRC2012_val_00049998.JPEG                           0.305767   \n",
       "ILSVRC2012_val_00049999.JPEG                           0.251934   \n",
       "ILSVRC2012_val_00050000.JPEG                           0.303315   \n",
       "\n",
       "                                                                  name_def_wnid  \n",
       "ILSVRC2012_val_00049998.JPEG  border collie which is developed in the area b...  \n",
       "ILSVRC2012_val_00049999.JPEG  groom which is a man participant in his own ma...  \n",
       "ILSVRC2012_val_00050000.JPEG  llama which is wild or domesticated South Amer...  "
      ]
     },
     "execution_count": 6,
     "metadata": {},
     "output_type": "execute_result"
    }
   ],
   "source": [
    "ival_df = pd.read_parquet(os.path.join(ilsvrc_path, ival_file_name))\n",
    "\n",
    "print(ival_df.shape)\n",
    "\n",
    "ival_df.tail(3)"
   ]
  },
  {
   "cell_type": "markdown",
   "metadata": {},
   "source": [
    "## Load ImageNet-Captions"
   ]
  },
  {
   "cell_type": "code",
   "execution_count": 7,
   "metadata": {},
   "outputs": [
    {
     "name": "stdout",
     "output_type": "stream",
     "text": [
      "(443798, 5)\n"
     ]
    },
    {
     "data": {
      "text/html": [
       "<div>\n",
       "<style scoped>\n",
       "    .dataframe tbody tr th:only-of-type {\n",
       "        vertical-align: middle;\n",
       "    }\n",
       "\n",
       "    .dataframe tbody tr th {\n",
       "        vertical-align: top;\n",
       "    }\n",
       "\n",
       "    .dataframe thead th {\n",
       "        text-align: right;\n",
       "    }\n",
       "</style>\n",
       "<table border=\"1\" class=\"dataframe\">\n",
       "  <thead>\n",
       "    <tr style=\"text-align: right;\">\n",
       "      <th></th>\n",
       "      <th>TEXT</th>\n",
       "      <th>image_to_name_def_wnid_similarity</th>\n",
       "      <th>name_def_wnid</th>\n",
       "      <th>image_to_text_similarity</th>\n",
       "      <th>text_to_name_def_wnid_similarity</th>\n",
       "    </tr>\n",
       "    <tr>\n",
       "      <th>ic_index</th>\n",
       "      <th></th>\n",
       "      <th></th>\n",
       "      <th></th>\n",
       "      <th></th>\n",
       "      <th></th>\n",
       "    </tr>\n",
       "  </thead>\n",
       "  <tbody>\n",
       "    <tr>\n",
       "      <th>n15075141_9819.JPEG</th>\n",
       "      <td>Margaret Thatcher toilet paper Margaret Thatch...</td>\n",
       "      <td>0.255074</td>\n",
       "      <td>toilet tissue which is a soft thin absorbent p...</td>\n",
       "      <td>0.321070</td>\n",
       "      <td>0.672603</td>\n",
       "    </tr>\n",
       "    <tr>\n",
       "      <th>n15075141_9942.JPEG</th>\n",
       "      <td>Toilet Roll II toilet roll II toilet roll duan...</td>\n",
       "      <td>0.322143</td>\n",
       "      <td>toilet tissue which is a soft thin absorbent p...</td>\n",
       "      <td>0.284109</td>\n",
       "      <td>0.721321</td>\n",
       "    </tr>\n",
       "    <tr>\n",
       "      <th>n15075141_9993.JPEG</th>\n",
       "      <td>Toilet Paper toilet paper flush light green wa...</td>\n",
       "      <td>0.271322</td>\n",
       "      <td>toilet tissue which is a soft thin absorbent p...</td>\n",
       "      <td>0.294822</td>\n",
       "      <td>0.380635</td>\n",
       "    </tr>\n",
       "  </tbody>\n",
       "</table>\n",
       "</div>"
      ],
      "text/plain": [
       "                                                                  TEXT  \\\n",
       "ic_index                                                                 \n",
       "n15075141_9819.JPEG  Margaret Thatcher toilet paper Margaret Thatch...   \n",
       "n15075141_9942.JPEG  Toilet Roll II toilet roll II toilet roll duan...   \n",
       "n15075141_9993.JPEG  Toilet Paper toilet paper flush light green wa...   \n",
       "\n",
       "                     image_to_name_def_wnid_similarity  \\\n",
       "ic_index                                                 \n",
       "n15075141_9819.JPEG                           0.255074   \n",
       "n15075141_9942.JPEG                           0.322143   \n",
       "n15075141_9993.JPEG                           0.271322   \n",
       "\n",
       "                                                         name_def_wnid  \\\n",
       "ic_index                                                                 \n",
       "n15075141_9819.JPEG  toilet tissue which is a soft thin absorbent p...   \n",
       "n15075141_9942.JPEG  toilet tissue which is a soft thin absorbent p...   \n",
       "n15075141_9993.JPEG  toilet tissue which is a soft thin absorbent p...   \n",
       "\n",
       "                     image_to_text_similarity  \\\n",
       "ic_index                                        \n",
       "n15075141_9819.JPEG                  0.321070   \n",
       "n15075141_9942.JPEG                  0.284109   \n",
       "n15075141_9993.JPEG                  0.294822   \n",
       "\n",
       "                     text_to_name_def_wnid_similarity  \n",
       "ic_index                                               \n",
       "n15075141_9819.JPEG                          0.672603  \n",
       "n15075141_9942.JPEG                          0.721321  \n",
       "n15075141_9993.JPEG                          0.380635  "
      ]
     },
     "execution_count": 7,
     "metadata": {},
     "output_type": "execute_result"
    }
   ],
   "source": [
    "ic_df = pd.read_parquet(os.path.join(ilsvrc_path, ic_file_name))\n",
    "\n",
    "print(ic_df.shape)\n",
    "\n",
    "ic_df.tail(3)"
   ]
  },
  {
   "cell_type": "markdown",
   "metadata": {},
   "source": [
    "## Load maps"
   ]
  },
  {
   "cell_type": "code",
   "execution_count": 8,
   "metadata": {},
   "outputs": [],
   "source": [
    "with open(os.path.join(laion_labels_path, sm_wnid2laionindices_file_name), 'rb') as f:\n",
    "    sm_wnid2laionindices = pickle.load(f)\n",
    "    \n",
    "# Drop empty indices\n",
    "sm_wnid2laionindices = {wnid: indices for wnid, indices in sm_wnid2laionindices.items() if len(indices) > 0}\n",
    "\n",
    "# Find the inverse map\n",
    "sm_laionindex2wnids = {}\n",
    "\n",
    "for wnid, laion_indices in sm_wnid2laionindices.items():\n",
    "    for laion_idx in laion_indices:\n",
    "        if laion_idx not in sm_laionindex2wnids:\n",
    "            sm_laionindex2wnids[laion_idx] = []\n",
    "        sm_laionindex2wnids[laion_idx].append(wnid)"
   ]
  },
  {
   "cell_type": "code",
   "execution_count": 9,
   "metadata": {},
   "outputs": [],
   "source": [
    "with open(os.path.join(ilsvrc_labels_path, ival_imagename2wnid_file_name), 'rb') as f:\n",
    "    ival_imagename2wnid = pickle.load(f)\n",
    "    \n",
    "# Find the inverse map\n",
    "ival_wnid2imagenames = {}\n",
    "for image_name, wnid in ival_imagename2wnid.items():    \n",
    "    if wnid not in ival_wnid2imagenames:\n",
    "        ival_wnid2imagenames[wnid] = []\n",
    "    ival_wnid2imagenames[wnid].append(image_name)"
   ]
  },
  {
   "cell_type": "code",
   "execution_count": 10,
   "metadata": {},
   "outputs": [],
   "source": [
    "with open(os.path.join(ilsvrc_labels_path, ic_imagename2wnid_file_name), 'rb') as f:\n",
    "    ic_imagename2wnid = pickle.load(f)\n",
    "    \n",
    "# Find the inverse map\n",
    "ic_wnid2imagenames = {}\n",
    "for image_name, wnid in ic_imagename2wnid.items():    \n",
    "    if wnid not in ic_wnid2imagenames:\n",
    "        ic_wnid2imagenames[wnid] = []\n",
    "    ic_wnid2imagenames[wnid].append(image_name)"
   ]
  },
  {
   "cell_type": "markdown",
   "metadata": {},
   "source": [
    "# Compare distribution of image-query sim."
   ]
  },
  {
   "cell_type": "markdown",
   "metadata": {},
   "source": [
    "## Resample"
   ]
  },
  {
   "cell_type": "code",
   "execution_count": 11,
   "metadata": {},
   "outputs": [
    {
     "name": "stdout",
     "output_type": "stream",
     "text": [
      "45900 45900\n"
     ]
    }
   ],
   "source": [
    "all_resampled_sm_laion_indices = []\n",
    "all_resampled_ival_image_names = []\n",
    "\n",
    "for wnid, laion_indices in sm_wnid2laionindices.items():\n",
    "    if wnid not in ival_wnid2imagenames:\n",
    "        continue\n",
    "        \n",
    "    resampled_ival_image_names = np.array(ival_wnid2imagenames[wnid])\n",
    "    \n",
    "    resampled_sm_laion_indices = np.random.choice(\n",
    "        laion_indices, \n",
    "        size=(len(resampled_ival_image_names),), \n",
    "        replace=True\n",
    "    )\n",
    "    \n",
    "    all_resampled_sm_laion_indices.extend(resampled_sm_laion_indices)\n",
    "    all_resampled_ival_image_names.extend(resampled_ival_image_names)\n",
    "    \n",
    "print(len(all_resampled_sm_laion_indices), len(all_resampled_ival_image_names))"
   ]
  },
  {
   "cell_type": "code",
   "execution_count": 12,
   "metadata": {},
   "outputs": [],
   "source": [
    "sm_iqsims = sm_df.loc[all_resampled_sm_laion_indices, image_query_sim_col].tolist()\n",
    "ival_iqsims = ival_df.loc[all_resampled_ival_image_names, image_query_sim_col].tolist()"
   ]
  },
  {
   "cell_type": "markdown",
   "metadata": {},
   "source": [
    "## Plot distributions"
   ]
  },
  {
   "cell_type": "code",
   "execution_count": 13,
   "metadata": {},
   "outputs": [
    {
     "data": {
      "image/png": "[encoded data removed]",
      "text/plain": [
       "<Figure size 340x250 with 1 Axes>"
      ]
     },
     "metadata": {},
     "output_type": "display_data"
    }
   ],
   "source": [
    "plt.figure(figsize=(3.4, 2.5))\n",
    "\n",
    "plt.hist(sm_iqsims, bins=60, color='b', alpha=0.3, density=True)\n",
    "plt.hist(ival_iqsims, bins=60, color='r', alpha=0.3, density=True)\n",
    "\n",
    "plt.xlabel('image-to-[name: def] CLIP similarity')\n",
    "plt.ylabel('\\npdf')\n",
    "\n",
    "plt.legend(['LAIONet', 'ImageNet'])\n",
    "\n",
    "plt.xlim([0, 1])\n",
    "\n",
    "plt.tight_layout()\n",
    "\n",
    "plt.savefig(os.path.join('figs', 'distribution_image-query_sim.pdf'), bbox_inches='tight')"
   ]
  },
  {
   "cell_type": "markdown",
   "metadata": {},
   "source": [
    "## Test per WNID"
   ]
  },
  {
   "cell_type": "code",
   "execution_count": 14,
   "metadata": {
    "scrolled": true
   },
   "outputs": [
    {
     "name": "stderr",
     "output_type": "stream",
     "text": [
      "100%|███████████████████████████████████████████████████████████████████████████████████████████████████| 918/918 [00:00<00:00, 929.18it/s]\n"
     ]
    }
   ],
   "source": [
    "sm_avg_iqsims = []\n",
    "sm_err_iqsims = []\n",
    "ival_avg_iqsims = []\n",
    "ival_err_iqsims = []\n",
    "\n",
    "for wnid, laion_indices in tqdm(sm_wnid2laionindices.items()):\n",
    "    if wnid not in ival_wnid2imagenames:\n",
    "        continue\n",
    "        \n",
    "    sm_iqsims = np.array(sm_df.loc[laion_indices, image_query_sim_col].tolist())\n",
    "    sm_iqsims = sm_iqsims[~np.isnan(sm_iqsims)]\n",
    "    \n",
    "    ival_iqsims = np.array(ival_df.loc[ival_wnid2imagenames[wnid], image_query_sim_col].tolist())\n",
    "    ival_iqsims = ival_iqsims[~np.isnan(ival_iqsims)]\n",
    "    \n",
    "    if len(sm_iqsims) < 7 or len(ival_iqsims) < 7:\n",
    "        continue\n",
    "        \n",
    "    sm_avg_iqsims.append(np.mean(sm_iqsims))\n",
    "    sm_err_iqsims.append(1.96*np.std(sm_iqsims)/np.sqrt(len(sm_iqsims) - 1))\n",
    "    \n",
    "    ival_avg_iqsims.append(np.mean(ival_iqsims))\n",
    "    ival_err_iqsims.append(1.96*np.std(ival_iqsims)/np.sqrt(len(ival_iqsims) - 1))\n",
    "    \n",
    "sm_avg_iqsims = np.array(sm_avg_iqsims)\n",
    "sm_err_iqsims = np.array(sm_err_iqsims)\n",
    "ival_avg_iqsims = np.array(ival_avg_iqsims)\n",
    "ival_err_iqsims = np.array(ival_err_iqsims)"
   ]
  },
  {
   "cell_type": "code",
   "execution_count": 15,
   "metadata": {},
   "outputs": [
    {
     "name": "stdout",
     "output_type": "stream",
     "text": [
      "avg > 0: 0.682983682983683\n",
      "UCB < 0: 118 out of 858 (0.13752913752913754)\n",
      "LCB > 0: 373 out of 858 (0.4347319347319347)\n"
     ]
    },
    {
     "data": {
      "image/png": "[encoded data removed]",
      "text/plain": [
       "<Figure size 340x250 with 1 Axes>"
      ]
     },
     "metadata": {},
     "output_type": "display_data"
    }
   ],
   "source": [
    "plt.figure(figsize=(3.4, 2.5))\n",
    "\n",
    "diff_avg_iqsims = sm_avg_iqsims - ival_avg_iqsims\n",
    "diff_err_iqsims = np.sqrt(sm_err_iqsims**2 + ival_err_iqsims**2)\n",
    "\n",
    "sorted_locs = np.argsort(diff_avg_iqsims)\n",
    "\n",
    "ucb_iqsims = np.sort(diff_avg_iqsims + diff_err_iqsims)\n",
    "lcb_iqsims = np.sort(diff_avg_iqsims - diff_err_iqsims)\n",
    "\n",
    "x = range(len(sorted_locs))\n",
    "\n",
    "plt.plot(x, diff_avg_iqsims[sorted_locs], color='k')\n",
    "plt.plot(x, ucb_iqsims, 'r')\n",
    "plt.plot(x, lcb_iqsims, 'b')\n",
    "\n",
    "plt.plot(x, [0]*len(x), 'k--', alpha=0.5)\n",
    "\n",
    "plt.legend(['LAIONet - ImageNet', 'UCB', 'LCB'])\n",
    "\n",
    "plt.xlabel(' ')\n",
    "plt.ylabel(r'$\\Delta$ image-to-[name: def]' + '\\n' + 'CLIP similarity')\n",
    "\n",
    "plt.tight_layout()\n",
    "\n",
    "plt.savefig(os.path.join('figs', 'image-query_sim_diff.pdf'), bbox_inches='tight')\n",
    "\n",
    "print(f'avg > 0: {np.mean(diff_avg_iqsims > 0)}')\n",
    "print(f'UCB < 0: {np.sum(ucb_iqsims < 0)} out of {len(ucb_iqsims)} ({np.mean(ucb_iqsims < 0)})')\n",
    "print(f'LCB > 0: {np.sum(lcb_iqsims > 0)} out of {len(lcb_iqsims)} ({np.mean(lcb_iqsims > 0)})')"
   ]
  },
  {
   "cell_type": "markdown",
   "metadata": {},
   "source": [
    "# Compare distribution of text-query sim."
   ]
  },
  {
   "cell_type": "markdown",
   "metadata": {},
   "source": [
    "## Settings"
   ]
  },
  {
   "cell_type": "code",
   "execution_count": 16,
   "metadata": {},
   "outputs": [],
   "source": [
    "ic_all_file_name = 'imagenet_captions_with_sims_to_all_queries.parquet'\n",
    "\n",
    "synsets_file_name = 'ILSVRC2012_synsets.txt'"
   ]
  },
  {
   "cell_type": "code",
   "execution_count": 17,
   "metadata": {},
   "outputs": [],
   "source": [
    "text_to_query_col_func = lambda w: f'text_to_name_def_{w}_similarity'"
   ]
  },
  {
   "cell_type": "markdown",
   "metadata": {},
   "source": [
    "## Load"
   ]
  },
  {
   "cell_type": "code",
   "execution_count": 18,
   "metadata": {},
   "outputs": [
    {
     "data": {
      "text/html": [
       "<div>\n",
       "<style scoped>\n",
       "    .dataframe tbody tr th:only-of-type {\n",
       "        vertical-align: middle;\n",
       "    }\n",
       "\n",
       "    .dataframe tbody tr th {\n",
       "        vertical-align: top;\n",
       "    }\n",
       "\n",
       "    .dataframe thead th {\n",
       "        text-align: right;\n",
       "    }\n",
       "</style>\n",
       "<table border=\"1\" class=\"dataframe\">\n",
       "  <thead>\n",
       "    <tr style=\"text-align: right;\">\n",
       "      <th></th>\n",
       "      <th>TEXT</th>\n",
       "      <th>image_to_name_def_wnid_similarity</th>\n",
       "      <th>name_def_wnid</th>\n",
       "      <th>image_to_text_similarity</th>\n",
       "      <th>text_to_name_def_wnid_similarity</th>\n",
       "      <th>text_to_name_def_n02119789_similarity</th>\n",
       "      <th>text_to_name_def_n02100735_similarity</th>\n",
       "      <th>text_to_name_def_n02096294_similarity</th>\n",
       "      <th>text_to_name_def_n02066245_similarity</th>\n",
       "      <th>text_to_name_def_n02509815_similarity</th>\n",
       "      <th>...</th>\n",
       "      <th>text_to_name_def_n02091032_similarity</th>\n",
       "      <th>text_to_name_def_n02102318_similarity</th>\n",
       "      <th>text_to_name_def_n02102480_similarity</th>\n",
       "      <th>text_to_name_def_n02113023_similarity</th>\n",
       "      <th>text_to_name_def_n02086646_similarity</th>\n",
       "      <th>text_to_name_def_n02091244_similarity</th>\n",
       "      <th>text_to_name_def_n02089973_similarity</th>\n",
       "      <th>text_to_name_def_n02105251_similarity</th>\n",
       "      <th>text_to_name_def_n02093754_similarity</th>\n",
       "      <th>text_to_name_def_n02112837_similarity</th>\n",
       "    </tr>\n",
       "    <tr>\n",
       "      <th>ic_index</th>\n",
       "      <th></th>\n",
       "      <th></th>\n",
       "      <th></th>\n",
       "      <th></th>\n",
       "      <th></th>\n",
       "      <th></th>\n",
       "      <th></th>\n",
       "      <th></th>\n",
       "      <th></th>\n",
       "      <th></th>\n",
       "      <th></th>\n",
       "      <th></th>\n",
       "      <th></th>\n",
       "      <th></th>\n",
       "      <th></th>\n",
       "      <th></th>\n",
       "      <th></th>\n",
       "      <th></th>\n",
       "      <th></th>\n",
       "      <th></th>\n",
       "      <th></th>\n",
       "    </tr>\n",
       "  </thead>\n",
       "  <tbody>\n",
       "    <tr>\n",
       "      <th>n15075141_9819.JPEG</th>\n",
       "      <td>Margaret Thatcher toilet paper Margaret Thatch...</td>\n",
       "      <td>0.255074</td>\n",
       "      <td>toilet tissue which is a soft thin absorbent p...</td>\n",
       "      <td>0.321070</td>\n",
       "      <td>0.672603</td>\n",
       "      <td>0.314751</td>\n",
       "      <td>0.302764</td>\n",
       "      <td>0.376714</td>\n",
       "      <td>0.353923</td>\n",
       "      <td>0.375146</td>\n",
       "      <td>...</td>\n",
       "      <td>0.385962</td>\n",
       "      <td>0.425324</td>\n",
       "      <td>0.274066</td>\n",
       "      <td>0.418079</td>\n",
       "      <td>0.320774</td>\n",
       "      <td>0.332809</td>\n",
       "      <td>0.360865</td>\n",
       "      <td>0.330163</td>\n",
       "      <td>0.374264</td>\n",
       "      <td>0.359121</td>\n",
       "    </tr>\n",
       "    <tr>\n",
       "      <th>n15075141_9942.JPEG</th>\n",
       "      <td>Toilet Roll II toilet roll II toilet roll duan...</td>\n",
       "      <td>0.322143</td>\n",
       "      <td>toilet tissue which is a soft thin absorbent p...</td>\n",
       "      <td>0.284109</td>\n",
       "      <td>0.721321</td>\n",
       "      <td>0.392613</td>\n",
       "      <td>0.283349</td>\n",
       "      <td>0.407590</td>\n",
       "      <td>0.410512</td>\n",
       "      <td>0.376387</td>\n",
       "      <td>...</td>\n",
       "      <td>0.434423</td>\n",
       "      <td>0.416335</td>\n",
       "      <td>0.250755</td>\n",
       "      <td>0.428895</td>\n",
       "      <td>0.288285</td>\n",
       "      <td>0.323935</td>\n",
       "      <td>0.369291</td>\n",
       "      <td>0.318132</td>\n",
       "      <td>0.382490</td>\n",
       "      <td>0.441221</td>\n",
       "    </tr>\n",
       "    <tr>\n",
       "      <th>n15075141_9993.JPEG</th>\n",
       "      <td>Toilet Paper toilet paper flush light green wa...</td>\n",
       "      <td>0.271322</td>\n",
       "      <td>toilet tissue which is a soft thin absorbent p...</td>\n",
       "      <td>0.294822</td>\n",
       "      <td>0.380635</td>\n",
       "      <td>0.107943</td>\n",
       "      <td>0.129566</td>\n",
       "      <td>0.120912</td>\n",
       "      <td>0.165459</td>\n",
       "      <td>0.166710</td>\n",
       "      <td>...</td>\n",
       "      <td>0.156739</td>\n",
       "      <td>0.161972</td>\n",
       "      <td>0.089361</td>\n",
       "      <td>0.150558</td>\n",
       "      <td>0.098518</td>\n",
       "      <td>0.148388</td>\n",
       "      <td>0.154622</td>\n",
       "      <td>0.099526</td>\n",
       "      <td>0.142871</td>\n",
       "      <td>0.176329</td>\n",
       "    </tr>\n",
       "  </tbody>\n",
       "</table>\n",
       "<p>3 rows × 1004 columns</p>\n",
       "</div>"
      ],
      "text/plain": [
       "                                                                  TEXT  \\\n",
       "ic_index                                                                 \n",
       "n15075141_9819.JPEG  Margaret Thatcher toilet paper Margaret Thatch...   \n",
       "n15075141_9942.JPEG  Toilet Roll II toilet roll II toilet roll duan...   \n",
       "n15075141_9993.JPEG  Toilet Paper toilet paper flush light green wa...   \n",
       "\n",
       "                     image_to_name_def_wnid_similarity  \\\n",
       "ic_index                                                 \n",
       "n15075141_9819.JPEG                           0.255074   \n",
       "n15075141_9942.JPEG                           0.322143   \n",
       "n15075141_9993.JPEG                           0.271322   \n",
       "\n",
       "                                                         name_def_wnid  \\\n",
       "ic_index                                                                 \n",
       "n15075141_9819.JPEG  toilet tissue which is a soft thin absorbent p...   \n",
       "n15075141_9942.JPEG  toilet tissue which is a soft thin absorbent p...   \n",
       "n15075141_9993.JPEG  toilet tissue which is a soft thin absorbent p...   \n",
       "\n",
       "                     image_to_text_similarity  \\\n",
       "ic_index                                        \n",
       "n15075141_9819.JPEG                  0.321070   \n",
       "n15075141_9942.JPEG                  0.284109   \n",
       "n15075141_9993.JPEG                  0.294822   \n",
       "\n",
       "                     text_to_name_def_wnid_similarity  \\\n",
       "ic_index                                                \n",
       "n15075141_9819.JPEG                          0.672603   \n",
       "n15075141_9942.JPEG                          0.721321   \n",
       "n15075141_9993.JPEG                          0.380635   \n",
       "\n",
       "                     text_to_name_def_n02119789_similarity  \\\n",
       "ic_index                                                     \n",
       "n15075141_9819.JPEG                               0.314751   \n",
       "n15075141_9942.JPEG                               0.392613   \n",
       "n15075141_9993.JPEG                               0.107943   \n",
       "\n",
       "                     text_to_name_def_n02100735_similarity  \\\n",
       "ic_index                                                     \n",
       "n15075141_9819.JPEG                               0.302764   \n",
       "n15075141_9942.JPEG                               0.283349   \n",
       "n15075141_9993.JPEG                               0.129566   \n",
       "\n",
       "                     text_to_name_def_n02096294_similarity  \\\n",
       "ic_index                                                     \n",
       "n15075141_9819.JPEG                               0.376714   \n",
       "n15075141_9942.JPEG                               0.407590   \n",
       "n15075141_9993.JPEG                               0.120912   \n",
       "\n",
       "                     text_to_name_def_n02066245_similarity  \\\n",
       "ic_index                                                     \n",
       "n15075141_9819.JPEG                               0.353923   \n",
       "n15075141_9942.JPEG                               0.410512   \n",
       "n15075141_9993.JPEG                               0.165459   \n",
       "\n",
       "                     text_to_name_def_n02509815_similarity  ...  \\\n",
       "ic_index                                                    ...   \n",
       "n15075141_9819.JPEG                               0.375146  ...   \n",
       "n15075141_9942.JPEG                               0.376387  ...   \n",
       "n15075141_9993.JPEG                               0.166710  ...   \n",
       "\n",
       "                     text_to_name_def_n02091032_similarity  \\\n",
       "ic_index                                                     \n",
       "n15075141_9819.JPEG                               0.385962   \n",
       "n15075141_9942.JPEG                               0.434423   \n",
       "n15075141_9993.JPEG                               0.156739   \n",
       "\n",
       "                     text_to_name_def_n02102318_similarity  \\\n",
       "ic_index                                                     \n",
       "n15075141_9819.JPEG                               0.425324   \n",
       "n15075141_9942.JPEG                               0.416335   \n",
       "n15075141_9993.JPEG                               0.161972   \n",
       "\n",
       "                     text_to_name_def_n02102480_similarity  \\\n",
       "ic_index                                                     \n",
       "n15075141_9819.JPEG                               0.274066   \n",
       "n15075141_9942.JPEG                               0.250755   \n",
       "n15075141_9993.JPEG                               0.089361   \n",
       "\n",
       "                     text_to_name_def_n02113023_similarity  \\\n",
       "ic_index                                                     \n",
       "n15075141_9819.JPEG                               0.418079   \n",
       "n15075141_9942.JPEG                               0.428895   \n",
       "n15075141_9993.JPEG                               0.150558   \n",
       "\n",
       "                     text_to_name_def_n02086646_similarity  \\\n",
       "ic_index                                                     \n",
       "n15075141_9819.JPEG                               0.320774   \n",
       "n15075141_9942.JPEG                               0.288285   \n",
       "n15075141_9993.JPEG                               0.098518   \n",
       "\n",
       "                     text_to_name_def_n02091244_similarity  \\\n",
       "ic_index                                                     \n",
       "n15075141_9819.JPEG                               0.332809   \n",
       "n15075141_9942.JPEG                               0.323935   \n",
       "n15075141_9993.JPEG                               0.148388   \n",
       "\n",
       "                     text_to_name_def_n02089973_similarity  \\\n",
       "ic_index                                                     \n",
       "n15075141_9819.JPEG                               0.360865   \n",
       "n15075141_9942.JPEG                               0.369291   \n",
       "n15075141_9993.JPEG                               0.154622   \n",
       "\n",
       "                     text_to_name_def_n02105251_similarity  \\\n",
       "ic_index                                                     \n",
       "n15075141_9819.JPEG                               0.330163   \n",
       "n15075141_9942.JPEG                               0.318132   \n",
       "n15075141_9993.JPEG                               0.099526   \n",
       "\n",
       "                     text_to_name_def_n02093754_similarity  \\\n",
       "ic_index                                                     \n",
       "n15075141_9819.JPEG                               0.374264   \n",
       "n15075141_9942.JPEG                               0.382490   \n",
       "n15075141_9993.JPEG                               0.142871   \n",
       "\n",
       "                     text_to_name_def_n02112837_similarity  \n",
       "ic_index                                                    \n",
       "n15075141_9819.JPEG                               0.359121  \n",
       "n15075141_9942.JPEG                               0.441221  \n",
       "n15075141_9993.JPEG                               0.176329  \n",
       "\n",
       "[3 rows x 1004 columns]"
      ]
     },
     "execution_count": 18,
     "metadata": {},
     "output_type": "execute_result"
    }
   ],
   "source": [
    "ic_all_df = pd.read_parquet(os.path.join(ilsvrc_path, ic_all_file_name))\n",
    "\n",
    "ic_all_df.tail(3)"
   ]
  },
  {
   "cell_type": "code",
   "execution_count": 19,
   "metadata": {},
   "outputs": [],
   "source": [
    "id_lemmas_df = load_lemmas_and_wnids(os.path.join(ilsvrc_path, 'ILSVRC2012_synsets.txt'))\n",
    "all_wnids = id_lemmas_df[configs.ILSVRCConfigs.WNID_COL].tolist()"
   ]
  },
  {
   "cell_type": "markdown",
   "metadata": {},
   "source": [
    "## Plot distribution"
   ]
  },
  {
   "cell_type": "code",
   "execution_count": 23,
   "metadata": {},
   "outputs": [
    {
     "data": {
      "image/png": "[encoded data removed]",
      "text/plain": [
       "<Figure size 330x250 with 1 Axes>"
      ]
     },
     "metadata": {},
     "output_type": "display_data"
    }
   ],
   "source": [
    "plt.figure(figsize=(3.3, 2.5))\n",
    "\n",
    "_ = plt.hist(sm_df[text_query_sim_col].tolist(), bins=50, color='b', alpha=0.3)\n",
    "ibins = plt.hist(ic_df[text_query_sim_col].tolist(), bins=50, color='r', alpha=0.3)\n",
    "\n",
    "plt.legend(['LAIONet', 'ImageNet-Captions'])\n",
    "\n",
    "plt.xlabel('text-[name: def] similarity')\n",
    "plt.ylabel('count')\n",
    "\n",
    "plt.xlim([0, 1])\n",
    "\n",
    "plt.tight_layout()\n",
    "\n",
    "plt.savefig(os.path.join('figs', 'text-query_sim_distribution.pdf'), bbox_inches='tight')"
   ]
  },
  {
   "cell_type": "markdown",
   "metadata": {},
   "source": [
    "## Extract text to queries sim. matrix"
   ]
  },
  {
   "cell_type": "code",
   "execution_count": 21,
   "metadata": {},
   "outputs": [
    {
     "name": "stdout",
     "output_type": "stream",
     "text": [
      "(443798, 999)\n"
     ]
    }
   ],
   "source": [
    "sim_mat = ic_all_df.loc[\n",
    "    [image_name for image_name in ic_imagename2wnid], \n",
    "    [text_to_query_col_func(wnid) for wnid in all_wnids]\n",
    "].to_numpy()\n",
    "\n",
    "print(sim_mat.shape)"
   ]
  },
  {
   "cell_type": "markdown",
   "metadata": {},
   "source": [
    "## Calc. proportion of more similar false classes"
   ]
  },
  {
   "cell_type": "code",
   "execution_count": 22,
   "metadata": {},
   "outputs": [
    {
     "name": "stderr",
     "output_type": "stream",
     "text": [
      "100%|███████████████████████████████████████████████████████████████████████████████████████████| 443798/443798 [00:13<00:00, 31973.89it/s]\n"
     ]
    }
   ],
   "source": [
    "p_vals = np.zeros((len(ic_imagename2wnid),))\n",
    "\n",
    "for i_i, image_name in enumerate(tqdm(ic_imagename2wnid)):\n",
    "    wnid = ic_imagename2wnid[image_name]\n",
    "    \n",
    "    if wnid not in all_wnids:\n",
    "        continue\n",
    "    \n",
    "    p_vals[i_i] = np.mean(sim_mat[i_i, all_wnids.index(wnid)] < sim_mat[i_i])"
   ]
  },
  {
   "cell_type": "code",
   "execution_count": 24,
   "metadata": {},
   "outputs": [
    {
     "data": {
      "image/png": "[encoded data removed]",
      "text/plain": [
       "<Figure size 310x260 with 1 Axes>"
      ]
     },
     "metadata": {},
     "output_type": "display_data"
    }
   ],
   "source": [
    "plt.figure(figsize=(3.1, 2.6))\n",
    "\n",
    "_ = plt.hist(p_vals, bins=1000, cumulative=1, density=True, histtype='step', color='k')\n",
    "\n",
    "plt.plot([0.05, 0.05], [0, 1], 'k--', alpha=0.5)\n",
    "plt.plot([0, 1], [0.957, 0.957], 'k--', alpha=0.5)\n",
    "\n",
    "plt.xlim([-1e-2, 0.4])\n",
    "plt.ylim([0.7, 1])\n",
    "\n",
    "plt.xlabel('proportion of false classes\\n more similar to the text')\n",
    "plt.ylabel('cdf')\n",
    "\n",
    "plt.tight_layout()\n",
    "\n",
    "# plt.savefig(os.path.join('figs', 'cdf_proportion_of_more_similar_false_classes.pdf'), bbox_inches='tight')"
   ]
  },
  {
   "cell_type": "markdown",
   "metadata": {},
   "source": [
    "## Calc. proportion of more similar false classes per bin"
   ]
  },
  {
   "cell_type": "code",
   "execution_count": 25,
   "metadata": {},
   "outputs": [],
   "source": [
    "image_names = [image_name for image_name in ic_imagename2wnid]\n",
    "\n",
    "tq_sims = ic_all_df.loc[image_names, text_query_sim_col].to_numpy()\n",
    "\n",
    "mean_bs = []\n",
    "mean_ps = []\n",
    "err_ps = []\n",
    "for i_b, b_0 in enumerate(ibins[1][:-1]):\n",
    "    b_1 = ibins[1][i_b + 1]\n",
    "    \n",
    "    mean_bs.append((b_0 + b_1)/2)\n",
    "    \n",
    "    p_vals_b = p_vals[np.logical_and(b_0 <= tq_sims,  tq_sims < b_1)]\n",
    "    mean_ps.append(np.mean(p_vals_b))\n",
    "    err_ps.append(1.96*np.sqrt(mean_ps[-1]*(1 - mean_ps[-1])/len(p_vals_b)))\n",
    "    \n",
    "mean_ps = np.array(mean_ps)\n",
    "err_ps = np.array(err_ps)"
   ]
  },
  {
   "cell_type": "code",
   "execution_count": 26,
   "metadata": {},
   "outputs": [
    {
     "data": {
      "image/png": "[encoded data removed]",
      "text/plain": [
       "<Figure size 330x250 with 1 Axes>"
      ]
     },
     "metadata": {},
     "output_type": "display_data"
    }
   ],
   "source": [
    "plt.figure(figsize=(3.3, 2.5))\n",
    "\n",
    "plt.plot(mean_bs, ibins[0]/250000, 'r', alpha=0.3)\n",
    "\n",
    "plt.plot(mean_bs, mean_ps, 'k')\n",
    "plt.fill_between(mean_bs, mean_ps + err_ps, mean_ps - err_ps, color='k', alpha=0.3)\n",
    "\n",
    "plt.xlabel('text-[name: def] similarity')\n",
    "plt.ylabel('proportion of false classes\\n more similar to the text')\n",
    "\n",
    "plt.xlim([0, 1])\n",
    "plt.ylim([0, 0.25])\n",
    "\n",
    "plt.tight_layout()\n",
    "\n",
    "plt.savefig(os.path.join('figs', 'text-query_sim_distribution_augmented.pdf'), bbox_inches='tight')"
   ]
  },
  {
   "cell_type": "markdown",
   "metadata": {},
   "source": [
    "# Compare intra-class image similarities"
   ]
  },
  {
   "cell_type": "markdown",
   "metadata": {},
   "source": [
    "## Settings"
   ]
  },
  {
   "cell_type": "code",
   "execution_count": 27,
   "metadata": {},
   "outputs": [],
   "source": [
    "sm_prefix = configs.LAIONConfig.SUBSET_SM_FILTERED_PREFIX\n",
    "ic_prefix = 'imagenet_captions_'\n",
    "\n",
    "cross_image_sim_prefix = 'img_img_sims'\n",
    "cross_image_sim_path = os.path.join('laion400m', 'processed', 'clip_image_similarities')"
   ]
  },
  {
   "cell_type": "code",
   "execution_count": 28,
   "metadata": {},
   "outputs": [],
   "source": [
    "def vec(x):\n",
    "    msk = np.tril(np.eye(len(x)) < 0.5)\n",
    "    return x[msk]"
   ]
  },
  {
   "cell_type": "markdown",
   "metadata": {},
   "source": [
    "## Load similarities"
   ]
  },
  {
   "cell_type": "code",
   "execution_count": 29,
   "metadata": {},
   "outputs": [
    {
     "name": "stderr",
     "output_type": "stream",
     "text": [
      "100%|███████████████████████████████████████████████████████████████████████████████████████████████████| 999/999 [00:04<00:00, 233.50it/s]"
     ]
    },
    {
     "name": "stdout",
     "output_type": "stream",
     "text": [
      "898\n"
     ]
    },
    {
     "name": "stderr",
     "output_type": "stream",
     "text": [
      "\n"
     ]
    }
   ],
   "source": [
    "wnid2smsims = {}\n",
    "wnid2icsims = {}\n",
    "\n",
    "for wnid in tqdm(all_wnids):\n",
    "    sm_sim_path = os.path.join(cross_image_sim_path, sm_prefix + cross_image_sim_prefix + f'({wnid}).pkl')\n",
    "    ic_sim_path = os.path.join(cross_image_sim_path, ic_prefix + cross_image_sim_prefix + f'({wnid}).pkl')\n",
    "    \n",
    "    if (not os.path.exists(sm_sim_path)) or (not os.path.exists(ic_sim_path)):\n",
    "        continue\n",
    "\n",
    "    with open(sm_sim_path, 'rb') as f:\n",
    "        sm_sim_dict = pickle.load(f)\n",
    "    with open(ic_sim_path, 'rb') as f:\n",
    "        ic_sim_dict = pickle.load(f) \n",
    "        \n",
    "    if not isinstance(sm_sim_dict, dict):\n",
    "        continue\n",
    "        \n",
    "    sm_sim = sm_sim_dict['similarities']\n",
    "    ic_sim = ic_sim_dict['similarities']\n",
    "        \n",
    "    # Extract sims.\n",
    "    wnid2smsims[wnid] = vec(sm_sim)\n",
    "    wnid2icsims[wnid] = vec(ic_sim)\n",
    "    \n",
    "print(len(wnid2smsims))"
   ]
  },
  {
   "cell_type": "markdown",
   "metadata": {},
   "source": [
    "## Resample"
   ]
  },
  {
   "cell_type": "code",
   "execution_count": 30,
   "metadata": {},
   "outputs": [],
   "source": [
    "rs_sm_sims = []\n",
    "rs_ic_sims = []\n",
    "\n",
    "for wnid, sm_sims in wnid2smsims.items():\n",
    "    ic_sims = wnid2icsims[wnid]\n",
    "    \n",
    "    n_s_i = np.min([len(ic_sims), 100])\n",
    "        \n",
    "    rs_sm_sims.extend(np.random.choice(sm_sims, size=(n_s_i,), replace=True))\n",
    "    rs_ic_sims.extend(np.random.choice(ic_sims, size=(n_s_i,), replace=True))"
   ]
  },
  {
   "cell_type": "markdown",
   "metadata": {},
   "source": [
    "## Plot"
   ]
  },
  {
   "cell_type": "code",
   "execution_count": 31,
   "metadata": {},
   "outputs": [
    {
     "data": {
      "image/png": "[encoded data removed]",
      "text/plain": [
       "<Figure size 340x250 with 1 Axes>"
      ]
     },
     "metadata": {},
     "output_type": "display_data"
    }
   ],
   "source": [
    "plt.figure(figsize=(3.4, 2.5))\n",
    "\n",
    "_ = plt.hist(rs_sm_sims, bins=70, color='b', alpha=0.3, density=True)\n",
    "_ = plt.hist(rs_ic_sims, bins=70, color='r', alpha=0.3, density=True)\n",
    "\n",
    "plt.legend(['LAIONet', 'ImageNet'])\n",
    "\n",
    "plt.xlabel('intra-class image-image CLIP similarity')\n",
    "plt.ylabel('\\npdf')\n",
    "\n",
    "plt.xlim([0, 1])\n",
    "\n",
    "plt.tight_layout()\n",
    "\n",
    "plt.savefig(os.path.join('figs', f'{sm_prefix}{ic_prefix}{cross_image_sim_prefix}_resampled.pdf'), bbox_inches='tight')"
   ]
  },
  {
   "cell_type": "markdown",
   "metadata": {},
   "source": [
    "## Test per WNID"
   ]
  },
  {
   "cell_type": "code",
   "execution_count": 32,
   "metadata": {},
   "outputs": [
    {
     "name": "stderr",
     "output_type": "stream",
     "text": [
      "100%|██████████████████████████████████████████████████████████████████████████████████████████████████| 898/898 [00:00<00:00, 3774.48it/s]\n"
     ]
    }
   ],
   "source": [
    "sm_avg_intrasims = []\n",
    "sm_err_intrasims = []\n",
    "ic_avg_intrasims = []\n",
    "ic_err_intrasims = []\n",
    "\n",
    "for wnid, sm_intrasims in tqdm(wnid2smsims.items()):\n",
    "    ic_intrasims = wnid2icsims[wnid]\n",
    "    \n",
    "    if len(sm_intrasims) < 7 or len(ic_intrasims) < 7:\n",
    "        continue\n",
    "        \n",
    "    sm_avg_intrasims.append(np.mean(sm_intrasims))\n",
    "    sm_err_intrasims.append(1.96*np.std(sm_intrasims)/np.sqrt(len(sm_intrasims) - 1))\n",
    "    \n",
    "    ic_avg_intrasims.append(np.mean(ic_intrasims))\n",
    "    ic_err_intrasims.append(1.96*np.std(ic_intrasims)/np.sqrt(len(ic_intrasims) - 1))\n",
    "    \n",
    "sm_avg_intrasims = np.array(sm_avg_intrasims)\n",
    "sm_err_intrasims = np.array(sm_err_intrasims)\n",
    "ic_avg_intrasims = np.array(ic_avg_intrasims)\n",
    "ic_err_intrasims = np.array(ic_err_intrasims)"
   ]
  },
  {
   "cell_type": "code",
   "execution_count": 33,
   "metadata": {},
   "outputs": [
    {
     "name": "stdout",
     "output_type": "stream",
     "text": [
      "avg < 0: 0.6887115165336374\n",
      "UCB < 0: 565 out of 877 (0.6442417331812998)\n",
      "LCB > 0: 226 out of 877 (0.2576966932725199)\n"
     ]
    },
    {
     "data": {
      "image/png": "[encoded data removed]",
      "text/plain": [
       "<Figure size 340x250 with 1 Axes>"
      ]
     },
     "metadata": {},
     "output_type": "display_data"
    }
   ],
   "source": [
    "plt.figure(figsize=(3.4, 2.5))\n",
    "\n",
    "diff_avg_intrasims = sm_avg_intrasims - ic_avg_intrasims\n",
    "diff_err_intrasims = np.sqrt(sm_err_intrasims**2 + ic_err_intrasims**2)\n",
    "\n",
    "sorted_locs = np.argsort(diff_avg_intrasims)\n",
    "\n",
    "ucb_intrasims = np.sort(diff_avg_intrasims + diff_err_intrasims)\n",
    "lcb_intrasims = np.sort(diff_avg_intrasims - diff_err_intrasims)\n",
    "\n",
    "x = range(len(sorted_locs))\n",
    "\n",
    "plt.plot(x, diff_avg_intrasims[sorted_locs], color='k')\n",
    "plt.plot(x, ucb_intrasims, 'b')\n",
    "plt.plot(x, lcb_intrasims, 'r')\n",
    "\n",
    "plt.plot(x, [0]*len(x), 'k--', alpha=0.5)\n",
    "\n",
    "plt.legend(['LAIONet - ImageNet', 'UCB', 'LCB'])\n",
    "\n",
    "plt.xlabel(' ')\n",
    "plt.ylabel(r'$\\Delta$ intra-class image-image' + '\\n' + 'CLIP similarity')\n",
    "\n",
    "plt.tight_layout()\n",
    "\n",
    "plt.savefig(os.path.join('figs', 'intra-class_image-image_sim_diff.pdf'), bbox_inches='tight')\n",
    "\n",
    "print(f'avg < 0: {np.mean(diff_avg_intrasims < 0)}')\n",
    "print(f'UCB < 0: {np.sum(ucb_intrasims < 0)} out of {len(ucb_intrasims)} ({np.mean(ucb_intrasims < 0)})')\n",
    "print(f'LCB > 0: {np.sum(lcb_intrasims > 0)} out of {len(lcb_intrasims)} ({np.mean(lcb_intrasims > 0)})')"
   ]
  },
  {
   "cell_type": "markdown",
   "metadata": {},
   "source": [
    "# Compare intra-class cross image similarities for IC most similar texts"
   ]
  },
  {
   "cell_type": "markdown",
   "metadata": {},
   "source": [
    "## Settings"
   ]
  },
  {
   "cell_type": "code",
   "execution_count": 34,
   "metadata": {},
   "outputs": [],
   "source": [
    "tt_sim_th = 0.7"
   ]
  },
  {
   "cell_type": "code",
   "execution_count": 35,
   "metadata": {},
   "outputs": [],
   "source": [
    "ic_ms_prefix = configs.LAIONConfig.SUBSET_IC_MOST_SIMILAR_TXT_TXT_PREFIX\n",
    "\n",
    "ic_ms_imagename2laionindices_file_name = 'icimagename2laionindices.pkl'\n",
    "ic_ms_imagename2sims_file_name = 'icimagename2sims.pkl'"
   ]
  },
  {
   "cell_type": "markdown",
   "metadata": {},
   "source": [
    "## Load and preprocess"
   ]
  },
  {
   "cell_type": "code",
   "execution_count": 36,
   "metadata": {},
   "outputs": [],
   "source": [
    "with open(os.path.join(laion_labels_path, ic_ms_imagename2laionindices_file_name), 'rb') as f:\n",
    "    ic_ms_imagename2laionindices = pickle.load(f)\n",
    "    \n",
    "with open(os.path.join(laion_labels_path, ic_ms_imagename2sims_file_name), 'rb') as f:\n",
    "    ic_ms_imagename2ictextsims = pickle.load(f)\n",
    "    \n",
    "ic_ms_wnid2laionindices = {}\n",
    "ic_ms_wnid2ictextsims = {}\n",
    "\n",
    "for image_name, wnid in ic_imagename2wnid.items():\n",
    "    if wnid not in ic_ms_wnid2laionindices:\n",
    "        ic_ms_wnid2laionindices[wnid] = []\n",
    "        ic_ms_wnid2ictextsims[wnid] = []\n",
    "        \n",
    "    assert len(ic_ms_imagename2laionindices[image_name]) == 1\n",
    "    assert len(ic_ms_imagename2ictextsims[image_name]) == 1\n",
    "    \n",
    "    ic_ms_wnid2laionindices[wnid].extend(ic_ms_imagename2laionindices[image_name])\n",
    "    ic_ms_wnid2ictextsims[wnid].extend(ic_ms_imagename2ictextsims[image_name])"
   ]
  },
  {
   "cell_type": "markdown",
   "metadata": {},
   "source": [
    "## Load and filter similarites"
   ]
  },
  {
   "cell_type": "code",
   "execution_count": 37,
   "metadata": {},
   "outputs": [
    {
     "name": "stderr",
     "output_type": "stream",
     "text": [
      "100%|███████████████████████████████████████████████████████████████████████████████████████████████████| 999/999 [00:02<00:00, 362.97it/s]"
     ]
    },
    {
     "name": "stdout",
     "output_type": "stream",
     "text": [
      "962\n"
     ]
    },
    {
     "name": "stderr",
     "output_type": "stream",
     "text": [
      "\n"
     ]
    }
   ],
   "source": [
    "wnid2icmssims = {}\n",
    "wnid2icsims = {}\n",
    "\n",
    "for wnid in tqdm(all_wnids):\n",
    "    ic_ms_sim_path = os.path.join(cross_image_sim_path, ic_ms_prefix + cross_image_sim_prefix + f'({wnid}).pkl')\n",
    "    ic_sim_path = os.path.join(cross_image_sim_path, ic_prefix + cross_image_sim_prefix + f'({wnid}).pkl')\n",
    "        \n",
    "    if (not os.path.exists(ic_ms_sim_path)) or (not os.path.exists(ic_sim_path)):\n",
    "        continue\n",
    "\n",
    "    with open(ic_ms_sim_path, 'rb') as f:\n",
    "        ic_ms_sim_dict = pickle.load(f)\n",
    "    with open(ic_sim_path, 'rb') as f:\n",
    "        ic_sim_dict = pickle.load(f)\n",
    "        \n",
    "    ic_ms_sim = ic_ms_sim_dict['similarities']\n",
    "    ic_sim = ic_sim_dict['similarities']\n",
    "    \n",
    "    # Choose tha samples\n",
    "    tt_sims = np.array(ic_ms_wnid2ictextsims[wnid])\n",
    "    laion_indices = np.array(ic_ms_wnid2laionindices[wnid])\n",
    "    laion_indices = laion_indices[tt_sims > tt_sim_th]\n",
    "    \n",
    "    # Filter sims\n",
    "    locs_filtered = [\n",
    "        ic_ms_sim_dict['index'].index(laion_index) for laion_index in laion_indices\n",
    "        if laion_index in ic_ms_sim_dict['index']\n",
    "    ]\n",
    "    \n",
    "    ic_ms_sim = ic_ms_sim[locs_filtered][:, locs_filtered]\n",
    "    \n",
    "    if len(ic_ms_sim) <= 1:\n",
    "        continue\n",
    "        \n",
    "    # Extract sims.\n",
    "    wnid2icmssims[wnid] = vec(ic_ms_sim)\n",
    "    wnid2icsims[wnid] = vec(ic_sim)\n",
    "    \n",
    "print(len(wnid2icmssims))"
   ]
  },
  {
   "cell_type": "markdown",
   "metadata": {},
   "source": [
    "## Resample"
   ]
  },
  {
   "cell_type": "code",
   "execution_count": 38,
   "metadata": {},
   "outputs": [],
   "source": [
    "rs_ic_ms_sims = []\n",
    "rs_ic_sims = []\n",
    "\n",
    "for wnid, ic_ms_sims in wnid2icmssims.items():\n",
    "    if wnid not in wnid2icsims: \n",
    "        continue \n",
    "        \n",
    "    ic_sims = wnid2icsims[wnid]\n",
    "    \n",
    "    n_s_i = np.min([len(ic_sims), 100])\n",
    "        \n",
    "    rs_ic_ms_sims.extend(np.random.choice(ic_ms_sims, size=(n_s_i,), replace=True))\n",
    "    rs_ic_sims.extend(np.random.choice(ic_sims, size=(n_s_i,), replace=True))"
   ]
  },
  {
   "cell_type": "markdown",
   "metadata": {},
   "source": [
    "# Plot"
   ]
  },
  {
   "cell_type": "code",
   "execution_count": 39,
   "metadata": {},
   "outputs": [
    {
     "data": {
      "image/png": "[encoded data removed]",
      "text/plain": [
       "<Figure size 340x250 with 1 Axes>"
      ]
     },
     "metadata": {},
     "output_type": "display_data"
    }
   ],
   "source": [
    "plt.figure(figsize=(3.4, 2.5))\n",
    "\n",
    "_ = plt.hist(rs_ic_ms_sims, bins=70, color='b', alpha=0.3, density=True, range=(0, 0.99))\n",
    "_ = plt.hist(rs_ic_sims, bins=70, color='r', alpha=0.3, density=True, range=(0, 0.99))\n",
    "\n",
    "plt.legend(['LAION | ImageNet texts', 'ImageNet'])\n",
    "\n",
    "plt.xlabel('intra-class image-image CLIP similarity')\n",
    "plt.ylabel('\\npdf')\n",
    "\n",
    "plt.xlim([0, 1])\n",
    "\n",
    "plt.tight_layout()\n",
    "\n",
    "plt.savefig(os.path.join('figs', f'{ic_ms_prefix}{ic_prefix}{cross_image_sim_prefix}_resampled.pdf'), bbox_inches='tight')"
   ]
  },
  {
   "cell_type": "markdown",
   "metadata": {},
   "source": [
    "# Test per WNID"
   ]
  },
  {
   "cell_type": "code",
   "execution_count": 40,
   "metadata": {},
   "outputs": [
    {
     "name": "stderr",
     "output_type": "stream",
     "text": [
      "100%|██████████████████████████████████████████████████████████████████████████████████████████████████| 962/962 [00:00<00:00, 3502.48it/s]\n"
     ]
    }
   ],
   "source": [
    "ic_ms_avg_intrasims = []\n",
    "ic_ms_err_intrasims = []\n",
    "ic_avg_intrasims = []\n",
    "ic_err_intrasims = []\n",
    "\n",
    "for wnid, ic_ms_intrasims in tqdm(wnid2icmssims.items()):\n",
    "    ic_intrasims = wnid2icsims[wnid]\n",
    "    \n",
    "    if len(ic_ms_intrasims) < 7 or len(ic_intrasims) < 7:\n",
    "        continue\n",
    "        \n",
    "    ic_ms_avg_intrasims.append(np.mean(ic_ms_intrasims))\n",
    "    ic_ms_err_intrasims.append(1.96*np.std(ic_ms_intrasims)/np.sqrt(len(ic_ms_intrasims) - 1))\n",
    "    \n",
    "    ic_avg_intrasims.append(np.mean(ic_intrasims))\n",
    "    ic_err_intrasims.append(1.96*np.std(ic_intrasims)/np.sqrt(len(ic_intrasims) - 1))\n",
    "    \n",
    "ic_ms_avg_intrasims = np.array(ic_ms_avg_intrasims)\n",
    "ic_ms_err_intrasims = np.array(ic_ms_err_intrasims)\n",
    "ic_avg_intrasims = np.array(ic_avg_intrasims)\n",
    "ic_err_intrasims = np.array(ic_err_intrasims)"
   ]
  },
  {
   "cell_type": "code",
   "execution_count": 41,
   "metadata": {},
   "outputs": [
    {
     "name": "stdout",
     "output_type": "stream",
     "text": [
      "avg < 0: 0.8118918918918919\n",
      "UCB < 0: 715 out of 925 (0.772972972972973)\n",
      "LCB > 0: 141 out of 925 (0.15243243243243243)\n"
     ]
    },
    {
     "data": {
      "image/png": "[encoded data removed]",
      "text/plain": [
       "<Figure size 340x250 with 1 Axes>"
      ]
     },
     "metadata": {},
     "output_type": "display_data"
    }
   ],
   "source": [
    "plt.figure(figsize=(3.4, 2.5))\n",
    "\n",
    "diff_avg_intrasims = ic_ms_avg_intrasims - ic_avg_intrasims\n",
    "diff_err_intrasims = np.sqrt(ic_ms_err_intrasims**2 + ic_err_intrasims**2)\n",
    "\n",
    "sorted_locs = np.argsort(diff_avg_intrasims)\n",
    "\n",
    "ucb_intrasims = np.sort(diff_avg_intrasims + diff_err_intrasims)\n",
    "lcb_intrasims = np.sort(diff_avg_intrasims - diff_err_intrasims)\n",
    "\n",
    "x = range(len(sorted_locs))\n",
    "\n",
    "plt.plot(x, diff_avg_intrasims[sorted_locs], color='k')\n",
    "plt.plot(x, ucb_intrasims, 'b')\n",
    "plt.plot(x, lcb_intrasims, 'r')\n",
    "\n",
    "plt.plot(x, [0]*len(x), 'k--', alpha=0.5)\n",
    "\n",
    "plt.legend(['LAIONet - ImageNet', 'UCB', 'LCB'])\n",
    "\n",
    "plt.xlabel(' ')\n",
    "plt.ylabel(r'$\\Delta$ intra-class image-image' + '\\n' + 'CLIP similarity')\n",
    "\n",
    "plt.tight_layout()\n",
    "\n",
    "plt.savefig(os.path.join('figs', 'intra-class_image-image_sim_diff_cond_text.pdf'), bbox_inches='tight')\n",
    "\n",
    "print(f'avg < 0: {np.mean(diff_avg_intrasims < 0)}')\n",
    "print(f'UCB < 0: {np.sum(ucb_intrasims < 0)} out of {len(ucb_intrasims)} ({np.mean(ucb_intrasims < 0)})')\n",
    "print(f'LCB > 0: {np.sum(lcb_intrasims > 0)} out of {len(lcb_intrasims)} ({np.mean(lcb_intrasims > 0)})')"
   ]
  },
  {
   "cell_type": "markdown",
   "metadata": {},
   "source": [
    "## Test per WNID per text-text th"
   ]
  },
  {
   "cell_type": "code",
   "execution_count": 42,
   "metadata": {},
   "outputs": [],
   "source": [
    "tt_sim_ths = np.linspace(0.5, 0.75, 20)"
   ]
  },
  {
   "cell_type": "code",
   "execution_count": 43,
   "metadata": {},
   "outputs": [
    {
     "name": "stderr",
     "output_type": "stream",
     "text": [
      "  0%|                                                                                                               | 0/20 [00:00<?, ?it/s]/var/folders/0x/586kgp7s0gqbff4fcbg60twm0000gq/T/ipykernel_1438/2243046274.py:45: RuntimeWarning: invalid value encountered in scalar divide\n",
      "  ic_ms_err_intrasims.append(1.96*np.std(vec(ic_ms_sim))/np.sqrt(len(vec(ic_ms_sim)) - 1))\n",
      "100%|██████████████████████████████████████████████████████████████████████████████████████████████████████| 20/20 [01:18<00:00,  3.93s/it]\n"
     ]
    }
   ],
   "source": [
    "prop_ic_has_lower_avgs = np.zeros((len(tt_sim_ths),))\n",
    "prop_ic_ms_has_lower_avgs = np.zeros((len(tt_sim_ths),))\n",
    "n_wnid_included = np.zeros((len(tt_sim_ths),))\n",
    "\n",
    "for i_tt, tt_sim_th in enumerate(tqdm(tt_sim_ths)):\n",
    "    # Load and filter\n",
    "    ic_ms_avg_intrasims = []\n",
    "    ic_ms_err_intrasims = []\n",
    "    ic_avg_intrasims = []\n",
    "    ic_err_intrasims = []\n",
    "\n",
    "    for wnid in all_wnids:\n",
    "        ic_ms_sim_path = os.path.join(cross_image_sim_path, ic_ms_prefix + cross_image_sim_prefix + f'({wnid}).pkl')\n",
    "        ic_sim_path = os.path.join(cross_image_sim_path, ic_prefix + cross_image_sim_prefix + f'({wnid}).pkl')\n",
    "\n",
    "        if (not os.path.exists(ic_ms_sim_path)) or (not os.path.exists(ic_sim_path)):\n",
    "            continue\n",
    "\n",
    "        with open(ic_ms_sim_path, 'rb') as f:\n",
    "            ic_ms_sim_dict = pickle.load(f)\n",
    "        with open(ic_sim_path, 'rb') as f:\n",
    "            ic_sim_dict = pickle.load(f)\n",
    "\n",
    "        ic_ms_sim = ic_ms_sim_dict['similarities']\n",
    "        ic_sim = ic_sim_dict['similarities']\n",
    "\n",
    "        # Choose tha samples\n",
    "        tt_sims = np.array(ic_ms_wnid2ictextsims[wnid])\n",
    "        laion_indices = np.array(ic_ms_wnid2laionindices[wnid])\n",
    "        laion_indices = laion_indices[tt_sims > tt_sim_th]\n",
    "\n",
    "        # Filter sims\n",
    "        locs_filtered = [\n",
    "            ic_ms_sim_dict['index'].index(laion_index) for laion_index in laion_indices\n",
    "            if laion_index in ic_ms_sim_dict['index']\n",
    "        ]\n",
    "\n",
    "        ic_ms_sim = ic_ms_sim[locs_filtered][:, locs_filtered]\n",
    "\n",
    "        if len(ic_ms_sim) <= 1:\n",
    "            continue\n",
    "\n",
    "        # Extract and average sims.\n",
    "        ic_ms_avg_intrasims.append(np.mean(vec(ic_ms_sim)))\n",
    "        ic_ms_err_intrasims.append(1.96*np.std(vec(ic_ms_sim))/np.sqrt(len(vec(ic_ms_sim)) - 1))\n",
    "        \n",
    "        ic_avg_intrasims.append(np.mean(vec(ic_sim)))\n",
    "        ic_err_intrasims.append(1.96*np.std(vec(ic_sim))/np.sqrt(len(vec(ic_sim)) - 1))\n",
    "        \n",
    "    # Count\n",
    "    diff_avg_intrasims = np.array(ic_ms_avg_intrasims) - np.array(ic_avg_intrasims)\n",
    "    diff_err_intrasims = np.sqrt(np.array(ic_ms_err_intrasims)**2 + np.array(ic_err_intrasims)**2)\n",
    "\n",
    "    ucb_intrasims = diff_avg_intrasims + diff_err_intrasims\n",
    "    lcb_intrasims = diff_avg_intrasims - diff_err_intrasims\n",
    "    \n",
    "    prop_ic_has_lower_avgs[i_tt] = np.mean(lcb_intrasims > 0)\n",
    "    prop_ic_ms_has_lower_avgs[i_tt] = np.mean(ucb_intrasims < 0)\n",
    "    n_wnid_included[i_tt] = len(lcb_intrasims)"
   ]
  },
  {
   "cell_type": "code",
   "execution_count": 44,
   "metadata": {},
   "outputs": [
    {
     "data": {
      "image/png": "[encoded data removed]",
      "text/plain": [
       "<Figure size 300x250 with 1 Axes>"
      ]
     },
     "metadata": {},
     "output_type": "display_data"
    }
   ],
   "source": [
    "chosen_sim_th = 0.7\n",
    "\n",
    "plt.figure(figsize=(3, 2.5))\n",
    "\n",
    "plt.plot(tt_sim_ths, n_wnid_included, 'b')\n",
    "plt.plot([chosen_sim_th]*2, [850, 1000], 'k--', alpha=0.5)\n",
    "plt.xlim([tt_sim_ths[0], tt_sim_ths[-1]])\n",
    "plt.xlabel('LAION text to ImageNet text\\nCLIP similarity')\n",
    "plt.ylabel('num. of classes included')\n",
    "\n",
    "plt.tight_layout()\n",
    "\n",
    "plt.savefig(os.path.join('figs', 'n-class_after_filtering_ic_most_similar.pdf'), bbox_inches='tight')"
   ]
  },
  {
   "cell_type": "code",
   "execution_count": 45,
   "metadata": {},
   "outputs": [
    {
     "data": {
      "image/png": "[encoded data removed]",
      "text/plain": [
       "<Figure size 300x250 with 1 Axes>"
      ]
     },
     "metadata": {},
     "output_type": "display_data"
    }
   ],
   "source": [
    "plt.figure(figsize=(3, 2.5))\n",
    "\n",
    "plt.plot(tt_sim_ths, prop_ic_ms_has_lower_avgs, 'b')\n",
    "plt.plot(tt_sim_ths, prop_ic_has_lower_avgs, 'r')\n",
    "plt.plot([chosen_sim_th]*2, [0, 1], 'k--', alpha=0.5)\n",
    "plt.xlim([tt_sim_ths[0], tt_sim_ths[-1]])\n",
    "plt.xlabel('LAION text to ImageNet text\\nCLIP similarity')\n",
    "plt.ylabel('proportion of classes')\n",
    "\n",
    "plt.legend(['LAION < ImageNet', 'LAION > ImageNet'])\n",
    "\n",
    "plt.tight_layout()\n",
    "\n",
    "plt.savefig(os.path.join('figs', 'prop_lower_sim_ic_most_similar.pdf'), bbox_inches='tight')"
   ]
  },
  {
   "cell_type": "markdown",
   "metadata": {},
   "source": [
    "# Compare intra-class cross image similarities for ImageNetV2"
   ]
  },
  {
   "cell_type": "markdown",
   "metadata": {},
   "source": [
    "## Settings"
   ]
  },
  {
   "cell_type": "code",
   "execution_count": 46,
   "metadata": {},
   "outputs": [],
   "source": [
    "sm_prefix = configs.LAIONConfig.SUBSET_SM_FILTERED_PREFIX\n",
    "iv2b_prefix = 'imagenetv2-matched-frequency_'\n",
    "iv2a_prefix = 'imagenetv2-threshold0.7_'\n",
    "iv2c_prefix = 'imagenetv2-top-images_'"
   ]
  },
  {
   "cell_type": "markdown",
   "metadata": {},
   "source": [
    "## Load similarities"
   ]
  },
  {
   "cell_type": "code",
   "execution_count": 47,
   "metadata": {},
   "outputs": [
    {
     "name": "stderr",
     "output_type": "stream",
     "text": [
      "100%|███████████████████████████████████████████████████████████████████████████████████████████████████| 999/999 [00:02<00:00, 453.79it/s]"
     ]
    },
    {
     "name": "stdout",
     "output_type": "stream",
     "text": [
      "899\n"
     ]
    },
    {
     "name": "stderr",
     "output_type": "stream",
     "text": [
      "\n"
     ]
    }
   ],
   "source": [
    "wnid2smsims = {}\n",
    "wnid2iv2asims = {}\n",
    "wnid2iv2bsims = {}\n",
    "wnid2iv2csims = {}\n",
    "\n",
    "for wnid in tqdm(all_wnids):\n",
    "    sm_sim_path = os.path.join(cross_image_sim_path, sm_prefix + cross_image_sim_prefix + f'({wnid}).pkl')\n",
    "    iv2a_sim_path = os.path.join(cross_image_sim_path, iv2a_prefix + cross_image_sim_prefix + f'({wnid}).pkl')\n",
    "    iv2b_sim_path = os.path.join(cross_image_sim_path, iv2b_prefix + cross_image_sim_prefix + f'({wnid}).pkl')\n",
    "    iv2c_sim_path = os.path.join(cross_image_sim_path, iv2c_prefix + cross_image_sim_prefix + f'({wnid}).pkl')\n",
    "    \n",
    "    if (not os.path.exists(sm_sim_path)) or (not os.path.exists(iv2a_sim_path)) or (not os.path.exists(iv2b_sim_path)) or (not os.path.exists(iv2c_sim_path)):\n",
    "        continue\n",
    "\n",
    "    with open(sm_sim_path, 'rb') as f:\n",
    "        sm_sim_dict = pickle.load(f)\n",
    "    with open(iv2a_sim_path, 'rb') as f:\n",
    "        iv2a_sim_dict = pickle.load(f) \n",
    "    with open(iv2b_sim_path, 'rb') as f:\n",
    "        iv2b_sim_dict = pickle.load(f) \n",
    "    with open(iv2c_sim_path, 'rb') as f:\n",
    "        iv2c_sim_dict = pickle.load(f)\n",
    "        \n",
    "    if not isinstance(sm_sim_dict, dict):\n",
    "        continue\n",
    "        \n",
    "    sm_sim = sm_sim_dict['similarities']\n",
    "    iv2a_sim = iv2a_sim_dict['similarities']\n",
    "    iv2b_sim = iv2b_sim_dict['similarities']\n",
    "    iv2c_sim = iv2c_sim_dict['similarities']\n",
    "        \n",
    "    # Extract sims.\n",
    "    wnid2smsims[wnid] = vec(sm_sim)\n",
    "    wnid2iv2asims[wnid] = vec(iv2a_sim)\n",
    "    wnid2iv2bsims[wnid] = vec(iv2b_sim)\n",
    "    wnid2iv2csims[wnid] = vec(iv2c_sim)\n",
    "    \n",
    "print(len(wnid2smsims))"
   ]
  },
  {
   "cell_type": "markdown",
   "metadata": {},
   "source": [
    "## Resample"
   ]
  },
  {
   "cell_type": "code",
   "execution_count": 48,
   "metadata": {},
   "outputs": [],
   "source": [
    "rs_sm_sims = []\n",
    "rs_iv2a_sims = []\n",
    "rs_iv2b_sims = []\n",
    "rs_iv2c_sims = []\n",
    "\n",
    "np.random.seed(111)\n",
    "for wnid, sm_sims in wnid2smsims.items():\n",
    "    iv2a_sims = wnid2iv2asims[wnid]\n",
    "    iv2b_sims = wnid2iv2bsims[wnid]\n",
    "    iv2c_sims = wnid2iv2csims[wnid]\n",
    "    \n",
    "    n_s_i = np.min([len(iv2a_sims), len(iv2b_sims), len(iv2c_sims), 100])\n",
    "        \n",
    "    rs_sm_sims.extend(np.random.choice(sm_sims, size=(n_s_i,), replace=True))\n",
    "    rs_iv2a_sims.extend(np.random.choice(iv2a_sims, size=(n_s_i,), replace=True))\n",
    "    rs_iv2b_sims.extend(np.random.choice(iv2b_sims, size=(n_s_i,), replace=True))\n",
    "    rs_iv2c_sims.extend(np.random.choice(iv2c_sims, size=(n_s_i,), replace=True))"
   ]
  },
  {
   "cell_type": "markdown",
   "metadata": {},
   "source": [
    "## Plot"
   ]
  },
  {
   "cell_type": "code",
   "execution_count": 49,
   "metadata": {},
   "outputs": [
    {
     "data": {
      "image/png": "[encoded data removed]",
      "text/plain": [
       "<Figure size 340x250 with 1 Axes>"
      ]
     },
     "metadata": {},
     "output_type": "display_data"
    }
   ],
   "source": [
    "plt.figure(figsize=(3.4, 2.5))\n",
    "\n",
    "# _ = plt.hist(rs_sm_sims, bins=40, color='b', alpha=0.3, density=True)\n",
    "# _ = plt.hist(rs_iv2a_sims, bins=40, color='b', alpha=0.3, density=True)\n",
    "_ = plt.hist(rs_iv2b_sims, bins=40, color='g', alpha=0.3, density=True)\n",
    "_ = plt.hist(rs_iv2c_sims, bins=40, color='r', alpha=0.3, density=True)\n",
    "\n",
    "plt.legend(['ImageNetV2-b', 'ImageNetV2-c'])\n",
    "\n",
    "plt.xlabel('intra-class image-image CLIP similarity')\n",
    "plt.ylabel('\\npdf')\n",
    "\n",
    "plt.xlim([0, 1])\n",
    "\n",
    "plt.tight_layout()\n",
    "\n",
    "plt.savefig(os.path.join('figs', f'{sm_prefix}{iv2b_prefix}{iv2c_prefix}{cross_image_sim_prefix}_resampled.pdf'), bbox_inches='tight')"
   ]
  },
  {
   "cell_type": "code",
   "execution_count": 158,
   "metadata": {},
   "outputs": [
    {
     "data": {
      "image/png": "[encoded data removed]",
      "text/plain": [
       "<Figure size 340x250 with 1 Axes>"
      ]
     },
     "metadata": {},
     "output_type": "display_data"
    }
   ],
   "source": [
    "plt.figure(figsize=(3.4, 2.5))\n",
    "\n",
    "_ = plt.hist(rs_sm_sims, bins=40, color='b', alpha=0.3, density=True)\n",
    "_ = plt.hist(rs_iv2b_sims, bins=40, color='g', alpha=0.3, density=True)\n",
    "\n",
    "plt.legend(['LAIONet', 'ImageNetV2-c'])\n",
    "\n",
    "plt.xlabel('intra-class image-image CLIP similarity')\n",
    "plt.ylabel('\\npdf')\n",
    "\n",
    "plt.xlim([0, 1])\n",
    "\n",
    "plt.tight_layout()\n",
    "\n",
    "plt.savefig(os.path.join('figs', f'{sm_prefix}{iv2c_prefix}{cross_image_sim_prefix}_resampled.pdf'))"
   ]
  },
  {
   "cell_type": "markdown",
   "metadata": {},
   "source": [
    "## Test per WNID"
   ]
  },
  {
   "cell_type": "code",
   "execution_count": 50,
   "metadata": {},
   "outputs": [
    {
     "name": "stderr",
     "output_type": "stream",
     "text": [
      "100%|██████████████████████████████████████████████████████████████████████████████████████████████████| 899/899 [00:00<00:00, 2396.52it/s]\n"
     ]
    }
   ],
   "source": [
    "sm_avg_intrasims = []\n",
    "sm_err_intrasims = []\n",
    "ic_avg_intrasims = []\n",
    "ic_err_intrasims = []\n",
    "iv2a_avg_intrasims = []\n",
    "iv2a_err_intrasims = []\n",
    "iv2b_avg_intrasims = []\n",
    "iv2b_err_intrasims = []\n",
    "iv2c_avg_intrasims = []\n",
    "iv2c_err_intrasims = []\n",
    "\n",
    "for wnid, sm_intrasims in tqdm(wnid2smsims.items()):\n",
    "    if wnid not in wnid2icsims:\n",
    "        continue\n",
    "        \n",
    "    ic_intrasims = wnid2icsims[wnid]\n",
    "    iv2a_intrasims = wnid2iv2asims[wnid]\n",
    "    iv2b_intrasims = wnid2iv2bsims[wnid]\n",
    "    iv2c_intrasims = wnid2iv2csims[wnid]\n",
    "    \n",
    "    if len(sm_intrasims) < 7 or len(iv2a_intrasims) < 7 or len(iv2b_intrasims) < 7 or len(iv2c_intrasims) < 7:\n",
    "        continue\n",
    "        \n",
    "    sm_avg_intrasims.append(np.mean(sm_intrasims))\n",
    "    sm_err_intrasims.append(1.96*np.std(sm_intrasims)/np.sqrt(len(sm_intrasims) - 1))\n",
    "    \n",
    "    ic_avg_intrasims.append(np.mean(ic_intrasims))\n",
    "    ic_err_intrasims.append(1.96*np.std(ic_intrasims)/np.sqrt(len(ic_intrasims) - 1))\n",
    "    \n",
    "    iv2a_avg_intrasims.append(np.mean(iv2a_intrasims))\n",
    "    iv2a_err_intrasims.append(1.96*np.std(iv2a_intrasims)/np.sqrt(len(iv2a_intrasims) - 1))\n",
    "    \n",
    "    iv2b_avg_intrasims.append(np.mean(iv2b_intrasims))\n",
    "    iv2b_err_intrasims.append(1.96*np.std(iv2b_intrasims)/np.sqrt(len(iv2b_intrasims) - 1))\n",
    "    \n",
    "    iv2c_avg_intrasims.append(np.mean(iv2c_intrasims))\n",
    "    iv2c_err_intrasims.append(1.96*np.std(iv2c_intrasims)/np.sqrt(len(iv2c_intrasims) - 1))\n",
    "    \n",
    "sm_avg_intrasims = np.array(sm_avg_intrasims)\n",
    "sm_err_intrasims = np.array(sm_err_intrasims)\n",
    "ic_avg_intrasims = np.array(ic_avg_intrasims)\n",
    "ic_err_intrasims = np.array(ic_err_intrasims)\n",
    "iv2a_avg_intrasims = np.array(iv2a_avg_intrasims)\n",
    "iv2a_err_intrasims = np.array(iv2a_err_intrasims)\n",
    "iv2b_avg_intrasims = np.array(iv2b_avg_intrasims)\n",
    "iv2b_err_intrasims = np.array(iv2b_err_intrasims)\n",
    "iv2c_avg_intrasims = np.array(iv2c_avg_intrasims)\n",
    "iv2c_err_intrasims = np.array(iv2c_err_intrasims)"
   ]
  },
  {
   "cell_type": "code",
   "execution_count": 179,
   "metadata": {},
   "outputs": [
    {
     "name": "stdout",
     "output_type": "stream",
     "text": [
      "avg < 0: 0.4765258215962441\n",
      "UCB < 0: 273 out of 852 (0.3204225352112676)\n",
      "LCB > 0: 326 out of 852 (0.3826291079812207)\n"
     ]
    },
    {
     "data": {
      "image/png": "[encoded data removed]",
      "text/plain": [
       "<Figure size 340x250 with 1 Axes>"
      ]
     },
     "metadata": {},
     "output_type": "display_data"
    }
   ],
   "source": [
    "plt.figure(figsize=(3.4, 2.5))\n",
    "\n",
    "# Change the next two lines + legened + file name for different ver of ImageNetV2\n",
    "diff_avg_intrasims = sm_avg_intrasims - iv2b_avg_intrasims\n",
    "diff_err_intrasims = np.sqrt(sm_err_intrasims**2 + iv2b_err_intrasims**2)\n",
    "\n",
    "sorted_locs = np.argsort(diff_avg_intrasims)\n",
    "\n",
    "ucb_intrasims = np.sort(diff_avg_intrasims + diff_err_intrasims)\n",
    "lcb_intrasims = np.sort(diff_avg_intrasims - diff_err_intrasims)\n",
    "\n",
    "x = range(len(sorted_locs))\n",
    "\n",
    "plt.plot(x, diff_avg_intrasims[sorted_locs], color='k')\n",
    "plt.plot(x, ucb_intrasims, 'b')\n",
    "plt.plot(x, lcb_intrasims, 'r')\n",
    "\n",
    "plt.plot(x, [0]*len(x), 'k--', alpha=0.5)\n",
    "\n",
    "# Change here\n",
    "plt.legend(['LAIONet - ImageNetV2-b', 'UCB', 'LCB'])\n",
    "\n",
    "plt.xlabel(' ')\n",
    "plt.ylabel(r'$\\Delta$ intra-class image-image' + '\\n' + 'CLIP similarity')\n",
    "\n",
    "plt.tight_layout()\n",
    "\n",
    "# Change here\n",
    "plt.savefig(os.path.join('figs', f'intra-class_image-image_sim_diff_{iv2b_prefix[:-1]}.pdf'), bbox_inches='tight')\n",
    "\n",
    "print(f'avg < 0: {np.mean(diff_avg_intrasims < 0)}')\n",
    "print(f'UCB < 0: {np.sum(ucb_intrasims < 0)} out of {len(ucb_intrasims)} ({np.mean(ucb_intrasims < 0)})')\n",
    "print(f'LCB > 0: {np.sum(lcb_intrasims > 0)} out of {len(lcb_intrasims)} ({np.mean(lcb_intrasims > 0)})')"
   ]
  },
  {
   "cell_type": "markdown",
   "metadata": {},
   "source": [
    "## Vs. MTurk selection frequency"
   ]
  },
  {
   "cell_type": "code",
   "execution_count": 51,
   "metadata": {},
   "outputs": [
    {
     "data": {
      "image/png": "[encoded data removed]",
      "text/plain": [
       "<Figure size 340x250 with 1 Axes>"
      ]
     },
     "metadata": {},
     "output_type": "display_data"
    }
   ],
   "source": [
    "diff_avg_intrasims = sm_avg_intrasims - iv2a_avg_intrasims\n",
    "diff_err_intrasims = np.sqrt(sm_err_intrasims**2 + iv2a_err_intrasims**2)\n",
    "ucb_a_intrasims = np.sort(diff_avg_intrasims + diff_err_intrasims)\n",
    "lcb_a_intrasims = np.sort(diff_avg_intrasims - diff_err_intrasims)\n",
    "\n",
    "diff_avg_intrasims = sm_avg_intrasims - iv2b_avg_intrasims\n",
    "diff_err_intrasims = np.sqrt(sm_err_intrasims**2 + iv2b_err_intrasims**2)\n",
    "ucb_b_intrasims = np.sort(diff_avg_intrasims + diff_err_intrasims)\n",
    "lcb_b_intrasims = np.sort(diff_avg_intrasims - diff_err_intrasims)\n",
    "\n",
    "diff_avg_intrasims = sm_avg_intrasims - iv2c_avg_intrasims\n",
    "diff_err_intrasims = np.sqrt(sm_err_intrasims**2 + iv2c_err_intrasims**2)\n",
    "ucb_c_intrasims = np.sort(diff_avg_intrasims + diff_err_intrasims)\n",
    "lcb_c_intrasims = np.sort(diff_avg_intrasims - diff_err_intrasims)\n",
    "\n",
    "mturk_selec_freq = {'b': 0.73, 'a': 0.85, 'c': 0.93}\n",
    "\n",
    "plt.figure(figsize=(3.4, 2.5))\n",
    "\n",
    "plt.plot(\n",
    "    [v for k, v in mturk_selec_freq.items()], \n",
    "    [\n",
    "        np.mean(ucb_b_intrasims < 0),\n",
    "        np.mean(ucb_a_intrasims < 0),\n",
    "        np.mean(ucb_c_intrasims < 0),\n",
    "    ],\n",
    "    'b',\n",
    "    marker='.'\n",
    ")\n",
    "\n",
    "plt.plot(\n",
    "    [v for k, v in mturk_selec_freq.items()], \n",
    "    [\n",
    "        np.mean(lcb_b_intrasims > 0),\n",
    "        np.mean(lcb_a_intrasims > 0),\n",
    "        np.mean(lcb_c_intrasims > 0),\n",
    "    ],\n",
    "    'g',\n",
    "    marker='.'\n",
    ")\n",
    "\n",
    "plt.xlabel('MTurk selection frequency')\n",
    "plt.ylabel('\\nproportion of classes')\n",
    "\n",
    "plt.legend(['LAIONet < ImageNetV2', 'LAIONet > ImageNetV2'])\n",
    "\n",
    "plt.ylim([0, 1])\n",
    "\n",
    "plt.tight_layout()\n",
    "\n",
    "plt.savefig(os.path.join('figs', f'prop_lower_sim_imagenetv2.pdf'), bbox_inches='tight')\n"
   ]
  },
  {
   "cell_type": "markdown",
   "metadata": {},
   "source": [
    "## Vs. ImageNet"
   ]
  },
  {
   "cell_type": "code",
   "execution_count": 52,
   "metadata": {},
   "outputs": [
    {
     "data": {
      "image/png": "[encoded data removed]",
      "text/plain": [
       "<Figure size 340x250 with 1 Axes>"
      ]
     },
     "metadata": {},
     "output_type": "display_data"
    }
   ],
   "source": [
    "diff_avg_intrasims = ic_avg_intrasims - iv2a_avg_intrasims\n",
    "diff_err_intrasims = np.sqrt(ic_err_intrasims**2 + iv2a_err_intrasims**2)\n",
    "ucb_a_intrasims = np.sort(diff_avg_intrasims + diff_err_intrasims)\n",
    "lcb_a_intrasims = np.sort(diff_avg_intrasims - diff_err_intrasims)\n",
    "\n",
    "diff_avg_intrasims = ic_avg_intrasims - iv2b_avg_intrasims\n",
    "diff_err_intrasims = np.sqrt(ic_err_intrasims**2 + iv2b_err_intrasims**2)\n",
    "ucb_b_intrasims = np.sort(diff_avg_intrasims + diff_err_intrasims)\n",
    "lcb_b_intrasims = np.sort(diff_avg_intrasims - diff_err_intrasims)\n",
    "\n",
    "diff_avg_intrasims = ic_avg_intrasims - iv2c_avg_intrasims\n",
    "diff_err_intrasims = np.sqrt(ic_err_intrasims**2 + iv2c_err_intrasims**2)\n",
    "ucb_c_intrasims = np.sort(diff_avg_intrasims + diff_err_intrasims)\n",
    "lcb_c_intrasims = np.sort(diff_avg_intrasims - diff_err_intrasims)\n",
    "\n",
    "mturk_selec_freq = {'b': 0.73, 'a': 0.85, 'c': 0.93}\n",
    "\n",
    "plt.figure(figsize=(3.4, 2.5))\n",
    "\n",
    "plt.plot(\n",
    "    [v for k, v in mturk_selec_freq.items()], \n",
    "    [\n",
    "        np.mean(ucb_b_intrasims < 0),\n",
    "        np.mean(ucb_a_intrasims < 0),\n",
    "        np.mean(ucb_c_intrasims < 0),\n",
    "    ],\n",
    "    'r',\n",
    "    marker='.'\n",
    ")\n",
    "\n",
    "plt.plot(\n",
    "    [v for k, v in mturk_selec_freq.items()], \n",
    "    [\n",
    "        np.mean(lcb_b_intrasims > 0),\n",
    "        np.mean(lcb_a_intrasims > 0),\n",
    "        np.mean(lcb_c_intrasims > 0),\n",
    "    ],\n",
    "    'g',\n",
    "    marker='.'\n",
    ")\n",
    "\n",
    "plt.xlabel('MTurk selection frequency')\n",
    "plt.ylabel('\\nproportion of classes')\n",
    "\n",
    "plt.legend(['ImageNet < ImageNetV2', 'ImageNet > ImageNetV2'])\n",
    "\n",
    "plt.ylim([0, 1])\n",
    "\n",
    "plt.tight_layout()\n",
    "\n",
    "plt.savefig(os.path.join('figs', f'prop_lower_sim_imagenetv2_vs_imagenet.pdf'), bbox_inches='tight')\n"
   ]
  },
  {
   "cell_type": "code",
   "execution_count": null,
   "metadata": {},
   "outputs": [],
   "source": []
  }
 ],
 "metadata": {
  "kernelspec": {
   "display_name": "laionvenv",
   "language": "python",
   "name": "laionvenv"
  },
  "language_info": {
   "codemirror_mode": {
    "name": "ipython",
    "version": 3
   },
   "file_extension": ".py",
   "mimetype": "text/x-python",
   "name": "python",
   "nbconvert_exporter": "python",
   "pygments_lexer": "ipython3",
   "version": "3.8.2"
  }
 },
 "nbformat": 4,
 "nbformat_minor": 4
}
